{
  "nbformat": 4,
  "nbformat_minor": 0,
  "metadata": {
    "colab": {
      "name": "RecentVisualization.ipynb",
      "provenance": [],
      "collapsed_sections": [],
      "authorship_tag": "ABX9TyN7gZWE5gucxK+y3Qqxix5p",
      "include_colab_link": true
    },
    "kernelspec": {
      "name": "python3",
      "display_name": "Python 3"
    },
    "language_info": {
      "name": "python"
    }
  },
  "cells": [
    {
      "cell_type": "markdown",
      "metadata": {
        "id": "view-in-github",
        "colab_type": "text"
      },
      "source": [
        "<a href=\"https://colab.research.google.com/github/subin100/DataVisualization/blob/main/RecentVisualization.ipynb\" target=\"_parent\"><img src=\"https://colab.research.google.com/assets/colab-badge.svg\" alt=\"Open In Colab\"/></a>"
      ]
    },
    {
      "cell_type": "markdown",
      "source": [
        "##Subin Manandhar\n",
        "##Data Visualization\n",
        "##Instructor: Dr. Nicholas Jacob"
      ],
      "metadata": {
        "id": "eI9I4Xaybav6"
      }
    },
    {
      "cell_type": "markdown",
      "source": [
        "For recent visualization, I would like to write my project on Liverpool fc's revenue. The graph provided below shows the the revenue of liverpool from 2009/09 season to last season (2020/21). This visualization is graphically excellent because the information provided on the graph is very clear and easy to follow. Three different colors are used in the graph are to show three different category of earinings. \n",
        "\n",
        "It is important because this graph shows how large the sports have grown over the years. It can be cleary seen that revenue from broadcast have rised significatly through the years. The rise has been so much improved that the clubs most earnings are from broadcasting.\n",
        "\n",
        "It is appropriate because this topic shows how the big companies like liverpool's source of earnings have changed over the time. The clubs like Liverpool doesn't rely on match going fans for the major source of revenue anymore. Brodcasting money is at the highest more than ever.\n",
        "\n",
        "In 2020/21 season there is significant drop in the matchday revenue. The has graph failed to explain the reason behind the sudden drop. After some research, I found out that it was because the club didn't sell any tickets that season because of covid. So, in my opinion the graph has failed to clearly communicate with the viewers."
      ],
      "metadata": {
        "id": "OU9M1GdGPLXE"
      }
    },
    {
      "cell_type": "markdown",
      "source": [
        "![Liverpool](https://www.statista.com/graphic/1/251158/revenue-of-liverpool-fc-by-stream.jpg)"
      ],
      "metadata": {
        "id": "jUjcD5ayNpCT"
      }
    },
    {
      "cell_type": "markdown",
      "source": [
        "https://www.forbes.com/teams/liverpool/?sh=127b3a346045\n",
        "\n",
        "https://www.thisisanfield.com/2021/01/liverpool-rise-to-top-5-in-revenue-charts-despite-major-financial-blow-of-empty-anfield/"
      ],
      "metadata": {
        "id": "hYP3F7x6O32c"
      }
    },
    {
      "cell_type": "markdown",
      "source": [
        "In conclusion, as a computer science student, I am happy to learn that the big companies are hugely reliant upon the brodcasting revenue. As we all know that most of the broadcasting outlets are online based. I am a big fan of premier league, so I will learn lot about how clubs operate financially. It would be interisting to learn how much does a finance of gets affected if team fails to perform on the pitch."
      ],
      "metadata": {
        "id": "t0XoJq5YW1pR"
      }
    }
  ]
}