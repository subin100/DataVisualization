{
  "nbformat": 4,
  "nbformat_minor": 0,
  "metadata": {
    "colab": {
      "name": "RecentVisualization.ipynb",
      "provenance": [],
      "collapsed_sections": [],
      "authorship_tag": "ABX9TyMQTPIPQzXaW5aNk9wphJ7z",
      "include_colab_link": true
    },
    "kernelspec": {
      "name": "python3",
      "display_name": "Python 3"
    },
    "language_info": {
      "name": "python"
    }
  },
  "cells": [
    {
      "cell_type": "markdown",
      "metadata": {
        "id": "view-in-github",
        "colab_type": "text"
      },
      "source": [
        "<a href=\"https://colab.research.google.com/github/subin100/DataVisualization/blob/main/RecentVisualization.ipynb\" target=\"_parent\"><img src=\"https://colab.research.google.com/assets/colab-badge.svg\" alt=\"Open In Colab\"/></a>"
      ]
    },
    {
      "cell_type": "markdown",
      "source": [
        "##Subin Manandhar\n",
        "##Data Visualization\n",
        "##Instructor: Dr. Nicholas Jacob"
      ],
      "metadata": {
        "id": "eI9I4Xaybav6"
      }
    },
    {
      "cell_type": "markdown",
      "source": [
        "#Revenue in Sports\n",
        "\n",
        "Revenue in the Sports is the very hot topic in the market these days as sports francises are trying to dominate the business world. According to the article published by Christina Gough in March 1, 2021\n",
        " The statistic shows the sports market size in North America from 2009 to 2018, with forecasts from 2019 to 2023. In 2018, the North American sports market had a value of about 71.06 billion U.S. dollars. This figure is expected to rise to 83.1 billion by 2023. The market is composed of the segments gate revenues, media rights, sponsorships and merchandising. "
      ],
      "metadata": {
        "id": "2FSa9mhNhUa7"
      }
    },
    {
      "cell_type": "markdown",
      "source": [
        "##Why is it important?\n",
        "\n",
        "Good finance is the key to any successful sport franchise. The way funds are managed and the understanding of how one of the succesful clubs in the worlds are managed is the imnportant part to learn as a student. Accounts, planning, organization, risk management and more are some of the vital part to become successful in life. And these topics are included in this topic so this topic is very important for students like us. From this topic I hope to show people ho big sports operate and how money plays a importnat role in the sports and why is it important for students like us to understand revenue in sports."
      ],
      "metadata": {
        "id": "BJpVTlyL1kWn"
      }
    },
    {
      "cell_type": "markdown",
      "source": [
        "##References\n",
        "\n",
        "https://footgoal.pro/top-10-richest-football-clubs-in-the-world-in-2022/\n",
        "\n",
        "https://howmuch.net/articles/sports-leagues-by-revenue\n",
        "\n",
        "https://www.sportseconomics.org/sports-economics/latest-figures-on-participation-in-sport-and-exercise\n",
        "\n",
        "https://theconversation.com/how-and-why-economics-is-taking-over-sports-88574"
      ],
      "metadata": {
        "id": "ijk0gV9S71NW"
      }
    },
    {
      "cell_type": "markdown",
      "source": [
        "![Revenue](https://cdn.howmuch.net/content/images/sports-leagues-by-revenue-9337-c600.jpg)"
      ],
      "metadata": {
        "id": "HCeS1iOPYuVr"
      }
    },
    {
      "cell_type": "markdown",
      "source": [
        "##Description\n",
        "The graph below is the revenue earned by a a top professional sports league. From this graph, you should notice is that the top 5 positions are dominated by American/Canadian sports leagues. Not only are 4 out of the top 5 positions held by American/Canadian leagues, the revenue of these leagues far outpaces all others. The National Football League alone commands $13 billion in revenue, giving it the top spot overall by a huge amount.\n",
        "##Graphical excellence\n",
        "This visualization is graphically excellent because the graph follows some of the major principles of design. The graph is ver well design and presented. The graph gives viewer greatest number of ideas just at the glance. On some research I also found out that this graph provides correct information on revenue of top professional sports league.\n",
        "##Bias\n",
        "In my opinion, this graph is little biased towards american and canadian sports. It is true that NFL enjoys most revenue in the professional sports league but the major earnings of european teams are from european tournament which is champions league. Some major teams in the european league most of their money from the champions league which is not included in this graph."
      ],
      "metadata": {
        "id": "jUni0vub4WKd"
      }
    },
    {
      "cell_type": "markdown",
      "source": [
        "![Liverpool](https://www.statista.com/graphic/1/251158/revenue-of-liverpool-fc-by-stream.jpg)"
      ],
      "metadata": {
        "id": "jUjcD5ayNpCT"
      }
    },
    {
      "cell_type": "markdown",
      "source": [
        "##Description\n",
        "The graph provided below shows the the revenue of liverpool from 2009/09 season to last season (2020/21). It is appropriate because this topic shows how the big companies like liverpool's source of earnings have changed over the time. The clubs like Liverpool doesn't rely on match going fans for the major source of revenue anymore. Brodcasting money is at the highest more than ever.\n",
        "##Graphical Excellence\n",
        "This visualization is graphically excellent because the information provided on the graph is very clear and easy to follow. Three different colors are used in the graph are to show three different category of earinings. It is important because this graph shows how large the sports have grown over the years. It can be cleary seen that revenue from broadcast have rised significatly through the years. The rise has been so much improved that the clubs most earnings are from broadcasting. It is appropriate because this topic shows how the big companies like liverpool's source of earnings have changed over the time. The clubs like Liverpool doesn't rely on match going fans for the major source of revenue anymore. Brodcasting money is at the highest more than ever.\n",
        "##Errors\n",
        "In 2020/21 season there is significant drop in the matchday revenue. The has graph failed to explain the reason behind the sudden drop. After some research, I found out that it was because the club didn't sell any tickets that season because of covid. So, in my opinion the graph has failed to clearly communicate with the viewers."
      ],
      "metadata": {
        "id": "8QRe1I564hP6"
      }
    },
    {
      "cell_type": "markdown",
      "source": [
        "![Clubs](https://footgoal.pro/wp-content/uploads/2022/01/TOP-10-Richest-Football-Clubs.jpg)"
      ],
      "metadata": {
        "id": "e2eX9ZQ6eTbI"
      }
    },
    {
      "cell_type": "markdown",
      "source": [
        "##Description \n",
        "The graph below shows the top 10 richest club in the world in 2022 in terms of revenue. According to the graph, manchester city is the club earning the most in 2022. The list is dominated by english clubs. \n",
        "\n",
        "##Graphical excellence\n",
        "The graph is very simple and easy to follow. The is not much going in the graph so user can enjoy every detail of the graph is very less time. The information provided in the graph is accurate and is not biased to any organization.\n",
        "\n",
        "#Graphical intergrity\n",
        "\n",
        "The information provide in this graph is very vague. You can only tell which club earns the most but connot figure out how much do each clubs earn. The creator also decided to use same color for all the clubs which makes the visual rather dull."
      ],
      "metadata": {
        "id": "HccGT3M24-Uw"
      }
    },
    {
      "cell_type": "markdown",
      "source": [
        "##How Visualization helped Article?\n",
        "\n",
        "The visualization presented have helped to explain the article clearly to the user wht message it wants to provide. The visualization shows how money in sports is alloted in different regions of the world.\n",
        "it is important because this graph shows how large the sports have grown over the years. It can be cleary seen that revenue from broadcast have rised significatly through the years. The rise has been so much improved that the clubs most earnings are from broadcasting. It is appropriate because this topic shows how the big companies source of earnings have changed over the time. The clubs like Liverpool doesn't rely on match going fans for the major source of revenue anymore. Brodcasting money is at the highest more than ever.\n",
        "The visuals also show how much money is involved in the sports these days, the disadvantage of this is that it is making billionares more rich and people like us is spending money into the business because we are emotionally attached to our clubs. So going back to the topic the visulizations will help us understand how money is divided among the sports francise in the world and it will give us the better undesrtanding importance of finance in running successfull finance.\n"
      ],
      "metadata": {
        "id": "HjnHGsZB5RyE"
      }
    },
    {
      "cell_type": "markdown",
      "source": [
        "##Similarities in graphs\n",
        "All the graphs provided above is very similar in terms of what message it wants to convey. All the graphs provided shows is motivated by the revenue in the sports.\n",
        "All the graph shows growth of revenue in sports and \n",
        "The money they are allotted is broken up differently according to region and location. All the visuals shows the power of graphical excellence to engage with the audience. All the graphs show ho much money is involved in the sports and why is it important to the students like us. \n",
        "\n",
        "##Difference in graphs\n",
        "The visuals shows how can the informations be presented to favor a certain organization. Even thogh all three graphs presents the money involve in the sports, in my opinion, users would be more involved in the first graph because of the types of visualizations (images, colors) used. \n",
        "The graph in the top decided to use pictures in the graph to make the graph more interesting whereas the graph in the bottom presented simple bargraph. The colors used in the graphs are also very different, the graph that shows revenue earned by top professional sports used bright colors to get user attention where as the graph that shows liverpool's revenue used dark colors."
      ],
      "metadata": {
        "id": "310AYbGGiA5n"
      }
    },
    {
      "cell_type": "markdown",
      "source": [
        "In conclusion, as a computer science student, I am happy to learn that the big companies are hugely reliant upon the brodcasting revenue. As we all know that most of the broadcasting outlets are online based. I am a big fan of premier league, so I will learn lot about how clubs operate financially. It would be interesting to learn how much does a finance of gets affected if team fails to perform on the pitch."
      ],
      "metadata": {
        "id": "t0XoJq5YW1pR"
      }
    }
  ]
}