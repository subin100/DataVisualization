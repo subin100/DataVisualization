{
  "nbformat": 4,
  "nbformat_minor": 0,
  "metadata": {
    "colab": {
      "name": "Master.ipynb",
      "provenance": [],
      "collapsed_sections": [],
      "authorship_tag": "ABX9TyOSFliFp5s0Aq+X7ssT7gtx",
      "include_colab_link": true
    },
    "kernelspec": {
      "name": "python3",
      "display_name": "Python 3"
    },
    "language_info": {
      "name": "python"
    }
  },
  "cells": [
    {
      "cell_type": "markdown",
      "metadata": {
        "id": "view-in-github",
        "colab_type": "text"
      },
      "source": [
        "<a href=\"https://colab.research.google.com/github/subin100/DataVisualization/blob/main/Master.ipynb\" target=\"_parent\"><img src=\"https://colab.research.google.com/assets/colab-badge.svg\" alt=\"Open In Colab\"/></a>"
      ]
    },
    {
      "cell_type": "markdown",
      "source": [
        "## Subin Manandhar\n",
        "##Data Visualization\n",
        "##Instructor: Dr Nicholas Jacob\n",
        "##Recreating the Masters"
      ],
      "metadata": {
        "id": "8kw5lO27gCa8"
      }
    },
    {
      "cell_type": "markdown",
      "source": [
        "I am going to recreate the graph given below"
      ],
      "metadata": {
        "id": "VFXWV-JRazwa"
      }
    },
    {
      "cell_type": "markdown",
      "source": [
        "![Premier league](https://www.thesun.co.uk/wp-content/uploads/2022/02/jb-graphic-pl-mangers-salaries-v2-1.jpg)"
      ],
      "metadata": {
        "id": "AoD2w15Zaxt8"
      }
    },
    {
      "cell_type": "markdown",
      "source": [
        "Lets import all the resources we required before we begin the project."
      ],
      "metadata": {
        "id": "k6ee5jF9SB-r"
      }
    },
    {
      "cell_type": "code",
      "source": [
        "import requests\n",
        "import pandas as pa\n",
        "import seaborn as sns\n",
        "from bs4 import BeautifulSoup\n",
        "import numpy as np\n",
        "import matplotlib.image as mpimg\n",
        "import matplotlib.pyplot as plt\n"
      ],
      "metadata": {
        "id": "_TT2W0ty8p-C"
      },
      "execution_count": 52,
      "outputs": []
    },
    {
      "cell_type": "code",
      "execution_count": 53,
      "metadata": {
        "colab": {
          "base_uri": "https://localhost:8080/"
        },
        "id": "Hi99Ty-O8ZWR",
        "outputId": "d97625aa-a92b-40fa-eb14-48460a8aadb7"
      },
      "outputs": [
        {
          "output_type": "execute_result",
          "data": {
            "text/plain": [
              "1"
            ]
          },
          "metadata": {},
          "execution_count": 53
        }
      ],
      "source": [
        "r = requests.get('https://www.sportingfree.com/football/premier-league-managers-salaries/')\n",
        "html_contents = r.text\n",
        "html_soup = BeautifulSoup(html_contents,\"lxml\")\n",
        "len(html_soup.find_all('table'))"
      ]
    },
    {
      "cell_type": "code",
      "source": [
        "html_soup.title"
      ],
      "metadata": {
        "colab": {
          "base_uri": "https://localhost:8080/"
        },
        "id": "B8zU8aUP8smD",
        "outputId": "5c2c9d30-e79a-4177-e543-40b262b6b533"
      },
      "execution_count": 54,
      "outputs": [
        {
          "output_type": "execute_result",
          "data": {
            "text/plain": [
              "<title>Premier League Managers Salaries 2022-22: Highest Paid Manager in EPL</title>"
            ]
          },
          "metadata": {},
          "execution_count": 54
        }
      ]
    },
    {
      "cell_type": "markdown",
      "source": [
        "So we got the table we needed for this table.\n",
        "But we have to convert (Base salary) to integer to work on the table because it is in the string format."
      ],
      "metadata": {
        "id": "BWqDkiGfSNXN"
      }
    },
    {
      "cell_type": "code",
      "source": [
        "tables = html_soup.find_all('table')\n",
        "\n",
        "df = pa.read_html(str(tables))[0]\n",
        "df1 = pa.read_html(str(tables))[0]\n",
        "df"
      ],
      "metadata": {
        "colab": {
          "base_uri": "https://localhost:8080/",
          "height": 669
        },
        "id": "SIXTs-4X8vce",
        "outputId": "f58f5b20-6f94-496c-d399-efc379e3cc58"
      },
      "execution_count": 89,
      "outputs": [
        {
          "output_type": "execute_result",
          "data": {
            "text/plain": [
              "                Manager    Base Salary Weekly Wage               Club  \\\n",
              "0         Pep Guardiola    £20 million    £417,500    Manchester City   \n",
              "1          Jürgen Klopp    £15 million    £313,500          Liverpool   \n",
              "2         José Mourinho    £15 million    £313,000          Tottenham   \n",
              "3       Carlo Ancelotti    £11 million    £230,000            Everton   \n",
              "4         Frank Lampard     £8 million    £166,850            Chelsea   \n",
              "5        Marcelo Bielsa     £8 million    £166,660       Leeds United   \n",
              "6   Ole Gunnar Solskjær   £7.8 million    £160,000  Manchester United   \n",
              "7          Mikel Arteta     £5 million    £105,000            Arsenal   \n",
              "8       Brendan Rodgers     £5 million    £105,000     Leicester City   \n",
              "9           Roy Hodgson   £4.5 million     £93,750     Crystal Palace   \n",
              "10         Scott Parker   £3.5 million     £73,000             Fulham   \n",
              "11          David Moyes     £3 million     £62,500           West Ham   \n",
              "12          Steve Bruce  £2.75 million     £57,000   Newcastle United   \n",
              "13  Nuno Espírito Santo     £4 million     £85,000             Wolves   \n",
              "14           Sean Dyche   £2.4 million     £50,000            Burnley   \n",
              "15           Dean Smith   £1.5 million     £31,250        Aston Villa   \n",
              "16        Graham Potter     £1 million     £21,000           Brighton   \n",
              "17     Ralph Hasenhüttl     £1 million     £21,000        Southampton   \n",
              "18         Slaven Bilić       £850,000     £17,700      West Bromwich   \n",
              "19         Chris Wilder       £675,000     £14,000   Sheffield United   \n",
              "\n",
              "    Contract  \n",
              "0       2021  \n",
              "1       2024  \n",
              "2       2023  \n",
              "3       2024  \n",
              "4       2022  \n",
              "5       2022  \n",
              "6       2022  \n",
              "7       2023  \n",
              "8       2025  \n",
              "9       2021  \n",
              "10      2023  \n",
              "11      2021  \n",
              "12      2022  \n",
              "13      2023  \n",
              "14      2022  \n",
              "15      2023  \n",
              "16      2024  \n",
              "17      2024  \n",
              "18      2021  \n",
              "19      2024  "
            ],
            "text/html": [
              "\n",
              "  <div id=\"df-8dcb5bb9-2355-46e2-91fc-639924a1d8cd\">\n",
              "    <div class=\"colab-df-container\">\n",
              "      <div>\n",
              "<style scoped>\n",
              "    .dataframe tbody tr th:only-of-type {\n",
              "        vertical-align: middle;\n",
              "    }\n",
              "\n",
              "    .dataframe tbody tr th {\n",
              "        vertical-align: top;\n",
              "    }\n",
              "\n",
              "    .dataframe thead th {\n",
              "        text-align: right;\n",
              "    }\n",
              "</style>\n",
              "<table border=\"1\" class=\"dataframe\">\n",
              "  <thead>\n",
              "    <tr style=\"text-align: right;\">\n",
              "      <th></th>\n",
              "      <th>Manager</th>\n",
              "      <th>Base Salary</th>\n",
              "      <th>Weekly Wage</th>\n",
              "      <th>Club</th>\n",
              "      <th>Contract</th>\n",
              "    </tr>\n",
              "  </thead>\n",
              "  <tbody>\n",
              "    <tr>\n",
              "      <th>0</th>\n",
              "      <td>Pep Guardiola</td>\n",
              "      <td>£20 million</td>\n",
              "      <td>£417,500</td>\n",
              "      <td>Manchester City</td>\n",
              "      <td>2021</td>\n",
              "    </tr>\n",
              "    <tr>\n",
              "      <th>1</th>\n",
              "      <td>Jürgen Klopp</td>\n",
              "      <td>£15 million</td>\n",
              "      <td>£313,500</td>\n",
              "      <td>Liverpool</td>\n",
              "      <td>2024</td>\n",
              "    </tr>\n",
              "    <tr>\n",
              "      <th>2</th>\n",
              "      <td>José Mourinho</td>\n",
              "      <td>£15 million</td>\n",
              "      <td>£313,000</td>\n",
              "      <td>Tottenham</td>\n",
              "      <td>2023</td>\n",
              "    </tr>\n",
              "    <tr>\n",
              "      <th>3</th>\n",
              "      <td>Carlo Ancelotti</td>\n",
              "      <td>£11 million</td>\n",
              "      <td>£230,000</td>\n",
              "      <td>Everton</td>\n",
              "      <td>2024</td>\n",
              "    </tr>\n",
              "    <tr>\n",
              "      <th>4</th>\n",
              "      <td>Frank Lampard</td>\n",
              "      <td>£8 million</td>\n",
              "      <td>£166,850</td>\n",
              "      <td>Chelsea</td>\n",
              "      <td>2022</td>\n",
              "    </tr>\n",
              "    <tr>\n",
              "      <th>5</th>\n",
              "      <td>Marcelo Bielsa</td>\n",
              "      <td>£8 million</td>\n",
              "      <td>£166,660</td>\n",
              "      <td>Leeds United</td>\n",
              "      <td>2022</td>\n",
              "    </tr>\n",
              "    <tr>\n",
              "      <th>6</th>\n",
              "      <td>Ole Gunnar Solskjær</td>\n",
              "      <td>£7.8 million</td>\n",
              "      <td>£160,000</td>\n",
              "      <td>Manchester United</td>\n",
              "      <td>2022</td>\n",
              "    </tr>\n",
              "    <tr>\n",
              "      <th>7</th>\n",
              "      <td>Mikel Arteta</td>\n",
              "      <td>£5 million</td>\n",
              "      <td>£105,000</td>\n",
              "      <td>Arsenal</td>\n",
              "      <td>2023</td>\n",
              "    </tr>\n",
              "    <tr>\n",
              "      <th>8</th>\n",
              "      <td>Brendan Rodgers</td>\n",
              "      <td>£5 million</td>\n",
              "      <td>£105,000</td>\n",
              "      <td>Leicester City</td>\n",
              "      <td>2025</td>\n",
              "    </tr>\n",
              "    <tr>\n",
              "      <th>9</th>\n",
              "      <td>Roy Hodgson</td>\n",
              "      <td>£4.5 million</td>\n",
              "      <td>£93,750</td>\n",
              "      <td>Crystal Palace</td>\n",
              "      <td>2021</td>\n",
              "    </tr>\n",
              "    <tr>\n",
              "      <th>10</th>\n",
              "      <td>Scott Parker</td>\n",
              "      <td>£3.5 million</td>\n",
              "      <td>£73,000</td>\n",
              "      <td>Fulham</td>\n",
              "      <td>2023</td>\n",
              "    </tr>\n",
              "    <tr>\n",
              "      <th>11</th>\n",
              "      <td>David Moyes</td>\n",
              "      <td>£3 million</td>\n",
              "      <td>£62,500</td>\n",
              "      <td>West Ham</td>\n",
              "      <td>2021</td>\n",
              "    </tr>\n",
              "    <tr>\n",
              "      <th>12</th>\n",
              "      <td>Steve Bruce</td>\n",
              "      <td>£2.75 million</td>\n",
              "      <td>£57,000</td>\n",
              "      <td>Newcastle United</td>\n",
              "      <td>2022</td>\n",
              "    </tr>\n",
              "    <tr>\n",
              "      <th>13</th>\n",
              "      <td>Nuno Espírito Santo</td>\n",
              "      <td>£4 million</td>\n",
              "      <td>£85,000</td>\n",
              "      <td>Wolves</td>\n",
              "      <td>2023</td>\n",
              "    </tr>\n",
              "    <tr>\n",
              "      <th>14</th>\n",
              "      <td>Sean Dyche</td>\n",
              "      <td>£2.4 million</td>\n",
              "      <td>£50,000</td>\n",
              "      <td>Burnley</td>\n",
              "      <td>2022</td>\n",
              "    </tr>\n",
              "    <tr>\n",
              "      <th>15</th>\n",
              "      <td>Dean Smith</td>\n",
              "      <td>£1.5 million</td>\n",
              "      <td>£31,250</td>\n",
              "      <td>Aston Villa</td>\n",
              "      <td>2023</td>\n",
              "    </tr>\n",
              "    <tr>\n",
              "      <th>16</th>\n",
              "      <td>Graham Potter</td>\n",
              "      <td>£1 million</td>\n",
              "      <td>£21,000</td>\n",
              "      <td>Brighton</td>\n",
              "      <td>2024</td>\n",
              "    </tr>\n",
              "    <tr>\n",
              "      <th>17</th>\n",
              "      <td>Ralph Hasenhüttl</td>\n",
              "      <td>£1 million</td>\n",
              "      <td>£21,000</td>\n",
              "      <td>Southampton</td>\n",
              "      <td>2024</td>\n",
              "    </tr>\n",
              "    <tr>\n",
              "      <th>18</th>\n",
              "      <td>Slaven Bilić</td>\n",
              "      <td>£850,000</td>\n",
              "      <td>£17,700</td>\n",
              "      <td>West Bromwich</td>\n",
              "      <td>2021</td>\n",
              "    </tr>\n",
              "    <tr>\n",
              "      <th>19</th>\n",
              "      <td>Chris Wilder</td>\n",
              "      <td>£675,000</td>\n",
              "      <td>£14,000</td>\n",
              "      <td>Sheffield United</td>\n",
              "      <td>2024</td>\n",
              "    </tr>\n",
              "  </tbody>\n",
              "</table>\n",
              "</div>\n",
              "      <button class=\"colab-df-convert\" onclick=\"convertToInteractive('df-8dcb5bb9-2355-46e2-91fc-639924a1d8cd')\"\n",
              "              title=\"Convert this dataframe to an interactive table.\"\n",
              "              style=\"display:none;\">\n",
              "        \n",
              "  <svg xmlns=\"http://www.w3.org/2000/svg\" height=\"24px\"viewBox=\"0 0 24 24\"\n",
              "       width=\"24px\">\n",
              "    <path d=\"M0 0h24v24H0V0z\" fill=\"none\"/>\n",
              "    <path d=\"M18.56 5.44l.94 2.06.94-2.06 2.06-.94-2.06-.94-.94-2.06-.94 2.06-2.06.94zm-11 1L8.5 8.5l.94-2.06 2.06-.94-2.06-.94L8.5 2.5l-.94 2.06-2.06.94zm10 10l.94 2.06.94-2.06 2.06-.94-2.06-.94-.94-2.06-.94 2.06-2.06.94z\"/><path d=\"M17.41 7.96l-1.37-1.37c-.4-.4-.92-.59-1.43-.59-.52 0-1.04.2-1.43.59L10.3 9.45l-7.72 7.72c-.78.78-.78 2.05 0 2.83L4 21.41c.39.39.9.59 1.41.59.51 0 1.02-.2 1.41-.59l7.78-7.78 2.81-2.81c.8-.78.8-2.07 0-2.86zM5.41 20L4 18.59l7.72-7.72 1.47 1.35L5.41 20z\"/>\n",
              "  </svg>\n",
              "      </button>\n",
              "      \n",
              "  <style>\n",
              "    .colab-df-container {\n",
              "      display:flex;\n",
              "      flex-wrap:wrap;\n",
              "      gap: 12px;\n",
              "    }\n",
              "\n",
              "    .colab-df-convert {\n",
              "      background-color: #E8F0FE;\n",
              "      border: none;\n",
              "      border-radius: 50%;\n",
              "      cursor: pointer;\n",
              "      display: none;\n",
              "      fill: #1967D2;\n",
              "      height: 32px;\n",
              "      padding: 0 0 0 0;\n",
              "      width: 32px;\n",
              "    }\n",
              "\n",
              "    .colab-df-convert:hover {\n",
              "      background-color: #E2EBFA;\n",
              "      box-shadow: 0px 1px 2px rgba(60, 64, 67, 0.3), 0px 1px 3px 1px rgba(60, 64, 67, 0.15);\n",
              "      fill: #174EA6;\n",
              "    }\n",
              "\n",
              "    [theme=dark] .colab-df-convert {\n",
              "      background-color: #3B4455;\n",
              "      fill: #D2E3FC;\n",
              "    }\n",
              "\n",
              "    [theme=dark] .colab-df-convert:hover {\n",
              "      background-color: #434B5C;\n",
              "      box-shadow: 0px 1px 3px 1px rgba(0, 0, 0, 0.15);\n",
              "      filter: drop-shadow(0px 1px 2px rgba(0, 0, 0, 0.3));\n",
              "      fill: #FFFFFF;\n",
              "    }\n",
              "  </style>\n",
              "\n",
              "      <script>\n",
              "        const buttonEl =\n",
              "          document.querySelector('#df-8dcb5bb9-2355-46e2-91fc-639924a1d8cd button.colab-df-convert');\n",
              "        buttonEl.style.display =\n",
              "          google.colab.kernel.accessAllowed ? 'block' : 'none';\n",
              "\n",
              "        async function convertToInteractive(key) {\n",
              "          const element = document.querySelector('#df-8dcb5bb9-2355-46e2-91fc-639924a1d8cd');\n",
              "          const dataTable =\n",
              "            await google.colab.kernel.invokeFunction('convertToInteractive',\n",
              "                                                     [key], {});\n",
              "          if (!dataTable) return;\n",
              "\n",
              "          const docLinkHtml = 'Like what you see? Visit the ' +\n",
              "            '<a target=\"_blank\" href=https://colab.research.google.com/notebooks/data_table.ipynb>data table notebook</a>'\n",
              "            + ' to learn more about interactive tables.';\n",
              "          element.innerHTML = '';\n",
              "          dataTable['output_type'] = 'display_data';\n",
              "          await google.colab.output.renderOutput(dataTable, element);\n",
              "          const docLink = document.createElement('div');\n",
              "          docLink.innerHTML = docLinkHtml;\n",
              "          element.appendChild(docLink);\n",
              "        }\n",
              "      </script>\n",
              "    </div>\n",
              "  </div>\n",
              "  "
            ]
          },
          "metadata": {},
          "execution_count": 89
        }
      ]
    },
    {
      "cell_type": "markdown",
      "source": [
        "Checking data types of all the columns"
      ],
      "metadata": {
        "id": "AcujJhZZSfmN"
      }
    },
    {
      "cell_type": "code",
      "source": [
        "df.columns"
      ],
      "metadata": {
        "colab": {
          "base_uri": "https://localhost:8080/"
        },
        "id": "Hg_ptWoTPWCP",
        "outputId": "50cff570-eac7-45a7-ec35-d13f814c65ad"
      },
      "execution_count": 90,
      "outputs": [
        {
          "output_type": "execute_result",
          "data": {
            "text/plain": [
              "Index(['Manager', 'Base Salary', 'Weekly Wage', 'Club', 'Contract'], dtype='object')"
            ]
          },
          "metadata": {},
          "execution_count": 90
        }
      ]
    },
    {
      "cell_type": "markdown",
      "source": [
        "Now lets remove £ and ',' from base salary and then change the data type to float."
      ],
      "metadata": {
        "id": "9oite8iXSjTP"
      }
    },
    {
      "cell_type": "code",
      "source": [
        "df1['Base Salary'] = df1['Base Salary'].str.replace('£','').str.replace(',','').str.replace('million','')\n",
        "df1['Base Salary'] = pd.to_numeric(df1['Base Salary'])\n",
        "\n",
        "df1"
      ],
      "metadata": {
        "colab": {
          "base_uri": "https://localhost:8080/",
          "height": 669
        },
        "id": "gVsWzkCQP4SP",
        "outputId": "cba8c7ae-746d-4867-e21d-380f82e0f28b"
      },
      "execution_count": 91,
      "outputs": [
        {
          "output_type": "execute_result",
          "data": {
            "text/plain": [
              "                Manager  Base Salary Weekly Wage               Club  Contract\n",
              "0         Pep Guardiola        20.00    £417,500    Manchester City      2021\n",
              "1          Jürgen Klopp        15.00    £313,500          Liverpool      2024\n",
              "2         José Mourinho        15.00    £313,000          Tottenham      2023\n",
              "3       Carlo Ancelotti        11.00    £230,000            Everton      2024\n",
              "4         Frank Lampard         8.00    £166,850            Chelsea      2022\n",
              "5        Marcelo Bielsa         8.00    £166,660       Leeds United      2022\n",
              "6   Ole Gunnar Solskjær         7.80    £160,000  Manchester United      2022\n",
              "7          Mikel Arteta         5.00    £105,000            Arsenal      2023\n",
              "8       Brendan Rodgers         5.00    £105,000     Leicester City      2025\n",
              "9           Roy Hodgson         4.50     £93,750     Crystal Palace      2021\n",
              "10         Scott Parker         3.50     £73,000             Fulham      2023\n",
              "11          David Moyes         3.00     £62,500           West Ham      2021\n",
              "12          Steve Bruce         2.75     £57,000   Newcastle United      2022\n",
              "13  Nuno Espírito Santo         4.00     £85,000             Wolves      2023\n",
              "14           Sean Dyche         2.40     £50,000            Burnley      2022\n",
              "15           Dean Smith         1.50     £31,250        Aston Villa      2023\n",
              "16        Graham Potter         1.00     £21,000           Brighton      2024\n",
              "17     Ralph Hasenhüttl         1.00     £21,000        Southampton      2024\n",
              "18         Slaven Bilić    850000.00     £17,700      West Bromwich      2021\n",
              "19         Chris Wilder    675000.00     £14,000   Sheffield United      2024"
            ],
            "text/html": [
              "\n",
              "  <div id=\"df-250eeb0d-b651-4e69-86cc-2e22a5a25471\">\n",
              "    <div class=\"colab-df-container\">\n",
              "      <div>\n",
              "<style scoped>\n",
              "    .dataframe tbody tr th:only-of-type {\n",
              "        vertical-align: middle;\n",
              "    }\n",
              "\n",
              "    .dataframe tbody tr th {\n",
              "        vertical-align: top;\n",
              "    }\n",
              "\n",
              "    .dataframe thead th {\n",
              "        text-align: right;\n",
              "    }\n",
              "</style>\n",
              "<table border=\"1\" class=\"dataframe\">\n",
              "  <thead>\n",
              "    <tr style=\"text-align: right;\">\n",
              "      <th></th>\n",
              "      <th>Manager</th>\n",
              "      <th>Base Salary</th>\n",
              "      <th>Weekly Wage</th>\n",
              "      <th>Club</th>\n",
              "      <th>Contract</th>\n",
              "    </tr>\n",
              "  </thead>\n",
              "  <tbody>\n",
              "    <tr>\n",
              "      <th>0</th>\n",
              "      <td>Pep Guardiola</td>\n",
              "      <td>20.00</td>\n",
              "      <td>£417,500</td>\n",
              "      <td>Manchester City</td>\n",
              "      <td>2021</td>\n",
              "    </tr>\n",
              "    <tr>\n",
              "      <th>1</th>\n",
              "      <td>Jürgen Klopp</td>\n",
              "      <td>15.00</td>\n",
              "      <td>£313,500</td>\n",
              "      <td>Liverpool</td>\n",
              "      <td>2024</td>\n",
              "    </tr>\n",
              "    <tr>\n",
              "      <th>2</th>\n",
              "      <td>José Mourinho</td>\n",
              "      <td>15.00</td>\n",
              "      <td>£313,000</td>\n",
              "      <td>Tottenham</td>\n",
              "      <td>2023</td>\n",
              "    </tr>\n",
              "    <tr>\n",
              "      <th>3</th>\n",
              "      <td>Carlo Ancelotti</td>\n",
              "      <td>11.00</td>\n",
              "      <td>£230,000</td>\n",
              "      <td>Everton</td>\n",
              "      <td>2024</td>\n",
              "    </tr>\n",
              "    <tr>\n",
              "      <th>4</th>\n",
              "      <td>Frank Lampard</td>\n",
              "      <td>8.00</td>\n",
              "      <td>£166,850</td>\n",
              "      <td>Chelsea</td>\n",
              "      <td>2022</td>\n",
              "    </tr>\n",
              "    <tr>\n",
              "      <th>5</th>\n",
              "      <td>Marcelo Bielsa</td>\n",
              "      <td>8.00</td>\n",
              "      <td>£166,660</td>\n",
              "      <td>Leeds United</td>\n",
              "      <td>2022</td>\n",
              "    </tr>\n",
              "    <tr>\n",
              "      <th>6</th>\n",
              "      <td>Ole Gunnar Solskjær</td>\n",
              "      <td>7.80</td>\n",
              "      <td>£160,000</td>\n",
              "      <td>Manchester United</td>\n",
              "      <td>2022</td>\n",
              "    </tr>\n",
              "    <tr>\n",
              "      <th>7</th>\n",
              "      <td>Mikel Arteta</td>\n",
              "      <td>5.00</td>\n",
              "      <td>£105,000</td>\n",
              "      <td>Arsenal</td>\n",
              "      <td>2023</td>\n",
              "    </tr>\n",
              "    <tr>\n",
              "      <th>8</th>\n",
              "      <td>Brendan Rodgers</td>\n",
              "      <td>5.00</td>\n",
              "      <td>£105,000</td>\n",
              "      <td>Leicester City</td>\n",
              "      <td>2025</td>\n",
              "    </tr>\n",
              "    <tr>\n",
              "      <th>9</th>\n",
              "      <td>Roy Hodgson</td>\n",
              "      <td>4.50</td>\n",
              "      <td>£93,750</td>\n",
              "      <td>Crystal Palace</td>\n",
              "      <td>2021</td>\n",
              "    </tr>\n",
              "    <tr>\n",
              "      <th>10</th>\n",
              "      <td>Scott Parker</td>\n",
              "      <td>3.50</td>\n",
              "      <td>£73,000</td>\n",
              "      <td>Fulham</td>\n",
              "      <td>2023</td>\n",
              "    </tr>\n",
              "    <tr>\n",
              "      <th>11</th>\n",
              "      <td>David Moyes</td>\n",
              "      <td>3.00</td>\n",
              "      <td>£62,500</td>\n",
              "      <td>West Ham</td>\n",
              "      <td>2021</td>\n",
              "    </tr>\n",
              "    <tr>\n",
              "      <th>12</th>\n",
              "      <td>Steve Bruce</td>\n",
              "      <td>2.75</td>\n",
              "      <td>£57,000</td>\n",
              "      <td>Newcastle United</td>\n",
              "      <td>2022</td>\n",
              "    </tr>\n",
              "    <tr>\n",
              "      <th>13</th>\n",
              "      <td>Nuno Espírito Santo</td>\n",
              "      <td>4.00</td>\n",
              "      <td>£85,000</td>\n",
              "      <td>Wolves</td>\n",
              "      <td>2023</td>\n",
              "    </tr>\n",
              "    <tr>\n",
              "      <th>14</th>\n",
              "      <td>Sean Dyche</td>\n",
              "      <td>2.40</td>\n",
              "      <td>£50,000</td>\n",
              "      <td>Burnley</td>\n",
              "      <td>2022</td>\n",
              "    </tr>\n",
              "    <tr>\n",
              "      <th>15</th>\n",
              "      <td>Dean Smith</td>\n",
              "      <td>1.50</td>\n",
              "      <td>£31,250</td>\n",
              "      <td>Aston Villa</td>\n",
              "      <td>2023</td>\n",
              "    </tr>\n",
              "    <tr>\n",
              "      <th>16</th>\n",
              "      <td>Graham Potter</td>\n",
              "      <td>1.00</td>\n",
              "      <td>£21,000</td>\n",
              "      <td>Brighton</td>\n",
              "      <td>2024</td>\n",
              "    </tr>\n",
              "    <tr>\n",
              "      <th>17</th>\n",
              "      <td>Ralph Hasenhüttl</td>\n",
              "      <td>1.00</td>\n",
              "      <td>£21,000</td>\n",
              "      <td>Southampton</td>\n",
              "      <td>2024</td>\n",
              "    </tr>\n",
              "    <tr>\n",
              "      <th>18</th>\n",
              "      <td>Slaven Bilić</td>\n",
              "      <td>850000.00</td>\n",
              "      <td>£17,700</td>\n",
              "      <td>West Bromwich</td>\n",
              "      <td>2021</td>\n",
              "    </tr>\n",
              "    <tr>\n",
              "      <th>19</th>\n",
              "      <td>Chris Wilder</td>\n",
              "      <td>675000.00</td>\n",
              "      <td>£14,000</td>\n",
              "      <td>Sheffield United</td>\n",
              "      <td>2024</td>\n",
              "    </tr>\n",
              "  </tbody>\n",
              "</table>\n",
              "</div>\n",
              "      <button class=\"colab-df-convert\" onclick=\"convertToInteractive('df-250eeb0d-b651-4e69-86cc-2e22a5a25471')\"\n",
              "              title=\"Convert this dataframe to an interactive table.\"\n",
              "              style=\"display:none;\">\n",
              "        \n",
              "  <svg xmlns=\"http://www.w3.org/2000/svg\" height=\"24px\"viewBox=\"0 0 24 24\"\n",
              "       width=\"24px\">\n",
              "    <path d=\"M0 0h24v24H0V0z\" fill=\"none\"/>\n",
              "    <path d=\"M18.56 5.44l.94 2.06.94-2.06 2.06-.94-2.06-.94-.94-2.06-.94 2.06-2.06.94zm-11 1L8.5 8.5l.94-2.06 2.06-.94-2.06-.94L8.5 2.5l-.94 2.06-2.06.94zm10 10l.94 2.06.94-2.06 2.06-.94-2.06-.94-.94-2.06-.94 2.06-2.06.94z\"/><path d=\"M17.41 7.96l-1.37-1.37c-.4-.4-.92-.59-1.43-.59-.52 0-1.04.2-1.43.59L10.3 9.45l-7.72 7.72c-.78.78-.78 2.05 0 2.83L4 21.41c.39.39.9.59 1.41.59.51 0 1.02-.2 1.41-.59l7.78-7.78 2.81-2.81c.8-.78.8-2.07 0-2.86zM5.41 20L4 18.59l7.72-7.72 1.47 1.35L5.41 20z\"/>\n",
              "  </svg>\n",
              "      </button>\n",
              "      \n",
              "  <style>\n",
              "    .colab-df-container {\n",
              "      display:flex;\n",
              "      flex-wrap:wrap;\n",
              "      gap: 12px;\n",
              "    }\n",
              "\n",
              "    .colab-df-convert {\n",
              "      background-color: #E8F0FE;\n",
              "      border: none;\n",
              "      border-radius: 50%;\n",
              "      cursor: pointer;\n",
              "      display: none;\n",
              "      fill: #1967D2;\n",
              "      height: 32px;\n",
              "      padding: 0 0 0 0;\n",
              "      width: 32px;\n",
              "    }\n",
              "\n",
              "    .colab-df-convert:hover {\n",
              "      background-color: #E2EBFA;\n",
              "      box-shadow: 0px 1px 2px rgba(60, 64, 67, 0.3), 0px 1px 3px 1px rgba(60, 64, 67, 0.15);\n",
              "      fill: #174EA6;\n",
              "    }\n",
              "\n",
              "    [theme=dark] .colab-df-convert {\n",
              "      background-color: #3B4455;\n",
              "      fill: #D2E3FC;\n",
              "    }\n",
              "\n",
              "    [theme=dark] .colab-df-convert:hover {\n",
              "      background-color: #434B5C;\n",
              "      box-shadow: 0px 1px 3px 1px rgba(0, 0, 0, 0.15);\n",
              "      filter: drop-shadow(0px 1px 2px rgba(0, 0, 0, 0.3));\n",
              "      fill: #FFFFFF;\n",
              "    }\n",
              "  </style>\n",
              "\n",
              "      <script>\n",
              "        const buttonEl =\n",
              "          document.querySelector('#df-250eeb0d-b651-4e69-86cc-2e22a5a25471 button.colab-df-convert');\n",
              "        buttonEl.style.display =\n",
              "          google.colab.kernel.accessAllowed ? 'block' : 'none';\n",
              "\n",
              "        async function convertToInteractive(key) {\n",
              "          const element = document.querySelector('#df-250eeb0d-b651-4e69-86cc-2e22a5a25471');\n",
              "          const dataTable =\n",
              "            await google.colab.kernel.invokeFunction('convertToInteractive',\n",
              "                                                     [key], {});\n",
              "          if (!dataTable) return;\n",
              "\n",
              "          const docLinkHtml = 'Like what you see? Visit the ' +\n",
              "            '<a target=\"_blank\" href=https://colab.research.google.com/notebooks/data_table.ipynb>data table notebook</a>'\n",
              "            + ' to learn more about interactive tables.';\n",
              "          element.innerHTML = '';\n",
              "          dataTable['output_type'] = 'display_data';\n",
              "          await google.colab.output.renderOutput(dataTable, element);\n",
              "          const docLink = document.createElement('div');\n",
              "          docLink.innerHTML = docLinkHtml;\n",
              "          element.appendChild(docLink);\n",
              "        }\n",
              "      </script>\n",
              "    </div>\n",
              "  </div>\n",
              "  "
            ]
          },
          "metadata": {},
          "execution_count": 91
        }
      ]
    },
    {
      "cell_type": "code",
      "source": [
        "df1.dtypes"
      ],
      "metadata": {
        "colab": {
          "base_uri": "https://localhost:8080/"
        },
        "id": "qimSSmCvZTYL",
        "outputId": "53ebc3ee-d1b5-47b1-d4f2-385d428e84ed"
      },
      "execution_count": 83,
      "outputs": [
        {
          "output_type": "execute_result",
          "data": {
            "text/plain": [
              "Manager         object\n",
              "Base Salary    float64\n",
              "Weekly Wage     object\n",
              "Club            object\n",
              "Contract         int64\n",
              "dtype: object"
            ]
          },
          "metadata": {},
          "execution_count": 83
        }
      ]
    },
    {
      "cell_type": "markdown",
      "source": [
        "It worked as we can see data type of Weekly wage is converted to int"
      ],
      "metadata": {
        "id": "vk-1I2iZZZem"
      }
    },
    {
      "cell_type": "markdown",
      "source": [
        "I am going to drop column 18 and 19 because it is creating lots of problems when plotted in graph because their base salary is not in millions.\n",
        "I might make it work for my final project though."
      ],
      "metadata": {
        "id": "LnXnbSAibYY5"
      }
    },
    {
      "cell_type": "code",
      "source": [
        "df1 = df1.drop([18,19])"
      ],
      "metadata": {
        "id": "fe1XYeSwZI97"
      },
      "execution_count": 92,
      "outputs": []
    },
    {
      "cell_type": "code",
      "source": [
        "ax = sns.barplot(data = df1 , x= 'Base Salary', y= \"Manager\", hue_order= None )\n",
        "sns.set(rc={'figure.figsize':(15,15)})\n",
        "ax.set_title('PL MANAGERS` SALARIES')\n",
        "plt.show()"
      ],
      "metadata": {
        "colab": {
          "base_uri": "https://localhost:8080/",
          "height": 899
        },
        "id": "JJXrXk1Ud2aD",
        "outputId": "4e75b746-f957-4d2f-bb02-d367f0dd7593"
      },
      "execution_count": 107,
      "outputs": [
        {
          "output_type": "display_data",
          "data": {
            "text/plain": [
              "<Figure size 1080x1080 with 1 Axes>"
            ],
            "image/png": "[encoded data removed]"
          },
          "metadata": {}
        }
      ]
    }
  ]
}