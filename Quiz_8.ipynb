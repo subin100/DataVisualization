{
  "nbformat": 4,
  "nbformat_minor": 0,
  "metadata": {
    "colab": {
      "name": "Quiz 8.ipynb",
      "provenance": [],
      "authorship_tag": "ABX9TyM76U0RDiBR5u9NrqAU1B1Z",
      "include_colab_link": true
    },
    "kernelspec": {
      "name": "python3",
      "display_name": "Python 3"
    },
    "language_info": {
      "name": "python"
    }
  },
  "cells": [
    {
      "cell_type": "markdown",
      "metadata": {
        "id": "view-in-github",
        "colab_type": "text"
      },
      "source": [
        "<a href=\"https://colab.research.google.com/github/subin100/DataVisualization/blob/main/Quiz_8.ipynb\" target=\"_parent\"><img src=\"https://colab.research.google.com/assets/colab-badge.svg\" alt=\"Open In Colab\"/></a>"
      ]
    },
    {
      "cell_type": "markdown",
      "source": [
        "First we have to read and parse html.So, requests is going to gather the raw html and BeautifulSoup will help me parse the code."
      ],
      "metadata": {
        "id": "-j-7YxwUMDXX"
      }
    },
    {
      "cell_type": "code",
      "execution_count": 1,
      "metadata": {
        "id": "wQsQfYQ1K1Xq"
      },
      "outputs": [],
      "source": [
        "import requests\n",
        "import pandas as pa\n",
        "from bs4 import BeautifulSoup"
      ]
    },
    {
      "cell_type": "markdown",
      "source": [
        "I am a big fan of Arsenal Football Club. So I am going to look at the wikipedia of the club."
      ],
      "metadata": {
        "id": "XYQHVmZAMUhf"
      }
    },
    {
      "cell_type": "code",
      "source": [
        "r = requests.get('https://en.wikipedia.org/wiki/Arsenal_F.C.')\n",
        "html_contents = r.text\n",
        "html_soup = BeautifulSoup(html_contents,\"lxml\")\n",
        "#html_soup"
      ],
      "metadata": {
        "id": "cZ297vzzLKi-"
      },
      "execution_count": 2,
      "outputs": []
    },
    {
      "cell_type": "markdown",
      "source": [
        "1. Display the title for the page"
      ],
      "metadata": {
        "id": "PwpXu9THMqHE"
      }
    },
    {
      "cell_type": "code",
      "source": [
        "html_soup.title"
      ],
      "metadata": {
        "colab": {
          "base_uri": "https://localhost:8080/"
        },
        "id": "w9x5f3YDLoLk",
        "outputId": "a11abfe5-ce92-4e7a-e75c-7555ee4334ea"
      },
      "execution_count": 3,
      "outputs": [
        {
          "output_type": "execute_result",
          "data": {
            "text/plain": [
              "<title>Arsenal F.C. - Wikipedia</title>"
            ]
          },
          "metadata": {},
          "execution_count": 3
        }
      ]
    },
    {
      "cell_type": "markdown",
      "source": [
        "2. Within an interesting table, retrieve all links and store them in a list"
      ],
      "metadata": {
        "id": "Xu7EFrzqMwDM"
      }
    },
    {
      "cell_type": "code",
      "source": [
        "links = html_soup.table.find_all('a')\n",
        "listOfURLS = []\n",
        "\n",
        "for link in links:\n",
        "  listOfURLS.append('https://en.wikipedia.org' + link['href'])\n",
        "\n",
        "listOfURLS"
      ],
      "metadata": {
        "colab": {
          "base_uri": "https://localhost:8080/"
        },
        "id": "6LV0q-mTLp7z",
        "outputId": "18ee8ab7-1560-4893-b148-c196ebed2e44"
      },
      "execution_count": 4,
      "outputs": [
        {
          "output_type": "execute_result",
          "data": {
            "text/plain": [
              "['https://en.wikipedia.org/wiki/File:Arsenal_FC.svg',\n",
              " 'https://en.wikipedia.org#cite_note-1',\n",
              " 'https://en.wikipedia.org#cite_note-2',\n",
              " 'https://en.wikipedia.org#cite_note-3',\n",
              " 'https://en.wikipedia.org#cite_note-dialsquare-4',\n",
              " 'https://en.wikipedia.org/wiki/Emirates_Stadium',\n",
              " 'https://en.wikipedia.org#cite_note-cap2021-5',\n",
              " 'https://en.wikipedia.org/wiki/Kroenke_Sports_%26_Entertainment',\n",
              " 'https://en.wikipedia.org/wiki/Mikel_Arteta',\n",
              " 'https://en.wikipedia.org/wiki/Premier_League',\n",
              " 'https://en.wikipedia.org/wiki/2020%E2%80%9321_Premier_League',\n",
              " 'https://en.wikipedia.org/wiki/Premier_League',\n",
              " 'https://en.wikipedia.orghttps://www.arsenal.com',\n",
              " 'https://en.wikipedia.org/wiki/Kit_(association_football)',\n",
              " 'https://en.wikipedia.org/wiki/Away_colours',\n",
              " 'https://en.wikipedia.org/wiki/Third_jersey',\n",
              " 'https://en.wikipedia.org/wiki/2021%E2%80%9322_Arsenal_F.C._season']"
            ]
          },
          "metadata": {},
          "execution_count": 4
        }
      ]
    },
    {
      "cell_type": "markdown",
      "source": [
        "So here we put all the link in the links and then looped it to display all the links by using for loop."
      ],
      "metadata": {
        "id": "3qSTE0qyOB_W"
      }
    }
  ]
}