{
  "nbformat": 4,
  "nbformat_minor": 0,
  "metadata": {
    "colab": {
      "name": "Exam3.ipynb",
      "provenance": [],
      "collapsed_sections": [],
      "authorship_tag": "ABX9TyNHIXlPKd7UHJtAJZxS9WyW",
      "include_colab_link": true
    },
    "kernelspec": {
      "name": "python3",
      "display_name": "Python 3"
    },
    "language_info": {
      "name": "python"
    }
  },
  "cells": [
    {
      "cell_type": "markdown",
      "metadata": {
        "id": "view-in-github",
        "colab_type": "text"
      },
      "source": [
        "<a href=\"https://colab.research.google.com/github/subin100/DataVisualization/blob/main/Exam3.ipynb\" target=\"_parent\"><img src=\"https://colab.research.google.com/assets/colab-badge.svg\" alt=\"Open In Colab\"/></a>"
      ]
    },
    {
      "cell_type": "markdown",
      "source": [
        "##Subin Manandhar\n",
        "##Data Visualization (CPSMA 4313)\n",
        "##Instructor: Dr Nicholas Jacob\n",
        "##April 18, 2022\n",
        "##Exam 3"
      ],
      "metadata": {
        "id": "tt0kPbPbRJ6E"
      }
    },
    {
      "cell_type": "markdown",
      "source": [
        "###Resources\n",
        "\n",
        "https://github.com/nurfnick/Data_Viz\n",
        "\n",
        "https://github.com/subin100/DataVisualization\n",
        "\n",
        "https://pandas.pydata.org/docs/reference/api/pandas.Series.str.contains.html\n",
        "\n",
        "“I attest that the resources above were the only ones utilized in completing the exam and the work included is my own and no one else from the course.”\n",
        "\n"
      ],
      "metadata": {
        "id": "Xk-yBmQGT56P"
      }
    },
    {
      "cell_type": "markdown",
      "source": [
        "##1."
      ],
      "metadata": {
        "id": "54uDsbEGT-a8"
      }
    },
    {
      "cell_type": "markdown",
      "source": [
        "###a. Store the data as a pandas dataframe. Find your favorite ‘club’ or ‘nationality’ (that is present in the data!), include a picture that represents them and include it in your notebook."
      ],
      "metadata": {
        "id": "UDJlA3uwzYxg"
      }
    },
    {
      "cell_type": "code",
      "source": [
        "import pandas as pa\n",
        "import matplotlib.pyplot as plt\n",
        "import seaborn as sns\n",
        "df = pa.read_csv('https://raw.githubusercontent.com/nurfnick/Data_Viz/main/worldCupPlayer.csv')"
      ],
      "metadata": {
        "id": "BQKZ3MStulXs"
      },
      "execution_count": 12,
      "outputs": []
    },
    {
      "cell_type": "code",
      "source": [
        "df['club'].str.contains('Arsenal').any()"
      ],
      "metadata": {
        "colab": {
          "base_uri": "https://localhost:8080/"
        },
        "id": "2b2XNN0Wu_zt",
        "outputId": "6cd619b3-4697-4dfc-c2cd-2efc94786bbd"
      },
      "execution_count": 13,
      "outputs": [
        {
          "output_type": "execute_result",
          "data": {
            "text/plain": [
              "True"
            ]
          },
          "metadata": {},
          "execution_count": 13
        }
      ]
    },
    {
      "cell_type": "markdown",
      "source": [
        "![Arsenal](https://www.logolynx.com/images/logolynx/3e/3eb9927c65b8b29ff922ca45c752f96d.jpeg)"
      ],
      "metadata": {
        "id": "wxDSiB6AzhOW"
      }
    },
    {
      "cell_type": "markdown",
      "source": [
        "I pulled up a picture of my favourite club from a club website. \n",
        "I used str.contains to check if the club is present in the dataset."
      ],
      "metadata": {
        "id": "QWqSHVjiR4Hb"
      }
    },
    {
      "cell_type": "markdown",
      "source": [
        "###b. Show a table with all the data about your favorite club or nationality. Include some description about an interesting fact in the data."
      ],
      "metadata": {
        "id": "2wXcI8G40Vfp"
      }
    },
    {
      "cell_type": "code",
      "source": [
        "df1 = df[df['club'].str.contains('Arsenal')]\n",
        "df1"
      ],
      "metadata": {
        "colab": {
          "base_uri": "https://localhost:8080/",
          "height": 483
        },
        "id": "-txhSSuFvwSV",
        "outputId": "2b1d5010-1206-4fe1-96a7-7eabd3c2fe5e"
      },
      "execution_count": 14,
      "outputs": [
        {
          "output_type": "execute_result",
          "data": {
            "text/plain": [
              "     Unnamed: 0  Rank            player          club  age    Apps  Mins  \\\n",
              "35           66    12        Mesut Ozil       Arsenal   29       7   609   \n",
              "36           68    23        Mesut Ozil       Arsenal   29   24(2)  2164   \n",
              "45           86    31      Granit Xhaka       Arsenal   25    5(1)   495   \n",
              "46           88    62      Granit Xhaka       Arsenal   25   37(1)  3266   \n",
              "54          103    39     Danny Welbeck       Arsenal   27    9(1)   762   \n",
              "55          105   250     Danny Welbeck       Arsenal   27  12(16)  1185   \n",
              "68          131    93    Olivier Giroud       Arsenal   31       6   540   \n",
              "110         213   195    Mohamed Elneny       Arsenal   25    9(3)   838   \n",
              "117         227   218     Nacho Monreal       Arsenal   32       7   613   \n",
              "118         229    35     Nacho Monreal       Arsenal   32   26(2)  2244   \n",
              "120         233   240      David Ospina       Arsenal   29      10   900   \n",
              "135         263   317        Alex Iwobi       Arsenal   22    3(3)   335   \n",
              "136         265   103        Alex Iwobi       Arsenal   22   22(4)  1844   \n",
              "271         526   228  Vladimir Gabulov  Arsenal Tula   34      20  1800   \n",
              "\n",
              "     Goals  Assists  Yel  Red  SpG    PS AerialsWon  MotM  Rating  nationality  \n",
              "35       1        4    0    0    1  86.4          -     1    7.70      Germany  \n",
              "36       4        8    4    0  1.5  86.5          -     2    7.25      Germany  \n",
              "45       1        0    1    0  1.2  91.2        1.5     0    7.47  Switzerland  \n",
              "46       1        7   10    0  1.7  86.9        1.3     0    7.02  Switzerland  \n",
              "54       3        0    0    0  2.1  84.8        1.6     1    7.42      England  \n",
              "55       5        2    1    0  1.1  79.8        0.9     2    6.52      England  \n",
              "68       3        0    0    0  4.2  64.7        2.3     0    7.21       France  \n",
              "110      1        2    0    0  0.8  93.5        0.3     1    7.01        Egypt  \n",
              "117      1        0    2    0  0.9  87.3        1.6     0    6.97        Spain  \n",
              "118      5        2    3    0  0.8  89.5        2.2     2    7.13        Spain  \n",
              "120      0        0    0    0    -  74.0        0.1     1    6.94     Colombia  \n",
              "135      0        1    0    0  1.3  87.3        0.2     0    6.83      Nigeria  \n",
              "136      3        5    1    0  1.7  86.6        0.1     0    6.88      Nigeria  \n",
              "271      0        0    2    0    -  41.8        0.1     0    6.30       Russia  "
            ],
            "text/html": [
              "\n",
              "  <div id=\"df-262628c0-67dc-4272-8633-497511cbc8b7\">\n",
              "    <div class=\"colab-df-container\">\n",
              "      <div>\n",
              "<style scoped>\n",
              "    .dataframe tbody tr th:only-of-type {\n",
              "        vertical-align: middle;\n",
              "    }\n",
              "\n",
              "    .dataframe tbody tr th {\n",
              "        vertical-align: top;\n",
              "    }\n",
              "\n",
              "    .dataframe thead th {\n",
              "        text-align: right;\n",
              "    }\n",
              "</style>\n",
              "<table border=\"1\" class=\"dataframe\">\n",
              "  <thead>\n",
              "    <tr style=\"text-align: right;\">\n",
              "      <th></th>\n",
              "      <th>Unnamed: 0</th>\n",
              "      <th>Rank</th>\n",
              "      <th>player</th>\n",
              "      <th>club</th>\n",
              "      <th>age</th>\n",
              "      <th>Apps</th>\n",
              "      <th>Mins</th>\n",
              "      <th>Goals</th>\n",
              "      <th>Assists</th>\n",
              "      <th>Yel</th>\n",
              "      <th>Red</th>\n",
              "      <th>SpG</th>\n",
              "      <th>PS</th>\n",
              "      <th>AerialsWon</th>\n",
              "      <th>MotM</th>\n",
              "      <th>Rating</th>\n",
              "      <th>nationality</th>\n",
              "    </tr>\n",
              "  </thead>\n",
              "  <tbody>\n",
              "    <tr>\n",
              "      <th>35</th>\n",
              "      <td>66</td>\n",
              "      <td>12</td>\n",
              "      <td>Mesut Ozil</td>\n",
              "      <td>Arsenal</td>\n",
              "      <td>29</td>\n",
              "      <td>7</td>\n",
              "      <td>609</td>\n",
              "      <td>1</td>\n",
              "      <td>4</td>\n",
              "      <td>0</td>\n",
              "      <td>0</td>\n",
              "      <td>1</td>\n",
              "      <td>86.4</td>\n",
              "      <td>-</td>\n",
              "      <td>1</td>\n",
              "      <td>7.70</td>\n",
              "      <td>Germany</td>\n",
              "    </tr>\n",
              "    <tr>\n",
              "      <th>36</th>\n",
              "      <td>68</td>\n",
              "      <td>23</td>\n",
              "      <td>Mesut Ozil</td>\n",
              "      <td>Arsenal</td>\n",
              "      <td>29</td>\n",
              "      <td>24(2)</td>\n",
              "      <td>2164</td>\n",
              "      <td>4</td>\n",
              "      <td>8</td>\n",
              "      <td>4</td>\n",
              "      <td>0</td>\n",
              "      <td>1.5</td>\n",
              "      <td>86.5</td>\n",
              "      <td>-</td>\n",
              "      <td>2</td>\n",
              "      <td>7.25</td>\n",
              "      <td>Germany</td>\n",
              "    </tr>\n",
              "    <tr>\n",
              "      <th>45</th>\n",
              "      <td>86</td>\n",
              "      <td>31</td>\n",
              "      <td>Granit Xhaka</td>\n",
              "      <td>Arsenal</td>\n",
              "      <td>25</td>\n",
              "      <td>5(1)</td>\n",
              "      <td>495</td>\n",
              "      <td>1</td>\n",
              "      <td>0</td>\n",
              "      <td>1</td>\n",
              "      <td>0</td>\n",
              "      <td>1.2</td>\n",
              "      <td>91.2</td>\n",
              "      <td>1.5</td>\n",
              "      <td>0</td>\n",
              "      <td>7.47</td>\n",
              "      <td>Switzerland</td>\n",
              "    </tr>\n",
              "    <tr>\n",
              "      <th>46</th>\n",
              "      <td>88</td>\n",
              "      <td>62</td>\n",
              "      <td>Granit Xhaka</td>\n",
              "      <td>Arsenal</td>\n",
              "      <td>25</td>\n",
              "      <td>37(1)</td>\n",
              "      <td>3266</td>\n",
              "      <td>1</td>\n",
              "      <td>7</td>\n",
              "      <td>10</td>\n",
              "      <td>0</td>\n",
              "      <td>1.7</td>\n",
              "      <td>86.9</td>\n",
              "      <td>1.3</td>\n",
              "      <td>0</td>\n",
              "      <td>7.02</td>\n",
              "      <td>Switzerland</td>\n",
              "    </tr>\n",
              "    <tr>\n",
              "      <th>54</th>\n",
              "      <td>103</td>\n",
              "      <td>39</td>\n",
              "      <td>Danny Welbeck</td>\n",
              "      <td>Arsenal</td>\n",
              "      <td>27</td>\n",
              "      <td>9(1)</td>\n",
              "      <td>762</td>\n",
              "      <td>3</td>\n",
              "      <td>0</td>\n",
              "      <td>0</td>\n",
              "      <td>0</td>\n",
              "      <td>2.1</td>\n",
              "      <td>84.8</td>\n",
              "      <td>1.6</td>\n",
              "      <td>1</td>\n",
              "      <td>7.42</td>\n",
              "      <td>England</td>\n",
              "    </tr>\n",
              "    <tr>\n",
              "      <th>55</th>\n",
              "      <td>105</td>\n",
              "      <td>250</td>\n",
              "      <td>Danny Welbeck</td>\n",
              "      <td>Arsenal</td>\n",
              "      <td>27</td>\n",
              "      <td>12(16)</td>\n",
              "      <td>1185</td>\n",
              "      <td>5</td>\n",
              "      <td>2</td>\n",
              "      <td>1</td>\n",
              "      <td>0</td>\n",
              "      <td>1.1</td>\n",
              "      <td>79.8</td>\n",
              "      <td>0.9</td>\n",
              "      <td>2</td>\n",
              "      <td>6.52</td>\n",
              "      <td>England</td>\n",
              "    </tr>\n",
              "    <tr>\n",
              "      <th>68</th>\n",
              "      <td>131</td>\n",
              "      <td>93</td>\n",
              "      <td>Olivier Giroud</td>\n",
              "      <td>Arsenal</td>\n",
              "      <td>31</td>\n",
              "      <td>6</td>\n",
              "      <td>540</td>\n",
              "      <td>3</td>\n",
              "      <td>0</td>\n",
              "      <td>0</td>\n",
              "      <td>0</td>\n",
              "      <td>4.2</td>\n",
              "      <td>64.7</td>\n",
              "      <td>2.3</td>\n",
              "      <td>0</td>\n",
              "      <td>7.21</td>\n",
              "      <td>France</td>\n",
              "    </tr>\n",
              "    <tr>\n",
              "      <th>110</th>\n",
              "      <td>213</td>\n",
              "      <td>195</td>\n",
              "      <td>Mohamed Elneny</td>\n",
              "      <td>Arsenal</td>\n",
              "      <td>25</td>\n",
              "      <td>9(3)</td>\n",
              "      <td>838</td>\n",
              "      <td>1</td>\n",
              "      <td>2</td>\n",
              "      <td>0</td>\n",
              "      <td>0</td>\n",
              "      <td>0.8</td>\n",
              "      <td>93.5</td>\n",
              "      <td>0.3</td>\n",
              "      <td>1</td>\n",
              "      <td>7.01</td>\n",
              "      <td>Egypt</td>\n",
              "    </tr>\n",
              "    <tr>\n",
              "      <th>117</th>\n",
              "      <td>227</td>\n",
              "      <td>218</td>\n",
              "      <td>Nacho Monreal</td>\n",
              "      <td>Arsenal</td>\n",
              "      <td>32</td>\n",
              "      <td>7</td>\n",
              "      <td>613</td>\n",
              "      <td>1</td>\n",
              "      <td>0</td>\n",
              "      <td>2</td>\n",
              "      <td>0</td>\n",
              "      <td>0.9</td>\n",
              "      <td>87.3</td>\n",
              "      <td>1.6</td>\n",
              "      <td>0</td>\n",
              "      <td>6.97</td>\n",
              "      <td>Spain</td>\n",
              "    </tr>\n",
              "    <tr>\n",
              "      <th>118</th>\n",
              "      <td>229</td>\n",
              "      <td>35</td>\n",
              "      <td>Nacho Monreal</td>\n",
              "      <td>Arsenal</td>\n",
              "      <td>32</td>\n",
              "      <td>26(2)</td>\n",
              "      <td>2244</td>\n",
              "      <td>5</td>\n",
              "      <td>2</td>\n",
              "      <td>3</td>\n",
              "      <td>0</td>\n",
              "      <td>0.8</td>\n",
              "      <td>89.5</td>\n",
              "      <td>2.2</td>\n",
              "      <td>2</td>\n",
              "      <td>7.13</td>\n",
              "      <td>Spain</td>\n",
              "    </tr>\n",
              "    <tr>\n",
              "      <th>120</th>\n",
              "      <td>233</td>\n",
              "      <td>240</td>\n",
              "      <td>David Ospina</td>\n",
              "      <td>Arsenal</td>\n",
              "      <td>29</td>\n",
              "      <td>10</td>\n",
              "      <td>900</td>\n",
              "      <td>0</td>\n",
              "      <td>0</td>\n",
              "      <td>0</td>\n",
              "      <td>0</td>\n",
              "      <td>-</td>\n",
              "      <td>74.0</td>\n",
              "      <td>0.1</td>\n",
              "      <td>1</td>\n",
              "      <td>6.94</td>\n",
              "      <td>Colombia</td>\n",
              "    </tr>\n",
              "    <tr>\n",
              "      <th>135</th>\n",
              "      <td>263</td>\n",
              "      <td>317</td>\n",
              "      <td>Alex Iwobi</td>\n",
              "      <td>Arsenal</td>\n",
              "      <td>22</td>\n",
              "      <td>3(3)</td>\n",
              "      <td>335</td>\n",
              "      <td>0</td>\n",
              "      <td>1</td>\n",
              "      <td>0</td>\n",
              "      <td>0</td>\n",
              "      <td>1.3</td>\n",
              "      <td>87.3</td>\n",
              "      <td>0.2</td>\n",
              "      <td>0</td>\n",
              "      <td>6.83</td>\n",
              "      <td>Nigeria</td>\n",
              "    </tr>\n",
              "    <tr>\n",
              "      <th>136</th>\n",
              "      <td>265</td>\n",
              "      <td>103</td>\n",
              "      <td>Alex Iwobi</td>\n",
              "      <td>Arsenal</td>\n",
              "      <td>22</td>\n",
              "      <td>22(4)</td>\n",
              "      <td>1844</td>\n",
              "      <td>3</td>\n",
              "      <td>5</td>\n",
              "      <td>1</td>\n",
              "      <td>0</td>\n",
              "      <td>1.7</td>\n",
              "      <td>86.6</td>\n",
              "      <td>0.1</td>\n",
              "      <td>0</td>\n",
              "      <td>6.88</td>\n",
              "      <td>Nigeria</td>\n",
              "    </tr>\n",
              "    <tr>\n",
              "      <th>271</th>\n",
              "      <td>526</td>\n",
              "      <td>228</td>\n",
              "      <td>Vladimir Gabulov</td>\n",
              "      <td>Arsenal Tula</td>\n",
              "      <td>34</td>\n",
              "      <td>20</td>\n",
              "      <td>1800</td>\n",
              "      <td>0</td>\n",
              "      <td>0</td>\n",
              "      <td>2</td>\n",
              "      <td>0</td>\n",
              "      <td>-</td>\n",
              "      <td>41.8</td>\n",
              "      <td>0.1</td>\n",
              "      <td>0</td>\n",
              "      <td>6.30</td>\n",
              "      <td>Russia</td>\n",
              "    </tr>\n",
              "  </tbody>\n",
              "</table>\n",
              "</div>\n",
              "      <button class=\"colab-df-convert\" onclick=\"convertToInteractive('df-262628c0-67dc-4272-8633-497511cbc8b7')\"\n",
              "              title=\"Convert this dataframe to an interactive table.\"\n",
              "              style=\"display:none;\">\n",
              "        \n",
              "  <svg xmlns=\"http://www.w3.org/2000/svg\" height=\"24px\"viewBox=\"0 0 24 24\"\n",
              "       width=\"24px\">\n",
              "    <path d=\"M0 0h24v24H0V0z\" fill=\"none\"/>\n",
              "    <path d=\"M18.56 5.44l.94 2.06.94-2.06 2.06-.94-2.06-.94-.94-2.06-.94 2.06-2.06.94zm-11 1L8.5 8.5l.94-2.06 2.06-.94-2.06-.94L8.5 2.5l-.94 2.06-2.06.94zm10 10l.94 2.06.94-2.06 2.06-.94-2.06-.94-.94-2.06-.94 2.06-2.06.94z\"/><path d=\"M17.41 7.96l-1.37-1.37c-.4-.4-.92-.59-1.43-.59-.52 0-1.04.2-1.43.59L10.3 9.45l-7.72 7.72c-.78.78-.78 2.05 0 2.83L4 21.41c.39.39.9.59 1.41.59.51 0 1.02-.2 1.41-.59l7.78-7.78 2.81-2.81c.8-.78.8-2.07 0-2.86zM5.41 20L4 18.59l7.72-7.72 1.47 1.35L5.41 20z\"/>\n",
              "  </svg>\n",
              "      </button>\n",
              "      \n",
              "  <style>\n",
              "    .colab-df-container {\n",
              "      display:flex;\n",
              "      flex-wrap:wrap;\n",
              "      gap: 12px;\n",
              "    }\n",
              "\n",
              "    .colab-df-convert {\n",
              "      background-color: #E8F0FE;\n",
              "      border: none;\n",
              "      border-radius: 50%;\n",
              "      cursor: pointer;\n",
              "      display: none;\n",
              "      fill: #1967D2;\n",
              "      height: 32px;\n",
              "      padding: 0 0 0 0;\n",
              "      width: 32px;\n",
              "    }\n",
              "\n",
              "    .colab-df-convert:hover {\n",
              "      background-color: #E2EBFA;\n",
              "      box-shadow: 0px 1px 2px rgba(60, 64, 67, 0.3), 0px 1px 3px 1px rgba(60, 64, 67, 0.15);\n",
              "      fill: #174EA6;\n",
              "    }\n",
              "\n",
              "    [theme=dark] .colab-df-convert {\n",
              "      background-color: #3B4455;\n",
              "      fill: #D2E3FC;\n",
              "    }\n",
              "\n",
              "    [theme=dark] .colab-df-convert:hover {\n",
              "      background-color: #434B5C;\n",
              "      box-shadow: 0px 1px 3px 1px rgba(0, 0, 0, 0.15);\n",
              "      filter: drop-shadow(0px 1px 2px rgba(0, 0, 0, 0.3));\n",
              "      fill: #FFFFFF;\n",
              "    }\n",
              "  </style>\n",
              "\n",
              "      <script>\n",
              "        const buttonEl =\n",
              "          document.querySelector('#df-262628c0-67dc-4272-8633-497511cbc8b7 button.colab-df-convert');\n",
              "        buttonEl.style.display =\n",
              "          google.colab.kernel.accessAllowed ? 'block' : 'none';\n",
              "\n",
              "        async function convertToInteractive(key) {\n",
              "          const element = document.querySelector('#df-262628c0-67dc-4272-8633-497511cbc8b7');\n",
              "          const dataTable =\n",
              "            await google.colab.kernel.invokeFunction('convertToInteractive',\n",
              "                                                     [key], {});\n",
              "          if (!dataTable) return;\n",
              "\n",
              "          const docLinkHtml = 'Like what you see? Visit the ' +\n",
              "            '<a target=\"_blank\" href=https://colab.research.google.com/notebooks/data_table.ipynb>data table notebook</a>'\n",
              "            + ' to learn more about interactive tables.';\n",
              "          element.innerHTML = '';\n",
              "          dataTable['output_type'] = 'display_data';\n",
              "          await google.colab.output.renderOutput(dataTable, element);\n",
              "          const docLink = document.createElement('div');\n",
              "          docLink.innerHTML = docLinkHtml;\n",
              "          element.appendChild(docLink);\n",
              "        }\n",
              "      </script>\n",
              "    </div>\n",
              "  </div>\n",
              "  "
            ]
          },
          "metadata": {},
          "execution_count": 14
        }
      ]
    },
    {
      "cell_type": "markdown",
      "source": [
        "This dataset looks prettey old because none of the players listed above except Mohamed Elneny and Xhaka are playiing for the Arsneal at the present moment.\n",
        "\n",
        "Interesting fact in this data is goal stat of Oliver Giroud, which is very low despite being a main striker at that time."
      ],
      "metadata": {
        "id": "FfO5PKgAPJLT"
      }
    },
    {
      "cell_type": "markdown",
      "source": [
        "###c. Create a histogram of the ‘Goals’."
      ],
      "metadata": {
        "id": "PekNr5G30ays"
      }
    },
    {
      "cell_type": "code",
      "source": [
        "ax = df.Goals.hist(bins = 25)\n",
        "ax.set(title = \"Histogram of Goals\")\n",
        "ax.set_xlabel(\"Number of Goals\", labelpad=20, size=12)\n",
        "ax.set_ylabel(\"Number of Players\", labelpad=20, size=12)\n",
        "plt.show()"
      ],
      "metadata": {
        "colab": {
          "base_uri": "https://localhost:8080/",
          "height": 314
        },
        "id": "JeuQeWDwv9WT",
        "outputId": "a25e055b-29c9-453b-9f57-33e0a1cf9541"
      },
      "execution_count": 15,
      "outputs": [
        {
          "output_type": "display_data",
          "data": {
            "text/plain": [
              "<Figure size 432x288 with 1 Axes>"
            ],
            "image/png": "[encoded data removed]"
          },
          "metadata": {
            "needs_background": "light"
          }
        }
      ]
    },
    {
      "cell_type": "markdown",
      "source": [
        "X axis here represents number of goals and y axis represnts number of players.\n",
        "This dataset shows that how less players scored more than 25 goals and none of the players have score 35 goals."
      ],
      "metadata": {
        "id": "9QixEY_CSRew"
      }
    },
    {
      "cell_type": "markdown",
      "source": [
        "###d. Create a histogram of the ‘Goals’ and ‘Assists’ on the same axis."
      ],
      "metadata": {
        "id": "4rGHkv6c0jIq"
      }
    },
    {
      "cell_type": "code",
      "source": [
        "df[['Goals','Assists']].plot.hist(alpha = 0.5, bins = 20)"
      ],
      "metadata": {
        "colab": {
          "base_uri": "https://localhost:8080/",
          "height": 282
        },
        "id": "8yzuPEy-wDZy",
        "outputId": "4ba180fd-bbab-4d4e-91eb-ec95c04e7c86"
      },
      "execution_count": 16,
      "outputs": [
        {
          "output_type": "execute_result",
          "data": {
            "text/plain": [
              "<matplotlib.axes._subplots.AxesSubplot at 0x7f0217052210>"
            ]
          },
          "metadata": {},
          "execution_count": 16
        },
        {
          "output_type": "display_data",
          "data": {
            "text/plain": [
              "<Figure size 432x288 with 1 Axes>"
            ],
            "image/png": "[encoded data removed]"
          },
          "metadata": {
            "needs_background": "light"
          }
        }
      ]
    },
    {
      "cell_type": "markdown",
      "source": [
        "This histogram shows goals and assists by the players in the dataset.\n",
        "Blue color represnts goals and orange represents Assists."
      ],
      "metadata": {
        "id": "-e4CqoMISvwO"
      }
    },
    {
      "cell_type": "markdown",
      "source": [
        "###e. Create a barchart for most goals scored by nationality."
      ],
      "metadata": {
        "id": "ir8zqDb_00CD"
      }
    },
    {
      "cell_type": "code",
      "source": [
        "ax = df.groupby('nationality').Goals.agg('mean').plot(kind = 'bar')\n",
        "ax.set(title = \"Most goals scored by nationality\")\n",
        "ax.set(ylabel = 'Number of goals')\n",
        "plt.show()"
      ],
      "metadata": {
        "colab": {
          "base_uri": "https://localhost:8080/",
          "height": 344
        },
        "id": "pp11d79HwQDf",
        "outputId": "b6b59532-3548-4338-bf51-46b1a0ef15fb"
      },
      "execution_count": 17,
      "outputs": [
        {
          "output_type": "display_data",
          "data": {
            "text/plain": [
              "<Figure size 432x288 with 1 Axes>"
            ],
            "image/png": "[encoded data removed]"
          },
          "metadata": {
            "needs_background": "light"
          }
        }
      ]
    },
    {
      "cell_type": "markdown",
      "source": [
        "In this visualization, x axis is the nationality and y axis is the number of goals scored. Accoriding to this barchart most goal scored by a certain nationality is 10.\n",
        "It is interesting that Egypt and Iran out of everybody have scored most amount of goals."
      ],
      "metadata": {
        "id": "1XGwxhI5QVw_"
      }
    },
    {
      "cell_type": "markdown",
      "source": [
        "### f. Create a boxplot of ‘Yel’ (yellow cards) by nationality."
      ],
      "metadata": {
        "id": "puMyX5-5043i"
      }
    },
    {
      "cell_type": "code",
      "source": [
        "bp = df.boxplot(column=['Yel'], by = 'nationality', rot = 70)\n",
        "bp.plot()\n",
        "plt.xlabel('nationality')\n",
        "plt.ylabel('yellow cards')"
      ],
      "metadata": {
        "colab": {
          "base_uri": "https://localhost:8080/",
          "height": 420
        },
        "id": "9GkvReCVwVMx",
        "outputId": "a0c5b1a3-9d2b-4b9b-cb2b-c5db9f5d5265"
      },
      "execution_count": 18,
      "outputs": [
        {
          "output_type": "stream",
          "name": "stderr",
          "text": [
            "/usr/local/lib/python3.7/dist-packages/matplotlib/cbook/__init__.py:1376: VisibleDeprecationWarning: Creating an ndarray from ragged nested sequences (which is a list-or-tuple of lists-or-tuples-or ndarrays with different lengths or shapes) is deprecated. If you meant to do this, you must specify 'dtype=object' when creating the ndarray.\n",
            "  X = np.atleast_1d(X.T if isinstance(X, np.ndarray) else np.asarray(X))\n"
          ]
        },
        {
          "output_type": "execute_result",
          "data": {
            "text/plain": [
              "Text(0, 0.5, 'yellow cards')"
            ]
          },
          "metadata": {},
          "execution_count": 18
        },
        {
          "output_type": "display_data",
          "data": {
            "text/plain": [
              "<Figure size 432x288 with 1 Axes>"
            ],
            "image/png": "[encoded data removed]"
          },
          "metadata": {
            "needs_background": "light"
          }
        }
      ]
    },
    {
      "cell_type": "markdown",
      "source": [
        "According to the graph, colombia has receive most yellow cards."
      ],
      "metadata": {
        "id": "O2Aw2k7iihzA"
      }
    },
    {
      "cell_type": "markdown",
      "source": [
        "###g. Create ‘Goals’ and ‘Assists’ as scatter. Signify your favorite club or nationality in some way on the scatterplot. You may need to add a new column to the dataset to do so.\n"
      ],
      "metadata": {
        "id": "8ipyx3Ge1Db-"
      }
    },
    {
      "cell_type": "code",
      "source": [
        "sns.relplot(data=df, x = 'Goals', y= 'Assists' )\n",
        "plt.title('A scatterplot of goals and assists')"
      ],
      "metadata": {
        "id": "ne1C01T22bZK",
        "outputId": "d59c39da-a011-4760-ac2c-1067429fc189",
        "colab": {
          "base_uri": "https://localhost:8080/",
          "height": 402
        }
      },
      "execution_count": 20,
      "outputs": [
        {
          "output_type": "execute_result",
          "data": {
            "text/plain": [
              "Text(0.5, 1.0, 'A scatterplot of goals and assists')"
            ]
          },
          "metadata": {},
          "execution_count": 20
        },
        {
          "output_type": "display_data",
          "data": {
            "text/plain": [
              "<Figure size 360x360 with 1 Axes>"
            ],
            "image/png": "[encoded data removed]"
          },
          "metadata": {
            "needs_background": "light"
          }
        }
      ]
    },
    {
      "cell_type": "code",
      "source": [
        "def ArsenalGoals(row):\n",
        "  return row.Goals\n",
        "def ArsenalAssists(row):\n",
        "  return row.Assists"
      ],
      "metadata": {
        "id": "7htYhvAIhnxk"
      },
      "execution_count": 21,
      "outputs": []
    },
    {
      "cell_type": "code",
      "source": [
        "df2= df[df['club'].str.contains('Arsenal')]\n",
        "\n",
        "df['Arsenal_Goals'] = df.apply(lambda row: ArsenalGoals(row), axis=1)\n",
        "\n",
        "df['Arsenal_assists'] = df.apply(lambda row: ArsenalAssists(row), axis=1)"
      ],
      "metadata": {
        "id": "sGMJIFRFhvN_"
      },
      "execution_count": 23,
      "outputs": []
    },
    {
      "cell_type": "code",
      "source": [
        "df['Arsenal_Goals'] = df['Arsenal_Goals'].fillna(0).astype(int)\n",
        "df['Arsenal_Goals'] = df['Arsenal_Goals'].astype('int')\n",
        "df['Arsenal_Goals'] = df['Arsenal_assists'].fillna(0).astype(int)\n",
        "df['Arsenal_Goals'] = df['Arsenal_assists'].astype('int')"
      ],
      "metadata": {
        "id": "xvbPwy2Zi213"
      },
      "execution_count": 27,
      "outputs": []
    },
    {
      "cell_type": "code",
      "source": [
        "df[df['club'].str.contains('Arsenal')]"
      ],
      "metadata": {
        "colab": {
          "base_uri": "https://localhost:8080/",
          "height": 831
        },
        "id": "tpH8nXJVkTxY",
        "outputId": "d65ac81e-6935-4e7f-c4e5-927fb31dafb6"
      },
      "execution_count": 28,
      "outputs": [
        {
          "output_type": "execute_result",
          "data": {
            "text/plain": [
              "     Unnamed: 0  Rank            player          club  age    Apps  Mins  \\\n",
              "35           66    12        Mesut Ozil       Arsenal   29       7   609   \n",
              "36           68    23        Mesut Ozil       Arsenal   29   24(2)  2164   \n",
              "45           86    31      Granit Xhaka       Arsenal   25    5(1)   495   \n",
              "46           88    62      Granit Xhaka       Arsenal   25   37(1)  3266   \n",
              "54          103    39     Danny Welbeck       Arsenal   27    9(1)   762   \n",
              "55          105   250     Danny Welbeck       Arsenal   27  12(16)  1185   \n",
              "68          131    93    Olivier Giroud       Arsenal   31       6   540   \n",
              "110         213   195    Mohamed Elneny       Arsenal   25    9(3)   838   \n",
              "117         227   218     Nacho Monreal       Arsenal   32       7   613   \n",
              "118         229    35     Nacho Monreal       Arsenal   32   26(2)  2244   \n",
              "120         233   240      David Ospina       Arsenal   29      10   900   \n",
              "135         263   317        Alex Iwobi       Arsenal   22    3(3)   335   \n",
              "136         265   103        Alex Iwobi       Arsenal   22   22(4)  1844   \n",
              "271         526   228  Vladimir Gabulov  Arsenal Tula   34      20  1800   \n",
              "\n",
              "     Goals  Assists  Yel  ...  SpG    PS  AerialsWon MotM  Rating  \\\n",
              "35       1        4    0  ...    1  86.4           -    1    7.70   \n",
              "36       4        8    4  ...  1.5  86.5           -    2    7.25   \n",
              "45       1        0    1  ...  1.2  91.2         1.5    0    7.47   \n",
              "46       1        7   10  ...  1.7  86.9         1.3    0    7.02   \n",
              "54       3        0    0  ...  2.1  84.8         1.6    1    7.42   \n",
              "55       5        2    1  ...  1.1  79.8         0.9    2    6.52   \n",
              "68       3        0    0  ...  4.2  64.7         2.3    0    7.21   \n",
              "110      1        2    0  ...  0.8  93.5         0.3    1    7.01   \n",
              "117      1        0    2  ...  0.9  87.3         1.6    0    6.97   \n",
              "118      5        2    3  ...  0.8  89.5         2.2    2    7.13   \n",
              "120      0        0    0  ...    -  74.0         0.1    1    6.94   \n",
              "135      0        1    0  ...  1.3  87.3         0.2    0    6.83   \n",
              "136      3        5    1  ...  1.7  86.6         0.1    0    6.88   \n",
              "271      0        0    2  ...    -  41.8         0.1    0    6.30   \n",
              "\n",
              "     nationality FCB_goals  FCB_assists  Arsenal_Goals  Arsenal_assists  \n",
              "35       Germany         1            4              4                4  \n",
              "36       Germany         4            8              8                8  \n",
              "45   Switzerland         1            0              0                0  \n",
              "46   Switzerland         1            7              7                7  \n",
              "54       England         3            0              0                0  \n",
              "55       England         5            2              2                2  \n",
              "68        France         3            0              0                0  \n",
              "110        Egypt         1            2              2                2  \n",
              "117        Spain         1            0              0                0  \n",
              "118        Spain         5            2              2                2  \n",
              "120     Colombia         0            0              0                0  \n",
              "135      Nigeria         0            1              1                1  \n",
              "136      Nigeria         3            5              5                5  \n",
              "271       Russia         0            0              0                0  \n",
              "\n",
              "[14 rows x 21 columns]"
            ],
            "text/html": [
              "\n",
              "  <div id=\"df-10697d23-1d24-486c-8ebc-db9fc44eb15d\">\n",
              "    <div class=\"colab-df-container\">\n",
              "      <div>\n",
              "<style scoped>\n",
              "    .dataframe tbody tr th:only-of-type {\n",
              "        vertical-align: middle;\n",
              "    }\n",
              "\n",
              "    .dataframe tbody tr th {\n",
              "        vertical-align: top;\n",
              "    }\n",
              "\n",
              "    .dataframe thead th {\n",
              "        text-align: right;\n",
              "    }\n",
              "</style>\n",
              "<table border=\"1\" class=\"dataframe\">\n",
              "  <thead>\n",
              "    <tr style=\"text-align: right;\">\n",
              "      <th></th>\n",
              "      <th>Unnamed: 0</th>\n",
              "      <th>Rank</th>\n",
              "      <th>player</th>\n",
              "      <th>club</th>\n",
              "      <th>age</th>\n",
              "      <th>Apps</th>\n",
              "      <th>Mins</th>\n",
              "      <th>Goals</th>\n",
              "      <th>Assists</th>\n",
              "      <th>Yel</th>\n",
              "      <th>...</th>\n",
              "      <th>SpG</th>\n",
              "      <th>PS</th>\n",
              "      <th>AerialsWon</th>\n",
              "      <th>MotM</th>\n",
              "      <th>Rating</th>\n",
              "      <th>nationality</th>\n",
              "      <th>FCB_goals</th>\n",
              "      <th>FCB_assists</th>\n",
              "      <th>Arsenal_Goals</th>\n",
              "      <th>Arsenal_assists</th>\n",
              "    </tr>\n",
              "  </thead>\n",
              "  <tbody>\n",
              "    <tr>\n",
              "      <th>35</th>\n",
              "      <td>66</td>\n",
              "      <td>12</td>\n",
              "      <td>Mesut Ozil</td>\n",
              "      <td>Arsenal</td>\n",
              "      <td>29</td>\n",
              "      <td>7</td>\n",
              "      <td>609</td>\n",
              "      <td>1</td>\n",
              "      <td>4</td>\n",
              "      <td>0</td>\n",
              "      <td>...</td>\n",
              "      <td>1</td>\n",
              "      <td>86.4</td>\n",
              "      <td>-</td>\n",
              "      <td>1</td>\n",
              "      <td>7.70</td>\n",
              "      <td>Germany</td>\n",
              "      <td>1</td>\n",
              "      <td>4</td>\n",
              "      <td>4</td>\n",
              "      <td>4</td>\n",
              "    </tr>\n",
              "    <tr>\n",
              "      <th>36</th>\n",
              "      <td>68</td>\n",
              "      <td>23</td>\n",
              "      <td>Mesut Ozil</td>\n",
              "      <td>Arsenal</td>\n",
              "      <td>29</td>\n",
              "      <td>24(2)</td>\n",
              "      <td>2164</td>\n",
              "      <td>4</td>\n",
              "      <td>8</td>\n",
              "      <td>4</td>\n",
              "      <td>...</td>\n",
              "      <td>1.5</td>\n",
              "      <td>86.5</td>\n",
              "      <td>-</td>\n",
              "      <td>2</td>\n",
              "      <td>7.25</td>\n",
              "      <td>Germany</td>\n",
              "      <td>4</td>\n",
              "      <td>8</td>\n",
              "      <td>8</td>\n",
              "      <td>8</td>\n",
              "    </tr>\n",
              "    <tr>\n",
              "      <th>45</th>\n",
              "      <td>86</td>\n",
              "      <td>31</td>\n",
              "      <td>Granit Xhaka</td>\n",
              "      <td>Arsenal</td>\n",
              "      <td>25</td>\n",
              "      <td>5(1)</td>\n",
              "      <td>495</td>\n",
              "      <td>1</td>\n",
              "      <td>0</td>\n",
              "      <td>1</td>\n",
              "      <td>...</td>\n",
              "      <td>1.2</td>\n",
              "      <td>91.2</td>\n",
              "      <td>1.5</td>\n",
              "      <td>0</td>\n",
              "      <td>7.47</td>\n",
              "      <td>Switzerland</td>\n",
              "      <td>1</td>\n",
              "      <td>0</td>\n",
              "      <td>0</td>\n",
              "      <td>0</td>\n",
              "    </tr>\n",
              "    <tr>\n",
              "      <th>46</th>\n",
              "      <td>88</td>\n",
              "      <td>62</td>\n",
              "      <td>Granit Xhaka</td>\n",
              "      <td>Arsenal</td>\n",
              "      <td>25</td>\n",
              "      <td>37(1)</td>\n",
              "      <td>3266</td>\n",
              "      <td>1</td>\n",
              "      <td>7</td>\n",
              "      <td>10</td>\n",
              "      <td>...</td>\n",
              "      <td>1.7</td>\n",
              "      <td>86.9</td>\n",
              "      <td>1.3</td>\n",
              "      <td>0</td>\n",
              "      <td>7.02</td>\n",
              "      <td>Switzerland</td>\n",
              "      <td>1</td>\n",
              "      <td>7</td>\n",
              "      <td>7</td>\n",
              "      <td>7</td>\n",
              "    </tr>\n",
              "    <tr>\n",
              "      <th>54</th>\n",
              "      <td>103</td>\n",
              "      <td>39</td>\n",
              "      <td>Danny Welbeck</td>\n",
              "      <td>Arsenal</td>\n",
              "      <td>27</td>\n",
              "      <td>9(1)</td>\n",
              "      <td>762</td>\n",
              "      <td>3</td>\n",
              "      <td>0</td>\n",
              "      <td>0</td>\n",
              "      <td>...</td>\n",
              "      <td>2.1</td>\n",
              "      <td>84.8</td>\n",
              "      <td>1.6</td>\n",
              "      <td>1</td>\n",
              "      <td>7.42</td>\n",
              "      <td>England</td>\n",
              "      <td>3</td>\n",
              "      <td>0</td>\n",
              "      <td>0</td>\n",
              "      <td>0</td>\n",
              "    </tr>\n",
              "    <tr>\n",
              "      <th>55</th>\n",
              "      <td>105</td>\n",
              "      <td>250</td>\n",
              "      <td>Danny Welbeck</td>\n",
              "      <td>Arsenal</td>\n",
              "      <td>27</td>\n",
              "      <td>12(16)</td>\n",
              "      <td>1185</td>\n",
              "      <td>5</td>\n",
              "      <td>2</td>\n",
              "      <td>1</td>\n",
              "      <td>...</td>\n",
              "      <td>1.1</td>\n",
              "      <td>79.8</td>\n",
              "      <td>0.9</td>\n",
              "      <td>2</td>\n",
              "      <td>6.52</td>\n",
              "      <td>England</td>\n",
              "      <td>5</td>\n",
              "      <td>2</td>\n",
              "      <td>2</td>\n",
              "      <td>2</td>\n",
              "    </tr>\n",
              "    <tr>\n",
              "      <th>68</th>\n",
              "      <td>131</td>\n",
              "      <td>93</td>\n",
              "      <td>Olivier Giroud</td>\n",
              "      <td>Arsenal</td>\n",
              "      <td>31</td>\n",
              "      <td>6</td>\n",
              "      <td>540</td>\n",
              "      <td>3</td>\n",
              "      <td>0</td>\n",
              "      <td>0</td>\n",
              "      <td>...</td>\n",
              "      <td>4.2</td>\n",
              "      <td>64.7</td>\n",
              "      <td>2.3</td>\n",
              "      <td>0</td>\n",
              "      <td>7.21</td>\n",
              "      <td>France</td>\n",
              "      <td>3</td>\n",
              "      <td>0</td>\n",
              "      <td>0</td>\n",
              "      <td>0</td>\n",
              "    </tr>\n",
              "    <tr>\n",
              "      <th>110</th>\n",
              "      <td>213</td>\n",
              "      <td>195</td>\n",
              "      <td>Mohamed Elneny</td>\n",
              "      <td>Arsenal</td>\n",
              "      <td>25</td>\n",
              "      <td>9(3)</td>\n",
              "      <td>838</td>\n",
              "      <td>1</td>\n",
              "      <td>2</td>\n",
              "      <td>0</td>\n",
              "      <td>...</td>\n",
              "      <td>0.8</td>\n",
              "      <td>93.5</td>\n",
              "      <td>0.3</td>\n",
              "      <td>1</td>\n",
              "      <td>7.01</td>\n",
              "      <td>Egypt</td>\n",
              "      <td>1</td>\n",
              "      <td>2</td>\n",
              "      <td>2</td>\n",
              "      <td>2</td>\n",
              "    </tr>\n",
              "    <tr>\n",
              "      <th>117</th>\n",
              "      <td>227</td>\n",
              "      <td>218</td>\n",
              "      <td>Nacho Monreal</td>\n",
              "      <td>Arsenal</td>\n",
              "      <td>32</td>\n",
              "      <td>7</td>\n",
              "      <td>613</td>\n",
              "      <td>1</td>\n",
              "      <td>0</td>\n",
              "      <td>2</td>\n",
              "      <td>...</td>\n",
              "      <td>0.9</td>\n",
              "      <td>87.3</td>\n",
              "      <td>1.6</td>\n",
              "      <td>0</td>\n",
              "      <td>6.97</td>\n",
              "      <td>Spain</td>\n",
              "      <td>1</td>\n",
              "      <td>0</td>\n",
              "      <td>0</td>\n",
              "      <td>0</td>\n",
              "    </tr>\n",
              "    <tr>\n",
              "      <th>118</th>\n",
              "      <td>229</td>\n",
              "      <td>35</td>\n",
              "      <td>Nacho Monreal</td>\n",
              "      <td>Arsenal</td>\n",
              "      <td>32</td>\n",
              "      <td>26(2)</td>\n",
              "      <td>2244</td>\n",
              "      <td>5</td>\n",
              "      <td>2</td>\n",
              "      <td>3</td>\n",
              "      <td>...</td>\n",
              "      <td>0.8</td>\n",
              "      <td>89.5</td>\n",
              "      <td>2.2</td>\n",
              "      <td>2</td>\n",
              "      <td>7.13</td>\n",
              "      <td>Spain</td>\n",
              "      <td>5</td>\n",
              "      <td>2</td>\n",
              "      <td>2</td>\n",
              "      <td>2</td>\n",
              "    </tr>\n",
              "    <tr>\n",
              "      <th>120</th>\n",
              "      <td>233</td>\n",
              "      <td>240</td>\n",
              "      <td>David Ospina</td>\n",
              "      <td>Arsenal</td>\n",
              "      <td>29</td>\n",
              "      <td>10</td>\n",
              "      <td>900</td>\n",
              "      <td>0</td>\n",
              "      <td>0</td>\n",
              "      <td>0</td>\n",
              "      <td>...</td>\n",
              "      <td>-</td>\n",
              "      <td>74.0</td>\n",
              "      <td>0.1</td>\n",
              "      <td>1</td>\n",
              "      <td>6.94</td>\n",
              "      <td>Colombia</td>\n",
              "      <td>0</td>\n",
              "      <td>0</td>\n",
              "      <td>0</td>\n",
              "      <td>0</td>\n",
              "    </tr>\n",
              "    <tr>\n",
              "      <th>135</th>\n",
              "      <td>263</td>\n",
              "      <td>317</td>\n",
              "      <td>Alex Iwobi</td>\n",
              "      <td>Arsenal</td>\n",
              "      <td>22</td>\n",
              "      <td>3(3)</td>\n",
              "      <td>335</td>\n",
              "      <td>0</td>\n",
              "      <td>1</td>\n",
              "      <td>0</td>\n",
              "      <td>...</td>\n",
              "      <td>1.3</td>\n",
              "      <td>87.3</td>\n",
              "      <td>0.2</td>\n",
              "      <td>0</td>\n",
              "      <td>6.83</td>\n",
              "      <td>Nigeria</td>\n",
              "      <td>0</td>\n",
              "      <td>1</td>\n",
              "      <td>1</td>\n",
              "      <td>1</td>\n",
              "    </tr>\n",
              "    <tr>\n",
              "      <th>136</th>\n",
              "      <td>265</td>\n",
              "      <td>103</td>\n",
              "      <td>Alex Iwobi</td>\n",
              "      <td>Arsenal</td>\n",
              "      <td>22</td>\n",
              "      <td>22(4)</td>\n",
              "      <td>1844</td>\n",
              "      <td>3</td>\n",
              "      <td>5</td>\n",
              "      <td>1</td>\n",
              "      <td>...</td>\n",
              "      <td>1.7</td>\n",
              "      <td>86.6</td>\n",
              "      <td>0.1</td>\n",
              "      <td>0</td>\n",
              "      <td>6.88</td>\n",
              "      <td>Nigeria</td>\n",
              "      <td>3</td>\n",
              "      <td>5</td>\n",
              "      <td>5</td>\n",
              "      <td>5</td>\n",
              "    </tr>\n",
              "    <tr>\n",
              "      <th>271</th>\n",
              "      <td>526</td>\n",
              "      <td>228</td>\n",
              "      <td>Vladimir Gabulov</td>\n",
              "      <td>Arsenal Tula</td>\n",
              "      <td>34</td>\n",
              "      <td>20</td>\n",
              "      <td>1800</td>\n",
              "      <td>0</td>\n",
              "      <td>0</td>\n",
              "      <td>2</td>\n",
              "      <td>...</td>\n",
              "      <td>-</td>\n",
              "      <td>41.8</td>\n",
              "      <td>0.1</td>\n",
              "      <td>0</td>\n",
              "      <td>6.30</td>\n",
              "      <td>Russia</td>\n",
              "      <td>0</td>\n",
              "      <td>0</td>\n",
              "      <td>0</td>\n",
              "      <td>0</td>\n",
              "    </tr>\n",
              "  </tbody>\n",
              "</table>\n",
              "<p>14 rows × 21 columns</p>\n",
              "</div>\n",
              "      <button class=\"colab-df-convert\" onclick=\"convertToInteractive('df-10697d23-1d24-486c-8ebc-db9fc44eb15d')\"\n",
              "              title=\"Convert this dataframe to an interactive table.\"\n",
              "              style=\"display:none;\">\n",
              "        \n",
              "  <svg xmlns=\"http://www.w3.org/2000/svg\" height=\"24px\"viewBox=\"0 0 24 24\"\n",
              "       width=\"24px\">\n",
              "    <path d=\"M0 0h24v24H0V0z\" fill=\"none\"/>\n",
              "    <path d=\"M18.56 5.44l.94 2.06.94-2.06 2.06-.94-2.06-.94-.94-2.06-.94 2.06-2.06.94zm-11 1L8.5 8.5l.94-2.06 2.06-.94-2.06-.94L8.5 2.5l-.94 2.06-2.06.94zm10 10l.94 2.06.94-2.06 2.06-.94-2.06-.94-.94-2.06-.94 2.06-2.06.94z\"/><path d=\"M17.41 7.96l-1.37-1.37c-.4-.4-.92-.59-1.43-.59-.52 0-1.04.2-1.43.59L10.3 9.45l-7.72 7.72c-.78.78-.78 2.05 0 2.83L4 21.41c.39.39.9.59 1.41.59.51 0 1.02-.2 1.41-.59l7.78-7.78 2.81-2.81c.8-.78.8-2.07 0-2.86zM5.41 20L4 18.59l7.72-7.72 1.47 1.35L5.41 20z\"/>\n",
              "  </svg>\n",
              "      </button>\n",
              "      \n",
              "  <style>\n",
              "    .colab-df-container {\n",
              "      display:flex;\n",
              "      flex-wrap:wrap;\n",
              "      gap: 12px;\n",
              "    }\n",
              "\n",
              "    .colab-df-convert {\n",
              "      background-color: #E8F0FE;\n",
              "      border: none;\n",
              "      border-radius: 50%;\n",
              "      cursor: pointer;\n",
              "      display: none;\n",
              "      fill: #1967D2;\n",
              "      height: 32px;\n",
              "      padding: 0 0 0 0;\n",
              "      width: 32px;\n",
              "    }\n",
              "\n",
              "    .colab-df-convert:hover {\n",
              "      background-color: #E2EBFA;\n",
              "      box-shadow: 0px 1px 2px rgba(60, 64, 67, 0.3), 0px 1px 3px 1px rgba(60, 64, 67, 0.15);\n",
              "      fill: #174EA6;\n",
              "    }\n",
              "\n",
              "    [theme=dark] .colab-df-convert {\n",
              "      background-color: #3B4455;\n",
              "      fill: #D2E3FC;\n",
              "    }\n",
              "\n",
              "    [theme=dark] .colab-df-convert:hover {\n",
              "      background-color: #434B5C;\n",
              "      box-shadow: 0px 1px 3px 1px rgba(0, 0, 0, 0.15);\n",
              "      filter: drop-shadow(0px 1px 2px rgba(0, 0, 0, 0.3));\n",
              "      fill: #FFFFFF;\n",
              "    }\n",
              "  </style>\n",
              "\n",
              "      <script>\n",
              "        const buttonEl =\n",
              "          document.querySelector('#df-10697d23-1d24-486c-8ebc-db9fc44eb15d button.colab-df-convert');\n",
              "        buttonEl.style.display =\n",
              "          google.colab.kernel.accessAllowed ? 'block' : 'none';\n",
              "\n",
              "        async function convertToInteractive(key) {\n",
              "          const element = document.querySelector('#df-10697d23-1d24-486c-8ebc-db9fc44eb15d');\n",
              "          const dataTable =\n",
              "            await google.colab.kernel.invokeFunction('convertToInteractive',\n",
              "                                                     [key], {});\n",
              "          if (!dataTable) return;\n",
              "\n",
              "          const docLinkHtml = 'Like what you see? Visit the ' +\n",
              "            '<a target=\"_blank\" href=https://colab.research.google.com/notebooks/data_table.ipynb>data table notebook</a>'\n",
              "            + ' to learn more about interactive tables.';\n",
              "          element.innerHTML = '';\n",
              "          dataTable['output_type'] = 'display_data';\n",
              "          await google.colab.output.renderOutput(dataTable, element);\n",
              "          const docLink = document.createElement('div');\n",
              "          docLink.innerHTML = docLinkHtml;\n",
              "          element.appendChild(docLink);\n",
              "        }\n",
              "      </script>\n",
              "    </div>\n",
              "  </div>\n",
              "  "
            ]
          },
          "metadata": {},
          "execution_count": 28
        }
      ]
    },
    {
      "cell_type": "markdown",
      "source": [
        "Now showing a scatterplot visualization of Arsenal assists and goals"
      ],
      "metadata": {
        "id": "swxuRCyukyNT"
      }
    },
    {
      "cell_type": "code",
      "source": [
        "sns.relplot(data = df, x = 'Goals', y = 'Assists', color = 'green', style = 'Arsenal_Goals', size = 'Arsenal_assists')\n",
        "\n",
        "plt.title('A scatterplot of goals vs assist')"
      ],
      "metadata": {
        "colab": {
          "base_uri": "https://localhost:8080/",
          "height": 428
        },
        "id": "mr12nY4Ekgoj",
        "outputId": "8c8f248e-5f4f-4d04-f426-934cafc1aa3e"
      },
      "execution_count": 33,
      "outputs": [
        {
          "output_type": "execute_result",
          "data": {
            "text/plain": [
              "Text(0.5, 1.0, 'A scatterplot of goals vs assist')"
            ]
          },
          "metadata": {},
          "execution_count": 33
        },
        {
          "output_type": "display_data",
          "data": {
            "text/plain": [
              "<Figure size 452.625x360 with 1 Axes>"
            ],
            "image/png": "[encoded data removed]"
          },
          "metadata": {
            "needs_background": "light"
          }
        }
      ]
    },
    {
      "cell_type": "markdown",
      "source": [
        "### h. Create stacked barplot of goals and assists of French National Team. (they won this tourney!) Be sure to comment on why it is appropriate to stack goals and assists."
      ],
      "metadata": {
        "id": "E2VRkazW1TZA"
      }
    },
    {
      "cell_type": "code",
      "source": [
        "df3 = df[df['nationality'].str.contains('France')]\n",
        "ax = df3[['Goals', 'Assists']].plot(kind = 'bar', stacked = True,figsize=(15, 10) , title = 'Stacked barplot of golas and assist of French National Team')\n",
        "ax.set_xlabel('Goals')\n",
        "ax.set_ylabel('Assists')"
      ],
      "metadata": {
        "colab": {
          "base_uri": "https://localhost:8080/",
          "height": 648
        },
        "id": "z-zfe9MJ1bjZ",
        "outputId": "3af1b287-aaa7-401b-d83b-64113d31b56a"
      },
      "execution_count": null,
      "outputs": [
        {
          "output_type": "execute_result",
          "data": {
            "text/plain": [
              "Text(0, 0.5, 'Assists')"
            ]
          },
          "metadata": {},
          "execution_count": 10
        },
        {
          "output_type": "display_data",
          "data": {
            "text/plain": [
              "<Figure size 1080x720 with 1 Axes>"
            ],
            "image/png": "[encoded data removed]"
          },
          "metadata": {
            "needs_background": "light"
          }
        }
      ]
    },
    {
      "cell_type": "markdown",
      "source": [
        "Above is the barplot of goals and assists of French national team. Blue color represents goals and orange color represents assists in the graph."
      ],
      "metadata": {
        "id": "ZZg6Ky1pk_Ra"
      }
    },
    {
      "cell_type": "markdown",
      "source": [
        "###i. Create a correlation heatmap of the entire dataset.\n"
      ],
      "metadata": {
        "id": "Le8tvTvI2FOy"
      }
    },
    {
      "cell_type": "code",
      "source": [
        "sns.set(rc = {'figure.figsize':(15,10)})\n",
        "ax = sns.heatmap(df.corr(),vmin = -1, annot=False)\n",
        "ax.set(title = 'Heatmap of World Cup Player Dataset')\n",
        "plt.show()"
      ],
      "metadata": {
        "colab": {
          "base_uri": "https://localhost:8080/",
          "height": 610
        },
        "id": "V-oZI4u52Dc8",
        "outputId": "22999edd-44fa-43b7-ad9a-f8b3beb16462"
      },
      "execution_count": null,
      "outputs": [
        {
          "output_type": "display_data",
          "data": {
            "text/plain": [
              "<Figure size 1080x720 with 2 Axes>"
            ],
            "image/png": "[encoded data removed]"
          },
          "metadata": {}
        }
      ]
    },
    {
      "cell_type": "markdown",
      "source": [
        "##2."
      ],
      "metadata": {
        "id": "9OBHdqTHRBxL"
      }
    },
    {
      "cell_type": "markdown",
      "source": [
        "a. Approximately how long did you work on this exam?\n",
        "\n",
        "  I spent around 2 hours on this exam."
      ],
      "metadata": {
        "id": "WDVs0hDGOJ7t"
      }
    },
    {
      "cell_type": "markdown",
      "source": [
        "b. Which was the hardest and easiest topic from this section?\n",
        "\n",
        "Hardest part was number g because I couldn't figure out what to do in the second part of the question.\n",
        "\n",
        "Easiest part was creating a histogram of data."
      ],
      "metadata": {
        "id": "N-yZfWq2OQt1"
      }
    },
    {
      "cell_type": "markdown",
      "source": [
        "c. Which method of visualization are you still unclear what it might show?\n",
        "\n",
        "I am little bit unclear on the heatmap of the data set because there is so much going in the visualization, its hard to figure out what am I looking at."
      ],
      "metadata": {
        "id": "zDtKCorIOtMt"
      }
    }
  ]
}