{
  "nbformat": 4,
  "nbformat_minor": 0,
  "metadata": {
    "colab": {
      "name": "quiz 29.ipynb",
      "provenance": [],
      "authorship_tag": "ABX9TyOwcO8HcTqiLuXaAnDm64ce",
      "include_colab_link": true
    },
    "kernelspec": {
      "name": "python3",
      "display_name": "Python 3"
    },
    "language_info": {
      "name": "python"
    }
  },
  "cells": [
    {
      "cell_type": "markdown",
      "metadata": {
        "id": "view-in-github",
        "colab_type": "text"
      },
      "source": [
        "<a href=\"https://colab.research.google.com/github/subin100/DataVisualization/blob/main/quiz_29.ipynb\" target=\"_parent\"><img src=\"https://colab.research.google.com/assets/colab-badge.svg\" alt=\"Open In Colab\"/></a>"
      ]
    },
    {
      "cell_type": "markdown",
      "source": [
        "###Subin Manandhar\n",
        "###Data Visualization\n",
        "###Quiz 29"
      ],
      "metadata": {
        "id": "U0Zun466yOZs"
      }
    },
    {
      "cell_type": "code",
      "execution_count": null,
      "metadata": {
        "id": "gKheXZmMyNJE"
      },
      "outputs": [],
      "source": [
        ""
      ]
    }
  ]
}