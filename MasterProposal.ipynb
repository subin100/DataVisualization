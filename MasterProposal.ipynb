{
  "nbformat": 4,
  "nbformat_minor": 0,
  "metadata": {
    "colab": {
      "name": "MasterProposal.ipynb",
      "provenance": [],
      "collapsed_sections": [],
      "authorship_tag": "ABX9TyPS4RbRBv89iFcRYv9CEdWU",
      "include_colab_link": true
    },
    "kernelspec": {
      "name": "python3",
      "display_name": "Python 3"
    },
    "language_info": {
      "name": "python"
    }
  },
  "cells": [
    {
      "cell_type": "markdown",
      "metadata": {
        "id": "view-in-github",
        "colab_type": "text"
      },
      "source": [
        "<a href=\"https://colab.research.google.com/github/subin100/DataVisualization/blob/main/MasterProposal.ipynb\" target=\"_parent\"><img src=\"https://colab.research.google.com/assets/colab-badge.svg\" alt=\"Open In Colab\"/></a>"
      ]
    },
    {
      "cell_type": "markdown",
      "source": [
        "##Subin Manandhar\n",
        "##Data Visualization\n",
        "##Instructor: Dr Nicholas Jacob"
      ],
      "metadata": {
        "id": "AHJwtGNeH5qf"
      }
    },
    {
      "cell_type": "markdown",
      "source": [
        "I propose to recreate the visualization provided below. This is very interesting topic in recent days because player's salaries have increased significantly in the premier league."
      ],
      "metadata": {
        "id": "I8xAPd5a3n7Y"
      }
    },
    {
      "cell_type": "markdown",
      "source": [
        "Source:- https://www.statista.com/statistics/547090/average-annual-first-team-player-salary-in-football-clubs-english-premier-league-uk/\n"
      ],
      "metadata": {
        "id": "WDNL5oz31skT"
      }
    },
    {
      "cell_type": "markdown",
      "source": [
        "![Premier league](https://www.statista.com/graphic/1/547090/average-annual-first-team-player-salary-in-football-clubs-english-premier-league-uk.jpg)\n"
      ],
      "metadata": {
        "id": "l8uK-yDvuGWz"
      }
    },
    {
      "cell_type": "markdown",
      "source": [
        "##Visualization Description\n",
        "\n",
        "The graph provides the information on premier league clubs average spending on first-team player salary in 2019/2020 seaoson. The average first team salary exceeds 6 million per year. During the 2019/2020 football season, Manchester City paid the highest average annual player salary out of all teams in the English Premier League (EPL), with an average of roughly 8.73 million U.S. dollars. Manchester United was the highest paying club in the EPL for the previous two seasons, while Sheffield United, which moved up into the EPL from the Football League Championship this season, paid the lowest annual average of approximately 910 thousand U.S. dollars per player in 2019/20. "
      ],
      "metadata": {
        "id": "Rd4wj7sA9x83"
      }
    },
    {
      "cell_type": "markdown",
      "source": [
        "##Visualization Excellence\n",
        "\n",
        "This graph is visually excellent because it provides clear information to the viewers. The graph is simple yet so powerful. It is simply because anyone can look at this graph and understand what message it is trying to convey. It is powerful because it provides all the necessary information in terms of numbers, names, and visuals. The focus of this graph is to show the difference in premier league clubs' spending power in terms of paying salaries to players. This graph has successfully been able to do so, that is why the graph is visually excellent."
      ],
      "metadata": {
        "id": "KJDzOKNdBHRN"
      }
    },
    {
      "cell_type": "markdown",
      "source": [
        "##Hardship\n",
        "\n",
        "I think it would be hard to portray the data exactly like the graph provided."
      ],
      "metadata": {
        "id": "Usdy2lH4GXsY"
      }
    },
    {
      "cell_type": "markdown",
      "source": [
        "##Dataset Link\n",
        "Here is the link of data that provides wage structure of all the premier league clubs\n",
        "https://www.spotrac.com/epl/payroll/\n"
      ],
      "metadata": {
        "id": "ePM-rg8w2g5a"
      }
    }
  ]
}