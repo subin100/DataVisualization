{
  "nbformat": 4,
  "nbformat_minor": 0,
  "metadata": {
    "colab": {
      "name": "MasterProposal.ipynb",
      "provenance": [],
      "collapsed_sections": [],
      "authorship_tag": "ABX9TyPBRqonawOM90HdkvF0wb1m",
      "include_colab_link": true
    },
    "kernelspec": {
      "name": "python3",
      "display_name": "Python 3"
    },
    "language_info": {
      "name": "python"
    }
  },
  "cells": [
    {
      "cell_type": "markdown",
      "metadata": {
        "id": "view-in-github",
        "colab_type": "text"
      },
      "source": [
        "<a href=\"https://colab.research.google.com/github/subin100/DataVisualization/blob/main/MasterProposal.ipynb\" target=\"_parent\"><img src=\"https://colab.research.google.com/assets/colab-badge.svg\" alt=\"Open In Colab\"/></a>"
      ]
    },
    {
      "cell_type": "markdown",
      "source": [
        "##Subin Manandhar\n",
        "##Data Visualization\n",
        "##Instructor: Dr Nicholas Jacob"
      ],
      "metadata": {
        "id": "AHJwtGNeH5qf"
      }
    },
    {
      "cell_type": "markdown",
      "source": [
        "I propose to recreate the visualization provided below. This is very interesting topic in recent days because manager's salaries have increased significantly in the premier league."
      ],
      "metadata": {
        "id": "I8xAPd5a3n7Y"
      }
    },
    {
      "cell_type": "markdown",
      "source": [
        "Source:- https://www.statista.com/statistics/547090/average-annual-first-team-player-salary-in-football-clubs-english-premier-league-uk/\n"
      ],
      "metadata": {
        "id": "WDNL5oz31skT"
      }
    },
    {
      "cell_type": "markdown",
      "source": [
        "![Premier league](https://www.thesun.co.uk/wp-content/uploads/2022/02/jb-graphic-pl-mangers-salaries-v2-1.jpg)\n"
      ],
      "metadata": {
        "id": "l8uK-yDvuGWz"
      }
    },
    {
      "cell_type": "markdown",
      "source": [
        "##Visualization Description\n",
        "\n",
        "The graph provides the information on premier league clubs spending on first-team manager salary. The first team manager salary exceeds 19 million per year.Manchester City paid the highest annual manager salary out of all teams in the English Premier League (EPL), with an average of roughly 19 million. \n",
        "\n",
        "The graph includes name of the manager and club's logo on the left. On the right is the bar graph of salaries earned by a respected managers."
      ],
      "metadata": {
        "id": "Rd4wj7sA9x83"
      }
    },
    {
      "cell_type": "markdown",
      "source": [
        "##Visualization Excellence\n",
        "\n",
        "This graph is visually excellent because it provides clear information to the viewers. The graph is simple yet so powerful. It is simply because anyone can look at this graph and understand what message it is trying to convey. It is powerful because it provides all the necessary information in terms of numbers, names, and visuals. The focus of this graph is to show the difference in premier league clubs' spending power in terms of paying salaries to manager. This graph has successfully been able to do so, that is why the graph is visually excellent."
      ],
      "metadata": {
        "id": "KJDzOKNdBHRN"
      }
    },
    {
      "cell_type": "markdown",
      "source": [
        "##Hardship\n",
        "\n",
        "I think it would be hard to portray the data exactly like the graph provided. For example putting club's logo beside the managers name."
      ],
      "metadata": {
        "id": "Usdy2lH4GXsY"
      }
    },
    {
      "cell_type": "markdown",
      "source": [
        "##Dataset Link\n",
        "Here is the link of data that provides wage structure of all the premier league clubs\n",
        "https://www.spotrac.com/epl/payroll/\n",
        "\n",
        "https://www.sportekz.com/football/premier-league-managers-2020-salaries/\n"
      ],
      "metadata": {
        "id": "ePM-rg8w2g5a"
      }
    }
  ]
}