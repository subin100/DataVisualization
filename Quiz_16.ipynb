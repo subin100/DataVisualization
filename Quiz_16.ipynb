{
  "nbformat": 4,
  "nbformat_minor": 0,
  "metadata": {
    "colab": {
      "name": "Quiz 16.ipynb",
      "provenance": [],
      "authorship_tag": "ABX9TyP87AwjPMq2Hx4kBf6yWDNM",
      "include_colab_link": true
    },
    "kernelspec": {
      "name": "python3",
      "display_name": "Python 3"
    },
    "language_info": {
      "name": "python"
    }
  },
  "cells": [
    {
      "cell_type": "markdown",
      "metadata": {
        "id": "view-in-github",
        "colab_type": "text"
      },
      "source": [
        "<a href=\"https://colab.research.google.com/github/subin100/DataVisualization/blob/main/Quiz_16.ipynb\" target=\"_parent\"><img src=\"https://colab.research.google.com/assets/colab-badge.svg\" alt=\"Open In Colab\"/></a>"
      ]
    },
    {
      "cell_type": "markdown",
      "source": [
        "###Subin Manandhar\n",
        "###Data Visualization\n",
        "###HW 16"
      ],
      "metadata": {
        "id": "Gvv30CH__W4T"
      }
    },
    {
      "cell_type": "code",
      "execution_count": 47,
      "metadata": {
        "colab": {
          "base_uri": "https://localhost:8080/",
          "height": 520
        },
        "id": "_cf37JGypb3L",
        "outputId": "ae761779-9e09-4325-85d7-4c04610a122d"
      },
      "outputs": [
        {
          "output_type": "execute_result",
          "data": {
            "text/html": [
              "\n",
              "  <div id=\"df-84db67f8-3ace-42fa-bdba-83f2aa373c25\">\n",
              "    <div class=\"colab-df-container\">\n",
              "      <div>\n",
              "<style scoped>\n",
              "    .dataframe tbody tr th:only-of-type {\n",
              "        vertical-align: middle;\n",
              "    }\n",
              "\n",
              "    .dataframe tbody tr th {\n",
              "        vertical-align: top;\n",
              "    }\n",
              "\n",
              "    .dataframe thead th {\n",
              "        text-align: right;\n",
              "    }\n",
              "</style>\n",
              "<table border=\"1\" class=\"dataframe\">\n",
              "  <thead>\n",
              "    <tr style=\"text-align: right;\">\n",
              "      <th></th>\n",
              "      <th>id</th>\n",
              "      <th>room_id/id</th>\n",
              "      <th>noted_date</th>\n",
              "      <th>temp</th>\n",
              "      <th>out/in</th>\n",
              "    </tr>\n",
              "  </thead>\n",
              "  <tbody>\n",
              "    <tr>\n",
              "      <th>0</th>\n",
              "      <td>__export__.temp_log_196134_bd201015</td>\n",
              "      <td>Room Admin</td>\n",
              "      <td>08-12-2018 09:30</td>\n",
              "      <td>29</td>\n",
              "      <td>In</td>\n",
              "    </tr>\n",
              "    <tr>\n",
              "      <th>1</th>\n",
              "      <td>__export__.temp_log_196131_7bca51bc</td>\n",
              "      <td>Room Admin</td>\n",
              "      <td>08-12-2018 09:30</td>\n",
              "      <td>29</td>\n",
              "      <td>In</td>\n",
              "    </tr>\n",
              "    <tr>\n",
              "      <th>2</th>\n",
              "      <td>__export__.temp_log_196127_522915e3</td>\n",
              "      <td>Room Admin</td>\n",
              "      <td>08-12-2018 09:29</td>\n",
              "      <td>41</td>\n",
              "      <td>Out</td>\n",
              "    </tr>\n",
              "    <tr>\n",
              "      <th>3</th>\n",
              "      <td>__export__.temp_log_196128_be0919cf</td>\n",
              "      <td>Room Admin</td>\n",
              "      <td>08-12-2018 09:29</td>\n",
              "      <td>41</td>\n",
              "      <td>Out</td>\n",
              "    </tr>\n",
              "    <tr>\n",
              "      <th>4</th>\n",
              "      <td>__export__.temp_log_196126_d30b72fb</td>\n",
              "      <td>Room Admin</td>\n",
              "      <td>08-12-2018 09:29</td>\n",
              "      <td>31</td>\n",
              "      <td>In</td>\n",
              "    </tr>\n",
              "    <tr>\n",
              "      <th>5</th>\n",
              "      <td>__export__.temp_log_196125_b0fa0b41</td>\n",
              "      <td>Room Admin</td>\n",
              "      <td>08-12-2018 09:29</td>\n",
              "      <td>31</td>\n",
              "      <td>In</td>\n",
              "    </tr>\n",
              "    <tr>\n",
              "      <th>6</th>\n",
              "      <td>__export__.temp_log_196121_01544d45</td>\n",
              "      <td>Room Admin</td>\n",
              "      <td>08-12-2018 09:28</td>\n",
              "      <td>29</td>\n",
              "      <td>In</td>\n",
              "    </tr>\n",
              "    <tr>\n",
              "      <th>7</th>\n",
              "      <td>__export__.temp_log_196122_f8b80a9f</td>\n",
              "      <td>Room Admin</td>\n",
              "      <td>08-12-2018 09:28</td>\n",
              "      <td>29</td>\n",
              "      <td>In</td>\n",
              "    </tr>\n",
              "    <tr>\n",
              "      <th>8</th>\n",
              "      <td>__export__.temp_log_196111_6b7a0848</td>\n",
              "      <td>Room Admin</td>\n",
              "      <td>08-12-2018 09:26</td>\n",
              "      <td>29</td>\n",
              "      <td>In</td>\n",
              "    </tr>\n",
              "    <tr>\n",
              "      <th>9</th>\n",
              "      <td>__export__.temp_log_196112_e134aebd</td>\n",
              "      <td>Room Admin</td>\n",
              "      <td>08-12-2018 09:26</td>\n",
              "      <td>29</td>\n",
              "      <td>In</td>\n",
              "    </tr>\n",
              "    <tr>\n",
              "      <th>10</th>\n",
              "      <td>__export__.temp_log_196108_4a983c7e</td>\n",
              "      <td>Room Admin</td>\n",
              "      <td>08-12-2018 09:25</td>\n",
              "      <td>42</td>\n",
              "      <td>Out</td>\n",
              "    </tr>\n",
              "    <tr>\n",
              "      <th>11</th>\n",
              "      <td>__export__.temp_log_196108_4a983c7e</td>\n",
              "      <td>Room Admin</td>\n",
              "      <td>08-12-2018 09:25</td>\n",
              "      <td>42</td>\n",
              "      <td>Out</td>\n",
              "    </tr>\n",
              "    <tr>\n",
              "      <th>12</th>\n",
              "      <td>__export__.temp_log_196101_d5ec7633</td>\n",
              "      <td>Room Admin</td>\n",
              "      <td>08-12-2018 09:24</td>\n",
              "      <td>29</td>\n",
              "      <td>In</td>\n",
              "    </tr>\n",
              "    <tr>\n",
              "      <th>13</th>\n",
              "      <td>__export__.temp_log_196099_3b8ef67b</td>\n",
              "      <td>Room Admin</td>\n",
              "      <td>08-12-2018 09:24</td>\n",
              "      <td>29</td>\n",
              "      <td>In</td>\n",
              "    </tr>\n",
              "    <tr>\n",
              "      <th>14</th>\n",
              "      <td>__export__.temp_log_196095_788b2c27</td>\n",
              "      <td>Room Admin</td>\n",
              "      <td>08-12-2018 09:22</td>\n",
              "      <td>29</td>\n",
              "      <td>In</td>\n",
              "    </tr>\n",
              "  </tbody>\n",
              "</table>\n",
              "</div>\n",
              "      <button class=\"colab-df-convert\" onclick=\"convertToInteractive('df-84db67f8-3ace-42fa-bdba-83f2aa373c25')\"\n",
              "              title=\"Convert this dataframe to an interactive table.\"\n",
              "              style=\"display:none;\">\n",
              "        \n",
              "  <svg xmlns=\"http://www.w3.org/2000/svg\" height=\"24px\"viewBox=\"0 0 24 24\"\n",
              "       width=\"24px\">\n",
              "    <path d=\"M0 0h24v24H0V0z\" fill=\"none\"/>\n",
              "    <path d=\"M18.56 5.44l.94 2.06.94-2.06 2.06-.94-2.06-.94-.94-2.06-.94 2.06-2.06.94zm-11 1L8.5 8.5l.94-2.06 2.06-.94-2.06-.94L8.5 2.5l-.94 2.06-2.06.94zm10 10l.94 2.06.94-2.06 2.06-.94-2.06-.94-.94-2.06-.94 2.06-2.06.94z\"/><path d=\"M17.41 7.96l-1.37-1.37c-.4-.4-.92-.59-1.43-.59-.52 0-1.04.2-1.43.59L10.3 9.45l-7.72 7.72c-.78.78-.78 2.05 0 2.83L4 21.41c.39.39.9.59 1.41.59.51 0 1.02-.2 1.41-.59l7.78-7.78 2.81-2.81c.8-.78.8-2.07 0-2.86zM5.41 20L4 18.59l7.72-7.72 1.47 1.35L5.41 20z\"/>\n",
              "  </svg>\n",
              "      </button>\n",
              "      \n",
              "  <style>\n",
              "    .colab-df-container {\n",
              "      display:flex;\n",
              "      flex-wrap:wrap;\n",
              "      gap: 12px;\n",
              "    }\n",
              "\n",
              "    .colab-df-convert {\n",
              "      background-color: #E8F0FE;\n",
              "      border: none;\n",
              "      border-radius: 50%;\n",
              "      cursor: pointer;\n",
              "      display: none;\n",
              "      fill: #1967D2;\n",
              "      height: 32px;\n",
              "      padding: 0 0 0 0;\n",
              "      width: 32px;\n",
              "    }\n",
              "\n",
              "    .colab-df-convert:hover {\n",
              "      background-color: #E2EBFA;\n",
              "      box-shadow: 0px 1px 2px rgba(60, 64, 67, 0.3), 0px 1px 3px 1px rgba(60, 64, 67, 0.15);\n",
              "      fill: #174EA6;\n",
              "    }\n",
              "\n",
              "    [theme=dark] .colab-df-convert {\n",
              "      background-color: #3B4455;\n",
              "      fill: #D2E3FC;\n",
              "    }\n",
              "\n",
              "    [theme=dark] .colab-df-convert:hover {\n",
              "      background-color: #434B5C;\n",
              "      box-shadow: 0px 1px 3px 1px rgba(0, 0, 0, 0.15);\n",
              "      filter: drop-shadow(0px 1px 2px rgba(0, 0, 0, 0.3));\n",
              "      fill: #FFFFFF;\n",
              "    }\n",
              "  </style>\n",
              "\n",
              "      <script>\n",
              "        const buttonEl =\n",
              "          document.querySelector('#df-84db67f8-3ace-42fa-bdba-83f2aa373c25 button.colab-df-convert');\n",
              "        buttonEl.style.display =\n",
              "          google.colab.kernel.accessAllowed ? 'block' : 'none';\n",
              "\n",
              "        async function convertToInteractive(key) {\n",
              "          const element = document.querySelector('#df-84db67f8-3ace-42fa-bdba-83f2aa373c25');\n",
              "          const dataTable =\n",
              "            await google.colab.kernel.invokeFunction('convertToInteractive',\n",
              "                                                     [key], {});\n",
              "          if (!dataTable) return;\n",
              "\n",
              "          const docLinkHtml = 'Like what you see? Visit the ' +\n",
              "            '<a target=\"_blank\" href=https://colab.research.google.com/notebooks/data_table.ipynb>data table notebook</a>'\n",
              "            + ' to learn more about interactive tables.';\n",
              "          element.innerHTML = '';\n",
              "          dataTable['output_type'] = 'display_data';\n",
              "          await google.colab.output.renderOutput(dataTable, element);\n",
              "          const docLink = document.createElement('div');\n",
              "          docLink.innerHTML = docLinkHtml;\n",
              "          element.appendChild(docLink);\n",
              "        }\n",
              "      </script>\n",
              "    </div>\n",
              "  </div>\n",
              "  "
            ],
            "text/plain": [
              "                                     id  room_id/id  ... temp  out/in\n",
              "0   __export__.temp_log_196134_bd201015  Room Admin  ...   29      In\n",
              "1   __export__.temp_log_196131_7bca51bc  Room Admin  ...   29      In\n",
              "2   __export__.temp_log_196127_522915e3  Room Admin  ...   41     Out\n",
              "3   __export__.temp_log_196128_be0919cf  Room Admin  ...   41     Out\n",
              "4   __export__.temp_log_196126_d30b72fb  Room Admin  ...   31      In\n",
              "5   __export__.temp_log_196125_b0fa0b41  Room Admin  ...   31      In\n",
              "6   __export__.temp_log_196121_01544d45  Room Admin  ...   29      In\n",
              "7   __export__.temp_log_196122_f8b80a9f  Room Admin  ...   29      In\n",
              "8   __export__.temp_log_196111_6b7a0848  Room Admin  ...   29      In\n",
              "9   __export__.temp_log_196112_e134aebd  Room Admin  ...   29      In\n",
              "10  __export__.temp_log_196108_4a983c7e  Room Admin  ...   42     Out\n",
              "11  __export__.temp_log_196108_4a983c7e  Room Admin  ...   42     Out\n",
              "12  __export__.temp_log_196101_d5ec7633  Room Admin  ...   29      In\n",
              "13  __export__.temp_log_196099_3b8ef67b  Room Admin  ...   29      In\n",
              "14  __export__.temp_log_196095_788b2c27  Room Admin  ...   29      In\n",
              "\n",
              "[15 rows x 5 columns]"
            ]
          },
          "metadata": {},
          "execution_count": 47
        }
      ],
      "source": [
        "import pandas as pa\n",
        "\n",
        "df = pa.read_csv('https://raw.githubusercontent.com/nurfnick/Data_Viz/main/IOT-temp.csv')\n",
        "\n",
        "df.head(15)"
      ]
    },
    {
      "cell_type": "code",
      "source": [
        "pa.to_datetime(df.noted_date)"
      ],
      "metadata": {
        "colab": {
          "base_uri": "https://localhost:8080/"
        },
        "id": "X4XuU17V4K8T",
        "outputId": "0e5f692c-37ed-4951-c0d4-761612521cbd"
      },
      "execution_count": 31,
      "outputs": [
        {
          "output_type": "execute_result",
          "data": {
            "text/plain": [
              "0       2018-08-12 09:30:00\n",
              "1       2018-08-12 09:30:00\n",
              "2       2018-08-12 09:29:00\n",
              "3       2018-08-12 09:29:00\n",
              "4       2018-08-12 09:29:00\n",
              "                ...        \n",
              "97601   2018-07-28 07:07:00\n",
              "97602   2018-07-28 07:07:00\n",
              "97603   2018-07-28 07:06:00\n",
              "97604   2018-07-28 07:06:00\n",
              "97605   2018-07-28 07:06:00\n",
              "Name: noted_date, Length: 97606, dtype: datetime64[ns]"
            ]
          },
          "metadata": {},
          "execution_count": 31
        }
      ]
    },
    {
      "cell_type": "code",
      "source": [
        "df.noted_date = pa.to_datetime(df.noted_date)"
      ],
      "metadata": {
        "id": "EvKJQHba84kr"
      },
      "execution_count": 41,
      "outputs": []
    },
    {
      "cell_type": "code",
      "source": [
        "df.noted_date.max()"
      ],
      "metadata": {
        "colab": {
          "base_uri": "https://localhost:8080/",
          "height": 35
        },
        "id": "d0jm1UPv2sJu",
        "outputId": "512faa70-3f4e-4da6-c9bf-af9bc07a82f4"
      },
      "execution_count": 26,
      "outputs": [
        {
          "output_type": "execute_result",
          "data": {
            "application/vnd.google.colaboratory.intrinsic+json": {
              "type": "string"
            },
            "text/plain": [
              "'31-10-2018 23:57'"
            ]
          },
          "metadata": {},
          "execution_count": 26
        }
      ]
    },
    {
      "cell_type": "code",
      "source": [
        "df.noted_date.min()"
      ],
      "metadata": {
        "colab": {
          "base_uri": "https://localhost:8080/",
          "height": 35
        },
        "id": "VlLUStrg2zxQ",
        "outputId": "dcf27e5b-36bd-42b1-e46e-eae99724857d"
      },
      "execution_count": 27,
      "outputs": [
        {
          "output_type": "execute_result",
          "data": {
            "application/vnd.google.colaboratory.intrinsic+json": {
              "type": "string"
            },
            "text/plain": [
              "'01-11-2018 00:06'"
            ]
          },
          "metadata": {},
          "execution_count": 27
        }
      ]
    },
    {
      "cell_type": "code",
      "source": [
        "(df.noted_date.shift() - df.noted_date).max()"
      ],
      "metadata": {
        "colab": {
          "base_uri": "https://localhost:8080/"
        },
        "id": "BEQUrusc7HoF",
        "outputId": "4f7da4b2-804f-4ff7-8890-82aae2bc3b85"
      },
      "execution_count": 43,
      "outputs": [
        {
          "output_type": "execute_result",
          "data": {
            "text/plain": [
              "Timedelta('242 days 01:15:00')"
            ]
          },
          "metadata": {},
          "execution_count": 43
        }
      ]
    },
    {
      "cell_type": "markdown",
      "source": [
        "I couldn't figure out to calculate average after working for some hours."
      ],
      "metadata": {
        "id": "X9Gk-nte_rBx"
      }
    }
  ]
}