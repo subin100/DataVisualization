{
  "nbformat": 4,
  "nbformat_minor": 0,
  "metadata": {
    "colab": {
      "name": "Exam 2.ipynb",
      "provenance": [],
      "collapsed_sections": [],
      "authorship_tag": "ABX9TyMd5+x0CJhWna7BILOYTqLd",
      "include_colab_link": true
    },
    "kernelspec": {
      "name": "python3",
      "display_name": "Python 3"
    },
    "language_info": {
      "name": "python"
    }
  },
  "cells": [
    {
      "cell_type": "markdown",
      "metadata": {
        "id": "view-in-github",
        "colab_type": "text"
      },
      "source": [
        "<a href=\"https://colab.research.google.com/github/subin100/DataVisualization/blob/main/Exam_2.ipynb\" target=\"_parent\"><img src=\"https://colab.research.google.com/assets/colab-badge.svg\" alt=\"Open In Colab\"/></a>"
      ]
    },
    {
      "cell_type": "markdown",
      "source": [
        "##Subin Manandhar\n",
        "##Data Visualization\n",
        "## Exam 2"
      ],
      "metadata": {
        "id": "GKkyYFlqHVmC"
      }
    },
    {
      "cell_type": "markdown",
      "source": [
        "References:\n",
        "\n",
        "https://github.com/nurfnick/Data_Viz\n",
        "\n",
        "https://github.com/subin100/DataVisualization\n",
        "\n",
        "https://stackoverflow.com/questions/61662300/computing-mean-for-average-running-pace-using-two-different-pandas-dfs\n"
      ],
      "metadata": {
        "id": "WvbTUAGxHj9-"
      }
    },
    {
      "cell_type": "markdown",
      "source": [
        "“I attest that the resources above were the only ones utilized in completing\n",
        "the exam and the work included is my own and no one else from the course"
      ],
      "metadata": {
        "id": "9cU0z7UfHe4g"
      }
    },
    {
      "cell_type": "code",
      "execution_count": 1,
      "metadata": {
        "id": "4xEzK6EV5Kkc"
      },
      "outputs": [],
      "source": [
        "import pandas as pd\n",
        "import re\n",
        "import numpy as np"
      ]
    },
    {
      "cell_type": "markdown",
      "source": [
        "### A.  Store the data as a pandas dataframe. Examine each datatype and comment on the appropriateness of each."
      ],
      "metadata": {
        "id": "riGzVcsO5Vlv"
      }
    },
    {
      "cell_type": "code",
      "source": [
        "df = pa.read_csv('https://raw.githubusercontent.com/nurfnick/Data_Viz/main/Activity_Dataset_V1.csv')\n",
        "\n",
        "df.head()"
      ],
      "metadata": {
        "colab": {
          "base_uri": "https://localhost:8080/",
          "height": 317
        },
        "id": "cDxE-quO5Upz",
        "outputId": "02c45d1b-c957-4dc3-ca96-423e6a4b7a26"
      },
      "execution_count": 9,
      "outputs": [
        {
          "output_type": "execute_result",
          "data": {
            "text/html": [
              "\n",
              "  <div id=\"df-613b2812-d616-4eda-b628-b6fd222f7314\">\n",
              "    <div class=\"colab-df-container\">\n",
              "      <div>\n",
              "<style scoped>\n",
              "    .dataframe tbody tr th:only-of-type {\n",
              "        vertical-align: middle;\n",
              "    }\n",
              "\n",
              "    .dataframe tbody tr th {\n",
              "        vertical-align: top;\n",
              "    }\n",
              "\n",
              "    .dataframe thead th {\n",
              "        text-align: right;\n",
              "    }\n",
              "</style>\n",
              "<table border=\"1\" class=\"dataframe\">\n",
              "  <thead>\n",
              "    <tr style=\"text-align: right;\">\n",
              "      <th></th>\n",
              "      <th>Unnamed: 0</th>\n",
              "      <th>activity_day</th>\n",
              "      <th>workout_type</th>\n",
              "      <th>distance</th>\n",
              "      <th>time</th>\n",
              "      <th>calories</th>\n",
              "      <th>total_steps</th>\n",
              "      <th>avg_speed</th>\n",
              "      <th>avg_cadence</th>\n",
              "      <th>max_cadence</th>\n",
              "      <th>...</th>\n",
              "      <th>max_pace</th>\n",
              "      <th>min_pace</th>\n",
              "      <th>avg_heart_rate</th>\n",
              "      <th>max_heart_rate</th>\n",
              "      <th>min_heart_rate</th>\n",
              "      <th>vo2_max(%)</th>\n",
              "      <th>aerobic(%)</th>\n",
              "      <th>anaerobic(%)</th>\n",
              "      <th>intensive(%)</th>\n",
              "      <th>light(%)</th>\n",
              "    </tr>\n",
              "  </thead>\n",
              "  <tbody>\n",
              "    <tr>\n",
              "      <th>0</th>\n",
              "      <td>0</td>\n",
              "      <td>2022-01-01</td>\n",
              "      <td>Freestyle</td>\n",
              "      <td>9.30</td>\n",
              "      <td>77</td>\n",
              "      <td>123</td>\n",
              "      <td>NaN</td>\n",
              "      <td>18.88</td>\n",
              "      <td>168.54</td>\n",
              "      <td>138.30</td>\n",
              "      <td>...</td>\n",
              "      <td>NaN</td>\n",
              "      <td>NaN</td>\n",
              "      <td>112.5</td>\n",
              "      <td>122.0</td>\n",
              "      <td>103</td>\n",
              "      <td>19</td>\n",
              "      <td>28</td>\n",
              "      <td>2</td>\n",
              "      <td>7</td>\n",
              "      <td>50</td>\n",
              "    </tr>\n",
              "    <tr>\n",
              "      <th>1</th>\n",
              "      <td>1</td>\n",
              "      <td>2022-01-01</td>\n",
              "      <td>Freestyle</td>\n",
              "      <td>3.44</td>\n",
              "      <td>96</td>\n",
              "      <td>55</td>\n",
              "      <td>NaN</td>\n",
              "      <td>29.65</td>\n",
              "      <td>125.92</td>\n",
              "      <td>292.81</td>\n",
              "      <td>...</td>\n",
              "      <td>NaN</td>\n",
              "      <td>NaN</td>\n",
              "      <td>111.0</td>\n",
              "      <td>122.0</td>\n",
              "      <td>100</td>\n",
              "      <td>42</td>\n",
              "      <td>28</td>\n",
              "      <td>2</td>\n",
              "      <td>29</td>\n",
              "      <td>88</td>\n",
              "    </tr>\n",
              "    <tr>\n",
              "      <th>2</th>\n",
              "      <td>2</td>\n",
              "      <td>2022-01-01</td>\n",
              "      <td>Indoor Cycling</td>\n",
              "      <td>6.34</td>\n",
              "      <td>85</td>\n",
              "      <td>33</td>\n",
              "      <td>NaN</td>\n",
              "      <td>17.85</td>\n",
              "      <td>81.93</td>\n",
              "      <td>323.69</td>\n",
              "      <td>...</td>\n",
              "      <td>NaN</td>\n",
              "      <td>NaN</td>\n",
              "      <td>95.0</td>\n",
              "      <td>90.0</td>\n",
              "      <td>100</td>\n",
              "      <td>1</td>\n",
              "      <td>32</td>\n",
              "      <td>0</td>\n",
              "      <td>22</td>\n",
              "      <td>43</td>\n",
              "    </tr>\n",
              "    <tr>\n",
              "      <th>3</th>\n",
              "      <td>3</td>\n",
              "      <td>2022-01-01</td>\n",
              "      <td>Walking</td>\n",
              "      <td>7.91</td>\n",
              "      <td>42</td>\n",
              "      <td>82</td>\n",
              "      <td>1571.0</td>\n",
              "      <td>22.10</td>\n",
              "      <td>29.63</td>\n",
              "      <td>180.16</td>\n",
              "      <td>...</td>\n",
              "      <td>28:58</td>\n",
              "      <td>07:58</td>\n",
              "      <td>83.0</td>\n",
              "      <td>85.0</td>\n",
              "      <td>81</td>\n",
              "      <td>3</td>\n",
              "      <td>22</td>\n",
              "      <td>0</td>\n",
              "      <td>24</td>\n",
              "      <td>65</td>\n",
              "    </tr>\n",
              "    <tr>\n",
              "      <th>4</th>\n",
              "      <td>4</td>\n",
              "      <td>2022-01-01</td>\n",
              "      <td>Open Water</td>\n",
              "      <td>8.99</td>\n",
              "      <td>36</td>\n",
              "      <td>131</td>\n",
              "      <td>NaN</td>\n",
              "      <td>25.83</td>\n",
              "      <td>64.55</td>\n",
              "      <td>342.89</td>\n",
              "      <td>...</td>\n",
              "      <td>NaN</td>\n",
              "      <td>NaN</td>\n",
              "      <td>138.0</td>\n",
              "      <td>166.0</td>\n",
              "      <td>110</td>\n",
              "      <td>7</td>\n",
              "      <td>0</td>\n",
              "      <td>5</td>\n",
              "      <td>21</td>\n",
              "      <td>88</td>\n",
              "    </tr>\n",
              "  </tbody>\n",
              "</table>\n",
              "<p>5 rows × 21 columns</p>\n",
              "</div>\n",
              "      <button class=\"colab-df-convert\" onclick=\"convertToInteractive('df-613b2812-d616-4eda-b628-b6fd222f7314')\"\n",
              "              title=\"Convert this dataframe to an interactive table.\"\n",
              "              style=\"display:none;\">\n",
              "        \n",
              "  <svg xmlns=\"http://www.w3.org/2000/svg\" height=\"24px\"viewBox=\"0 0 24 24\"\n",
              "       width=\"24px\">\n",
              "    <path d=\"M0 0h24v24H0V0z\" fill=\"none\"/>\n",
              "    <path d=\"M18.56 5.44l.94 2.06.94-2.06 2.06-.94-2.06-.94-.94-2.06-.94 2.06-2.06.94zm-11 1L8.5 8.5l.94-2.06 2.06-.94-2.06-.94L8.5 2.5l-.94 2.06-2.06.94zm10 10l.94 2.06.94-2.06 2.06-.94-2.06-.94-.94-2.06-.94 2.06-2.06.94z\"/><path d=\"M17.41 7.96l-1.37-1.37c-.4-.4-.92-.59-1.43-.59-.52 0-1.04.2-1.43.59L10.3 9.45l-7.72 7.72c-.78.78-.78 2.05 0 2.83L4 21.41c.39.39.9.59 1.41.59.51 0 1.02-.2 1.41-.59l7.78-7.78 2.81-2.81c.8-.78.8-2.07 0-2.86zM5.41 20L4 18.59l7.72-7.72 1.47 1.35L5.41 20z\"/>\n",
              "  </svg>\n",
              "      </button>\n",
              "      \n",
              "  <style>\n",
              "    .colab-df-container {\n",
              "      display:flex;\n",
              "      flex-wrap:wrap;\n",
              "      gap: 12px;\n",
              "    }\n",
              "\n",
              "    .colab-df-convert {\n",
              "      background-color: #E8F0FE;\n",
              "      border: none;\n",
              "      border-radius: 50%;\n",
              "      cursor: pointer;\n",
              "      display: none;\n",
              "      fill: #1967D2;\n",
              "      height: 32px;\n",
              "      padding: 0 0 0 0;\n",
              "      width: 32px;\n",
              "    }\n",
              "\n",
              "    .colab-df-convert:hover {\n",
              "      background-color: #E2EBFA;\n",
              "      box-shadow: 0px 1px 2px rgba(60, 64, 67, 0.3), 0px 1px 3px 1px rgba(60, 64, 67, 0.15);\n",
              "      fill: #174EA6;\n",
              "    }\n",
              "\n",
              "    [theme=dark] .colab-df-convert {\n",
              "      background-color: #3B4455;\n",
              "      fill: #D2E3FC;\n",
              "    }\n",
              "\n",
              "    [theme=dark] .colab-df-convert:hover {\n",
              "      background-color: #434B5C;\n",
              "      box-shadow: 0px 1px 3px 1px rgba(0, 0, 0, 0.15);\n",
              "      filter: drop-shadow(0px 1px 2px rgba(0, 0, 0, 0.3));\n",
              "      fill: #FFFFFF;\n",
              "    }\n",
              "  </style>\n",
              "\n",
              "      <script>\n",
              "        const buttonEl =\n",
              "          document.querySelector('#df-613b2812-d616-4eda-b628-b6fd222f7314 button.colab-df-convert');\n",
              "        buttonEl.style.display =\n",
              "          google.colab.kernel.accessAllowed ? 'block' : 'none';\n",
              "\n",
              "        async function convertToInteractive(key) {\n",
              "          const element = document.querySelector('#df-613b2812-d616-4eda-b628-b6fd222f7314');\n",
              "          const dataTable =\n",
              "            await google.colab.kernel.invokeFunction('convertToInteractive',\n",
              "                                                     [key], {});\n",
              "          if (!dataTable) return;\n",
              "\n",
              "          const docLinkHtml = 'Like what you see? Visit the ' +\n",
              "            '<a target=\"_blank\" href=https://colab.research.google.com/notebooks/data_table.ipynb>data table notebook</a>'\n",
              "            + ' to learn more about interactive tables.';\n",
              "          element.innerHTML = '';\n",
              "          dataTable['output_type'] = 'display_data';\n",
              "          await google.colab.output.renderOutput(dataTable, element);\n",
              "          const docLink = document.createElement('div');\n",
              "          docLink.innerHTML = docLinkHtml;\n",
              "          element.appendChild(docLink);\n",
              "        }\n",
              "      </script>\n",
              "    </div>\n",
              "  </div>\n",
              "  "
            ],
            "text/plain": [
              "   Unnamed: 0 activity_day    workout_type  distance  time  calories  \\\n",
              "0           0   2022-01-01       Freestyle      9.30    77       123   \n",
              "1           1   2022-01-01       Freestyle      3.44    96        55   \n",
              "2           2   2022-01-01  Indoor Cycling      6.34    85        33   \n",
              "3           3   2022-01-01         Walking      7.91    42        82   \n",
              "4           4   2022-01-01      Open Water      8.99    36       131   \n",
              "\n",
              "   total_steps  avg_speed  avg_cadence  max_cadence  ... max_pace min_pace  \\\n",
              "0          NaN      18.88       168.54       138.30  ...      NaN      NaN   \n",
              "1          NaN      29.65       125.92       292.81  ...      NaN      NaN   \n",
              "2          NaN      17.85        81.93       323.69  ...      NaN      NaN   \n",
              "3       1571.0      22.10        29.63       180.16  ...    28:58    07:58   \n",
              "4          NaN      25.83        64.55       342.89  ...      NaN      NaN   \n",
              "\n",
              "  avg_heart_rate  max_heart_rate  min_heart_rate  vo2_max(%)  aerobic(%)  \\\n",
              "0          112.5           122.0             103          19          28   \n",
              "1          111.0           122.0             100          42          28   \n",
              "2           95.0            90.0             100           1          32   \n",
              "3           83.0            85.0              81           3          22   \n",
              "4          138.0           166.0             110           7           0   \n",
              "\n",
              "   anaerobic(%)  intensive(%)  light(%)  \n",
              "0             2             7        50  \n",
              "1             2            29        88  \n",
              "2             0            22        43  \n",
              "3             0            24        65  \n",
              "4             5            21        88  \n",
              "\n",
              "[5 rows x 21 columns]"
            ]
          },
          "metadata": {},
          "execution_count": 9
        }
      ]
    },
    {
      "cell_type": "code",
      "source": [
        "df.dtypes"
      ],
      "metadata": {
        "colab": {
          "base_uri": "https://localhost:8080/"
        },
        "id": "YH4hzqUm5vJN",
        "outputId": "7eff0550-01fe-4c5b-947d-a740836bb3d5"
      },
      "execution_count": 10,
      "outputs": [
        {
          "output_type": "execute_result",
          "data": {
            "text/plain": [
              "Unnamed: 0          int64\n",
              "activity_day       object\n",
              "workout_type       object\n",
              "distance          float64\n",
              "time                int64\n",
              "calories            int64\n",
              "total_steps       float64\n",
              "avg_speed         float64\n",
              "avg_cadence       float64\n",
              "max_cadence       float64\n",
              "avg_pace           object\n",
              "max_pace           object\n",
              "min_pace           object\n",
              "avg_heart_rate    float64\n",
              "max_heart_rate    float64\n",
              "min_heart_rate      int64\n",
              "vo2_max(%)          int64\n",
              "aerobic(%)          int64\n",
              "anaerobic(%)        int64\n",
              "intensive(%)        int64\n",
              "light(%)            int64\n",
              "dtype: object"
            ]
          },
          "metadata": {},
          "execution_count": 10
        }
      ]
    },
    {
      "cell_type": "markdown",
      "source": [
        "###B.  Remove the column that repeats the indexes and is ‘unnamed’ as a column."
      ],
      "metadata": {
        "id": "HHfQQVIj53rq"
      }
    },
    {
      "cell_type": "markdown",
      "source": [
        "dropping \"unnamed: 0\" from the table"
      ],
      "metadata": {
        "id": "TtJAGd8mI-kH"
      }
    },
    {
      "cell_type": "code",
      "source": [
        "df = df.drop(columns=['Unnamed: 0'])\n",
        "df.head()"
      ],
      "metadata": {
        "colab": {
          "base_uri": "https://localhost:8080/",
          "height": 270
        },
        "id": "Kpk39Tys56LU",
        "outputId": "d1a2a416-9330-4ad4-f179-cbdd7e60f8f9"
      },
      "execution_count": 11,
      "outputs": [
        {
          "output_type": "execute_result",
          "data": {
            "text/html": [
              "\n",
              "  <div id=\"df-e246a712-66df-4858-9e74-5d94383f69eb\">\n",
              "    <div class=\"colab-df-container\">\n",
              "      <div>\n",
              "<style scoped>\n",
              "    .dataframe tbody tr th:only-of-type {\n",
              "        vertical-align: middle;\n",
              "    }\n",
              "\n",
              "    .dataframe tbody tr th {\n",
              "        vertical-align: top;\n",
              "    }\n",
              "\n",
              "    .dataframe thead th {\n",
              "        text-align: right;\n",
              "    }\n",
              "</style>\n",
              "<table border=\"1\" class=\"dataframe\">\n",
              "  <thead>\n",
              "    <tr style=\"text-align: right;\">\n",
              "      <th></th>\n",
              "      <th>activity_day</th>\n",
              "      <th>workout_type</th>\n",
              "      <th>distance</th>\n",
              "      <th>time</th>\n",
              "      <th>calories</th>\n",
              "      <th>total_steps</th>\n",
              "      <th>avg_speed</th>\n",
              "      <th>avg_cadence</th>\n",
              "      <th>max_cadence</th>\n",
              "      <th>avg_pace</th>\n",
              "      <th>max_pace</th>\n",
              "      <th>min_pace</th>\n",
              "      <th>avg_heart_rate</th>\n",
              "      <th>max_heart_rate</th>\n",
              "      <th>min_heart_rate</th>\n",
              "      <th>vo2_max(%)</th>\n",
              "      <th>aerobic(%)</th>\n",
              "      <th>anaerobic(%)</th>\n",
              "      <th>intensive(%)</th>\n",
              "      <th>light(%)</th>\n",
              "    </tr>\n",
              "  </thead>\n",
              "  <tbody>\n",
              "    <tr>\n",
              "      <th>0</th>\n",
              "      <td>2022-01-01</td>\n",
              "      <td>Freestyle</td>\n",
              "      <td>9.30</td>\n",
              "      <td>77</td>\n",
              "      <td>123</td>\n",
              "      <td>NaN</td>\n",
              "      <td>18.88</td>\n",
              "      <td>168.54</td>\n",
              "      <td>138.30</td>\n",
              "      <td>NaN</td>\n",
              "      <td>NaN</td>\n",
              "      <td>NaN</td>\n",
              "      <td>112.5</td>\n",
              "      <td>122.0</td>\n",
              "      <td>103</td>\n",
              "      <td>19</td>\n",
              "      <td>28</td>\n",
              "      <td>2</td>\n",
              "      <td>7</td>\n",
              "      <td>50</td>\n",
              "    </tr>\n",
              "    <tr>\n",
              "      <th>1</th>\n",
              "      <td>2022-01-01</td>\n",
              "      <td>Freestyle</td>\n",
              "      <td>3.44</td>\n",
              "      <td>96</td>\n",
              "      <td>55</td>\n",
              "      <td>NaN</td>\n",
              "      <td>29.65</td>\n",
              "      <td>125.92</td>\n",
              "      <td>292.81</td>\n",
              "      <td>NaN</td>\n",
              "      <td>NaN</td>\n",
              "      <td>NaN</td>\n",
              "      <td>111.0</td>\n",
              "      <td>122.0</td>\n",
              "      <td>100</td>\n",
              "      <td>42</td>\n",
              "      <td>28</td>\n",
              "      <td>2</td>\n",
              "      <td>29</td>\n",
              "      <td>88</td>\n",
              "    </tr>\n",
              "    <tr>\n",
              "      <th>2</th>\n",
              "      <td>2022-01-01</td>\n",
              "      <td>Indoor Cycling</td>\n",
              "      <td>6.34</td>\n",
              "      <td>85</td>\n",
              "      <td>33</td>\n",
              "      <td>NaN</td>\n",
              "      <td>17.85</td>\n",
              "      <td>81.93</td>\n",
              "      <td>323.69</td>\n",
              "      <td>NaN</td>\n",
              "      <td>NaN</td>\n",
              "      <td>NaN</td>\n",
              "      <td>95.0</td>\n",
              "      <td>90.0</td>\n",
              "      <td>100</td>\n",
              "      <td>1</td>\n",
              "      <td>32</td>\n",
              "      <td>0</td>\n",
              "      <td>22</td>\n",
              "      <td>43</td>\n",
              "    </tr>\n",
              "    <tr>\n",
              "      <th>3</th>\n",
              "      <td>2022-01-01</td>\n",
              "      <td>Walking</td>\n",
              "      <td>7.91</td>\n",
              "      <td>42</td>\n",
              "      <td>82</td>\n",
              "      <td>1571.0</td>\n",
              "      <td>22.10</td>\n",
              "      <td>29.63</td>\n",
              "      <td>180.16</td>\n",
              "      <td>07:58</td>\n",
              "      <td>28:58</td>\n",
              "      <td>07:58</td>\n",
              "      <td>83.0</td>\n",
              "      <td>85.0</td>\n",
              "      <td>81</td>\n",
              "      <td>3</td>\n",
              "      <td>22</td>\n",
              "      <td>0</td>\n",
              "      <td>24</td>\n",
              "      <td>65</td>\n",
              "    </tr>\n",
              "    <tr>\n",
              "      <th>4</th>\n",
              "      <td>2022-01-01</td>\n",
              "      <td>Open Water</td>\n",
              "      <td>8.99</td>\n",
              "      <td>36</td>\n",
              "      <td>131</td>\n",
              "      <td>NaN</td>\n",
              "      <td>25.83</td>\n",
              "      <td>64.55</td>\n",
              "      <td>342.89</td>\n",
              "      <td>NaN</td>\n",
              "      <td>NaN</td>\n",
              "      <td>NaN</td>\n",
              "      <td>138.0</td>\n",
              "      <td>166.0</td>\n",
              "      <td>110</td>\n",
              "      <td>7</td>\n",
              "      <td>0</td>\n",
              "      <td>5</td>\n",
              "      <td>21</td>\n",
              "      <td>88</td>\n",
              "    </tr>\n",
              "  </tbody>\n",
              "</table>\n",
              "</div>\n",
              "      <button class=\"colab-df-convert\" onclick=\"convertToInteractive('df-e246a712-66df-4858-9e74-5d94383f69eb')\"\n",
              "              title=\"Convert this dataframe to an interactive table.\"\n",
              "              style=\"display:none;\">\n",
              "        \n",
              "  <svg xmlns=\"http://www.w3.org/2000/svg\" height=\"24px\"viewBox=\"0 0 24 24\"\n",
              "       width=\"24px\">\n",
              "    <path d=\"M0 0h24v24H0V0z\" fill=\"none\"/>\n",
              "    <path d=\"M18.56 5.44l.94 2.06.94-2.06 2.06-.94-2.06-.94-.94-2.06-.94 2.06-2.06.94zm-11 1L8.5 8.5l.94-2.06 2.06-.94-2.06-.94L8.5 2.5l-.94 2.06-2.06.94zm10 10l.94 2.06.94-2.06 2.06-.94-2.06-.94-.94-2.06-.94 2.06-2.06.94z\"/><path d=\"M17.41 7.96l-1.37-1.37c-.4-.4-.92-.59-1.43-.59-.52 0-1.04.2-1.43.59L10.3 9.45l-7.72 7.72c-.78.78-.78 2.05 0 2.83L4 21.41c.39.39.9.59 1.41.59.51 0 1.02-.2 1.41-.59l7.78-7.78 2.81-2.81c.8-.78.8-2.07 0-2.86zM5.41 20L4 18.59l7.72-7.72 1.47 1.35L5.41 20z\"/>\n",
              "  </svg>\n",
              "      </button>\n",
              "      \n",
              "  <style>\n",
              "    .colab-df-container {\n",
              "      display:flex;\n",
              "      flex-wrap:wrap;\n",
              "      gap: 12px;\n",
              "    }\n",
              "\n",
              "    .colab-df-convert {\n",
              "      background-color: #E8F0FE;\n",
              "      border: none;\n",
              "      border-radius: 50%;\n",
              "      cursor: pointer;\n",
              "      display: none;\n",
              "      fill: #1967D2;\n",
              "      height: 32px;\n",
              "      padding: 0 0 0 0;\n",
              "      width: 32px;\n",
              "    }\n",
              "\n",
              "    .colab-df-convert:hover {\n",
              "      background-color: #E2EBFA;\n",
              "      box-shadow: 0px 1px 2px rgba(60, 64, 67, 0.3), 0px 1px 3px 1px rgba(60, 64, 67, 0.15);\n",
              "      fill: #174EA6;\n",
              "    }\n",
              "\n",
              "    [theme=dark] .colab-df-convert {\n",
              "      background-color: #3B4455;\n",
              "      fill: #D2E3FC;\n",
              "    }\n",
              "\n",
              "    [theme=dark] .colab-df-convert:hover {\n",
              "      background-color: #434B5C;\n",
              "      box-shadow: 0px 1px 3px 1px rgba(0, 0, 0, 0.15);\n",
              "      filter: drop-shadow(0px 1px 2px rgba(0, 0, 0, 0.3));\n",
              "      fill: #FFFFFF;\n",
              "    }\n",
              "  </style>\n",
              "\n",
              "      <script>\n",
              "        const buttonEl =\n",
              "          document.querySelector('#df-e246a712-66df-4858-9e74-5d94383f69eb button.colab-df-convert');\n",
              "        buttonEl.style.display =\n",
              "          google.colab.kernel.accessAllowed ? 'block' : 'none';\n",
              "\n",
              "        async function convertToInteractive(key) {\n",
              "          const element = document.querySelector('#df-e246a712-66df-4858-9e74-5d94383f69eb');\n",
              "          const dataTable =\n",
              "            await google.colab.kernel.invokeFunction('convertToInteractive',\n",
              "                                                     [key], {});\n",
              "          if (!dataTable) return;\n",
              "\n",
              "          const docLinkHtml = 'Like what you see? Visit the ' +\n",
              "            '<a target=\"_blank\" href=https://colab.research.google.com/notebooks/data_table.ipynb>data table notebook</a>'\n",
              "            + ' to learn more about interactive tables.';\n",
              "          element.innerHTML = '';\n",
              "          dataTable['output_type'] = 'display_data';\n",
              "          await google.colab.output.renderOutput(dataTable, element);\n",
              "          const docLink = document.createElement('div');\n",
              "          docLink.innerHTML = docLinkHtml;\n",
              "          element.appendChild(docLink);\n",
              "        }\n",
              "      </script>\n",
              "    </div>\n",
              "  </div>\n",
              "  "
            ],
            "text/plain": [
              "  activity_day    workout_type  distance  time  calories  total_steps  \\\n",
              "0   2022-01-01       Freestyle      9.30    77       123          NaN   \n",
              "1   2022-01-01       Freestyle      3.44    96        55          NaN   \n",
              "2   2022-01-01  Indoor Cycling      6.34    85        33          NaN   \n",
              "3   2022-01-01         Walking      7.91    42        82       1571.0   \n",
              "4   2022-01-01      Open Water      8.99    36       131          NaN   \n",
              "\n",
              "   avg_speed  avg_cadence  max_cadence avg_pace max_pace min_pace  \\\n",
              "0      18.88       168.54       138.30      NaN      NaN      NaN   \n",
              "1      29.65       125.92       292.81      NaN      NaN      NaN   \n",
              "2      17.85        81.93       323.69      NaN      NaN      NaN   \n",
              "3      22.10        29.63       180.16    07:58    28:58    07:58   \n",
              "4      25.83        64.55       342.89      NaN      NaN      NaN   \n",
              "\n",
              "   avg_heart_rate  max_heart_rate  min_heart_rate  vo2_max(%)  aerobic(%)  \\\n",
              "0           112.5           122.0             103          19          28   \n",
              "1           111.0           122.0             100          42          28   \n",
              "2            95.0            90.0             100           1          32   \n",
              "3            83.0            85.0              81           3          22   \n",
              "4           138.0           166.0             110           7           0   \n",
              "\n",
              "   anaerobic(%)  intensive(%)  light(%)  \n",
              "0             2             7        50  \n",
              "1             2            29        88  \n",
              "2             0            22        43  \n",
              "3             0            24        65  \n",
              "4             5            21        88  "
            ]
          },
          "metadata": {},
          "execution_count": 11
        }
      ]
    },
    {
      "cell_type": "markdown",
      "source": [
        "###C.   Clean the column names to remove the unit declaration, (%), using regular expressions. The column name should not have any trailing spaces after cleaning. You will only receive partial credit for simply renaming columns without using regular expressions."
      ],
      "metadata": {
        "id": "MCXD92VN6ok3"
      }
    },
    {
      "cell_type": "code",
      "source": [
        "df = df.rename(columns=lambda x: re.sub(r'[(.%)]','',x))\n",
        "df.columns"
      ],
      "metadata": {
        "colab": {
          "base_uri": "https://localhost:8080/"
        },
        "id": "x96KSpQi6gx7",
        "outputId": "b8417a64-043a-470f-b31b-34bf17765905"
      },
      "execution_count": 15,
      "outputs": [
        {
          "output_type": "execute_result",
          "data": {
            "text/plain": [
              "Index(['activity_day', 'workout_type', 'distance', 'time', 'calories',\n",
              "       'total_steps', 'avg_speed', 'avg_cadence', 'max_cadence', 'avg_pace',\n",
              "       'max_pace', 'min_pace', 'avg_heart_rate', 'max_heart_rate',\n",
              "       'min_heart_rate', 'vo2_max', 'aerobic', 'anaerobic', 'intensive',\n",
              "       'light'],\n",
              "      dtype='object')"
            ]
          },
          "metadata": {},
          "execution_count": 15
        }
      ]
    },
    {
      "cell_type": "markdown",
      "source": [
        "###D. Convert ‘activity day’ column into a datetime format."
      ],
      "metadata": {
        "id": "9ln43BNU6tU7"
      }
    },
    {
      "cell_type": "code",
      "source": [
        "df['activity_day'] = pd.to_datetime(df['activity_day'])"
      ],
      "metadata": {
        "id": "u0S-Rfi-6zjC"
      },
      "execution_count": 14,
      "outputs": []
    },
    {
      "cell_type": "markdown",
      "source": [
        "###E. Impute ‘total steps’ by replacing the ‘NaN’s with an appropriate number of steps. Convert to appropriate\n",
        "datatype."
      ],
      "metadata": {
        "id": "duJR9HNrBIq8"
      }
    },
    {
      "cell_type": "markdown",
      "source": [
        "checking the datatype of total_steps"
      ],
      "metadata": {
        "id": "b2aeh0HaDS2a"
      }
    },
    {
      "cell_type": "code",
      "source": [
        "df['total_steps'].dtype"
      ],
      "metadata": {
        "colab": {
          "base_uri": "https://localhost:8080/"
        },
        "id": "EGc9IOKgDQn8",
        "outputId": "ee44d109-e434-46d4-bf93-57ac1a76e853"
      },
      "execution_count": 26,
      "outputs": [
        {
          "output_type": "execute_result",
          "data": {
            "text/plain": [
              "dtype('float64')"
            ]
          },
          "metadata": {},
          "execution_count": 26
        }
      ]
    },
    {
      "cell_type": "markdown",
      "source": [
        "Replacing NaN with the float value."
      ],
      "metadata": {
        "id": "G_AGCUn5Djcl"
      }
    },
    {
      "cell_type": "code",
      "source": [
        "df.total_steps = df.total_steps.replace(np.nan,1571.0)"
      ],
      "metadata": {
        "id": "SO68AmZdBPK0"
      },
      "execution_count": 27,
      "outputs": []
    },
    {
      "cell_type": "markdown",
      "source": [
        "###F. Convert non-empty ‘avg pace’ into a float that is still representative of the information contained in the\n",
        "column."
      ],
      "metadata": {
        "id": "BCfXTyOt8ks5"
      }
    },
    {
      "cell_type": "code",
      "source": [
        "df['avg_pace'] = pd.DatetimeIndex(df['avg_pace'])\n",
        "df['avg_pace'] = df['avg_pace'].apply(lambda avg_pace: avg_pace.hour + (avg_pace.minute / 60))\n",
        "df['avg_pace'].head(10)"
      ],
      "metadata": {
        "colab": {
          "base_uri": "https://localhost:8080/"
        },
        "id": "pMkdBBgQ7A56",
        "outputId": "593a1567-72d4-4720-9f7f-d6d69b200106"
      },
      "execution_count": 16,
      "outputs": [
        {
          "output_type": "execute_result",
          "data": {
            "text/plain": [
              "0         NaN\n",
              "1         NaN\n",
              "2         NaN\n",
              "3    7.966667\n",
              "4         NaN\n",
              "5         NaN\n",
              "6         NaN\n",
              "7    6.733333\n",
              "8    6.800000\n",
              "9         NaN\n",
              "Name: avg_pace, dtype: float64"
            ]
          },
          "metadata": {},
          "execution_count": 16
        }
      ]
    },
    {
      "cell_type": "markdown",
      "source": [
        "###G. Group data by ‘workout type’ and find the mean, median, count and standard deviation of ‘calories’."
      ],
      "metadata": {
        "id": "tC2WPJoe9PJD"
      }
    },
    {
      "cell_type": "code",
      "source": [
        "df.groupby('workout_type').agg(['mean', 'median', 'count', 'std'])['calories']"
      ],
      "metadata": {
        "colab": {
          "base_uri": "https://localhost:8080/",
          "height": 425
        },
        "id": "3aMWcb2h9URK",
        "outputId": "42a51eb8-eb41-43c9-f083-34f652b6dd2c"
      },
      "execution_count": 21,
      "outputs": [
        {
          "output_type": "execute_result",
          "data": {
            "text/html": [
              "\n",
              "  <div id=\"df-c100619e-a700-4081-8d98-e0d372335329\">\n",
              "    <div class=\"colab-df-container\">\n",
              "      <div>\n",
              "<style scoped>\n",
              "    .dataframe tbody tr th:only-of-type {\n",
              "        vertical-align: middle;\n",
              "    }\n",
              "\n",
              "    .dataframe tbody tr th {\n",
              "        vertical-align: top;\n",
              "    }\n",
              "\n",
              "    .dataframe thead th {\n",
              "        text-align: right;\n",
              "    }\n",
              "</style>\n",
              "<table border=\"1\" class=\"dataframe\">\n",
              "  <thead>\n",
              "    <tr style=\"text-align: right;\">\n",
              "      <th></th>\n",
              "      <th>mean</th>\n",
              "      <th>median</th>\n",
              "      <th>count</th>\n",
              "      <th>std</th>\n",
              "    </tr>\n",
              "    <tr>\n",
              "      <th>workout_type</th>\n",
              "      <th></th>\n",
              "      <th></th>\n",
              "      <th></th>\n",
              "      <th></th>\n",
              "    </tr>\n",
              "  </thead>\n",
              "  <tbody>\n",
              "    <tr>\n",
              "      <th>Cricket</th>\n",
              "      <td>307.548387</td>\n",
              "      <td>330.0</td>\n",
              "      <td>93</td>\n",
              "      <td>149.950609</td>\n",
              "    </tr>\n",
              "    <tr>\n",
              "      <th>Freestyle</th>\n",
              "      <td>278.552083</td>\n",
              "      <td>294.0</td>\n",
              "      <td>96</td>\n",
              "      <td>163.703768</td>\n",
              "    </tr>\n",
              "    <tr>\n",
              "      <th>Indoor Cycling</th>\n",
              "      <td>280.450000</td>\n",
              "      <td>306.0</td>\n",
              "      <td>80</td>\n",
              "      <td>156.633322</td>\n",
              "    </tr>\n",
              "    <tr>\n",
              "      <th>Open Water</th>\n",
              "      <td>296.747253</td>\n",
              "      <td>328.0</td>\n",
              "      <td>91</td>\n",
              "      <td>160.068499</td>\n",
              "    </tr>\n",
              "    <tr>\n",
              "      <th>Outdoor Cycling</th>\n",
              "      <td>299.129412</td>\n",
              "      <td>301.0</td>\n",
              "      <td>85</td>\n",
              "      <td>158.731263</td>\n",
              "    </tr>\n",
              "    <tr>\n",
              "      <th>Outdoor Running</th>\n",
              "      <td>301.469136</td>\n",
              "      <td>349.0</td>\n",
              "      <td>81</td>\n",
              "      <td>165.725080</td>\n",
              "    </tr>\n",
              "    <tr>\n",
              "      <th>Pool Swimming</th>\n",
              "      <td>283.414894</td>\n",
              "      <td>300.0</td>\n",
              "      <td>94</td>\n",
              "      <td>157.576703</td>\n",
              "    </tr>\n",
              "    <tr>\n",
              "      <th>Trail Run</th>\n",
              "      <td>267.966667</td>\n",
              "      <td>264.0</td>\n",
              "      <td>90</td>\n",
              "      <td>155.748533</td>\n",
              "    </tr>\n",
              "    <tr>\n",
              "      <th>Treadmill</th>\n",
              "      <td>278.142857</td>\n",
              "      <td>269.5</td>\n",
              "      <td>98</td>\n",
              "      <td>146.963352</td>\n",
              "    </tr>\n",
              "    <tr>\n",
              "      <th>Trekking</th>\n",
              "      <td>283.127660</td>\n",
              "      <td>280.5</td>\n",
              "      <td>94</td>\n",
              "      <td>151.034870</td>\n",
              "    </tr>\n",
              "    <tr>\n",
              "      <th>Walking</th>\n",
              "      <td>276.040816</td>\n",
              "      <td>270.5</td>\n",
              "      <td>98</td>\n",
              "      <td>157.287570</td>\n",
              "    </tr>\n",
              "  </tbody>\n",
              "</table>\n",
              "</div>\n",
              "      <button class=\"colab-df-convert\" onclick=\"convertToInteractive('df-c100619e-a700-4081-8d98-e0d372335329')\"\n",
              "              title=\"Convert this dataframe to an interactive table.\"\n",
              "              style=\"display:none;\">\n",
              "        \n",
              "  <svg xmlns=\"http://www.w3.org/2000/svg\" height=\"24px\"viewBox=\"0 0 24 24\"\n",
              "       width=\"24px\">\n",
              "    <path d=\"M0 0h24v24H0V0z\" fill=\"none\"/>\n",
              "    <path d=\"M18.56 5.44l.94 2.06.94-2.06 2.06-.94-2.06-.94-.94-2.06-.94 2.06-2.06.94zm-11 1L8.5 8.5l.94-2.06 2.06-.94-2.06-.94L8.5 2.5l-.94 2.06-2.06.94zm10 10l.94 2.06.94-2.06 2.06-.94-2.06-.94-.94-2.06-.94 2.06-2.06.94z\"/><path d=\"M17.41 7.96l-1.37-1.37c-.4-.4-.92-.59-1.43-.59-.52 0-1.04.2-1.43.59L10.3 9.45l-7.72 7.72c-.78.78-.78 2.05 0 2.83L4 21.41c.39.39.9.59 1.41.59.51 0 1.02-.2 1.41-.59l7.78-7.78 2.81-2.81c.8-.78.8-2.07 0-2.86zM5.41 20L4 18.59l7.72-7.72 1.47 1.35L5.41 20z\"/>\n",
              "  </svg>\n",
              "      </button>\n",
              "      \n",
              "  <style>\n",
              "    .colab-df-container {\n",
              "      display:flex;\n",
              "      flex-wrap:wrap;\n",
              "      gap: 12px;\n",
              "    }\n",
              "\n",
              "    .colab-df-convert {\n",
              "      background-color: #E8F0FE;\n",
              "      border: none;\n",
              "      border-radius: 50%;\n",
              "      cursor: pointer;\n",
              "      display: none;\n",
              "      fill: #1967D2;\n",
              "      height: 32px;\n",
              "      padding: 0 0 0 0;\n",
              "      width: 32px;\n",
              "    }\n",
              "\n",
              "    .colab-df-convert:hover {\n",
              "      background-color: #E2EBFA;\n",
              "      box-shadow: 0px 1px 2px rgba(60, 64, 67, 0.3), 0px 1px 3px 1px rgba(60, 64, 67, 0.15);\n",
              "      fill: #174EA6;\n",
              "    }\n",
              "\n",
              "    [theme=dark] .colab-df-convert {\n",
              "      background-color: #3B4455;\n",
              "      fill: #D2E3FC;\n",
              "    }\n",
              "\n",
              "    [theme=dark] .colab-df-convert:hover {\n",
              "      background-color: #434B5C;\n",
              "      box-shadow: 0px 1px 3px 1px rgba(0, 0, 0, 0.15);\n",
              "      filter: drop-shadow(0px 1px 2px rgba(0, 0, 0, 0.3));\n",
              "      fill: #FFFFFF;\n",
              "    }\n",
              "  </style>\n",
              "\n",
              "      <script>\n",
              "        const buttonEl =\n",
              "          document.querySelector('#df-c100619e-a700-4081-8d98-e0d372335329 button.colab-df-convert');\n",
              "        buttonEl.style.display =\n",
              "          google.colab.kernel.accessAllowed ? 'block' : 'none';\n",
              "\n",
              "        async function convertToInteractive(key) {\n",
              "          const element = document.querySelector('#df-c100619e-a700-4081-8d98-e0d372335329');\n",
              "          const dataTable =\n",
              "            await google.colab.kernel.invokeFunction('convertToInteractive',\n",
              "                                                     [key], {});\n",
              "          if (!dataTable) return;\n",
              "\n",
              "          const docLinkHtml = 'Like what you see? Visit the ' +\n",
              "            '<a target=\"_blank\" href=https://colab.research.google.com/notebooks/data_table.ipynb>data table notebook</a>'\n",
              "            + ' to learn more about interactive tables.';\n",
              "          element.innerHTML = '';\n",
              "          dataTable['output_type'] = 'display_data';\n",
              "          await google.colab.output.renderOutput(dataTable, element);\n",
              "          const docLink = document.createElement('div');\n",
              "          docLink.innerHTML = docLinkHtml;\n",
              "          element.appendChild(docLink);\n",
              "        }\n",
              "      </script>\n",
              "    </div>\n",
              "  </div>\n",
              "  "
            ],
            "text/plain": [
              "                       mean  median  count         std\n",
              "workout_type                                          \n",
              "Cricket          307.548387   330.0     93  149.950609\n",
              "Freestyle        278.552083   294.0     96  163.703768\n",
              "Indoor Cycling   280.450000   306.0     80  156.633322\n",
              "Open Water       296.747253   328.0     91  160.068499\n",
              "Outdoor Cycling  299.129412   301.0     85  158.731263\n",
              "Outdoor Running  301.469136   349.0     81  165.725080\n",
              "Pool Swimming    283.414894   300.0     94  157.576703\n",
              "Trail Run        267.966667   264.0     90  155.748533\n",
              "Treadmill        278.142857   269.5     98  146.963352\n",
              "Trekking         283.127660   280.5     94  151.034870\n",
              "Walking          276.040816   270.5     98  157.287570"
            ]
          },
          "metadata": {},
          "execution_count": 21
        }
      ]
    },
    {
      "cell_type": "markdown",
      "source": [
        "###H. Create an indicator column that identifies if the activity achieved 30% or more ‘aerobic’ activity."
      ],
      "metadata": {
        "id": "_H98VFP2-SWO"
      }
    },
    {
      "cell_type": "code",
      "source": [
        "df['aerobic_indicator'] = np.where(df['aerobic'] >= 30, 'True', 'False')\n",
        "df.head()"
      ],
      "metadata": {
        "colab": {
          "base_uri": "https://localhost:8080/",
          "height": 299
        },
        "id": "s02wbgC5-PXV",
        "outputId": "bfb75415-8f1c-4aeb-977a-dea4994c92e4"
      },
      "execution_count": 19,
      "outputs": [
        {
          "output_type": "execute_result",
          "data": {
            "text/html": [
              "\n",
              "  <div id=\"df-3e7aeb29-58c4-4fb0-9daf-c5bd75dc0928\">\n",
              "    <div class=\"colab-df-container\">\n",
              "      <div>\n",
              "<style scoped>\n",
              "    .dataframe tbody tr th:only-of-type {\n",
              "        vertical-align: middle;\n",
              "    }\n",
              "\n",
              "    .dataframe tbody tr th {\n",
              "        vertical-align: top;\n",
              "    }\n",
              "\n",
              "    .dataframe thead th {\n",
              "        text-align: right;\n",
              "    }\n",
              "</style>\n",
              "<table border=\"1\" class=\"dataframe\">\n",
              "  <thead>\n",
              "    <tr style=\"text-align: right;\">\n",
              "      <th></th>\n",
              "      <th>activity_day</th>\n",
              "      <th>workout_type</th>\n",
              "      <th>distance</th>\n",
              "      <th>time</th>\n",
              "      <th>calories</th>\n",
              "      <th>total_steps</th>\n",
              "      <th>avg_speed</th>\n",
              "      <th>avg_cadence</th>\n",
              "      <th>max_cadence</th>\n",
              "      <th>avg_pace</th>\n",
              "      <th>...</th>\n",
              "      <th>min_pace</th>\n",
              "      <th>avg_heart_rate</th>\n",
              "      <th>max_heart_rate</th>\n",
              "      <th>min_heart_rate</th>\n",
              "      <th>vo2_max</th>\n",
              "      <th>aerobic</th>\n",
              "      <th>anaerobic</th>\n",
              "      <th>intensive</th>\n",
              "      <th>light</th>\n",
              "      <th>aerobic_indicator</th>\n",
              "    </tr>\n",
              "  </thead>\n",
              "  <tbody>\n",
              "    <tr>\n",
              "      <th>0</th>\n",
              "      <td>2022-01-01</td>\n",
              "      <td>Freestyle</td>\n",
              "      <td>9.30</td>\n",
              "      <td>77</td>\n",
              "      <td>123</td>\n",
              "      <td>NaN</td>\n",
              "      <td>18.88</td>\n",
              "      <td>168.54</td>\n",
              "      <td>138.30</td>\n",
              "      <td>NaN</td>\n",
              "      <td>...</td>\n",
              "      <td>NaN</td>\n",
              "      <td>112.5</td>\n",
              "      <td>122.0</td>\n",
              "      <td>103</td>\n",
              "      <td>19</td>\n",
              "      <td>28</td>\n",
              "      <td>2</td>\n",
              "      <td>7</td>\n",
              "      <td>50</td>\n",
              "      <td>False</td>\n",
              "    </tr>\n",
              "    <tr>\n",
              "      <th>1</th>\n",
              "      <td>2022-01-01</td>\n",
              "      <td>Freestyle</td>\n",
              "      <td>3.44</td>\n",
              "      <td>96</td>\n",
              "      <td>55</td>\n",
              "      <td>NaN</td>\n",
              "      <td>29.65</td>\n",
              "      <td>125.92</td>\n",
              "      <td>292.81</td>\n",
              "      <td>NaN</td>\n",
              "      <td>...</td>\n",
              "      <td>NaN</td>\n",
              "      <td>111.0</td>\n",
              "      <td>122.0</td>\n",
              "      <td>100</td>\n",
              "      <td>42</td>\n",
              "      <td>28</td>\n",
              "      <td>2</td>\n",
              "      <td>29</td>\n",
              "      <td>88</td>\n",
              "      <td>False</td>\n",
              "    </tr>\n",
              "    <tr>\n",
              "      <th>2</th>\n",
              "      <td>2022-01-01</td>\n",
              "      <td>Indoor Cycling</td>\n",
              "      <td>6.34</td>\n",
              "      <td>85</td>\n",
              "      <td>33</td>\n",
              "      <td>NaN</td>\n",
              "      <td>17.85</td>\n",
              "      <td>81.93</td>\n",
              "      <td>323.69</td>\n",
              "      <td>NaN</td>\n",
              "      <td>...</td>\n",
              "      <td>NaN</td>\n",
              "      <td>95.0</td>\n",
              "      <td>90.0</td>\n",
              "      <td>100</td>\n",
              "      <td>1</td>\n",
              "      <td>32</td>\n",
              "      <td>0</td>\n",
              "      <td>22</td>\n",
              "      <td>43</td>\n",
              "      <td>True</td>\n",
              "    </tr>\n",
              "    <tr>\n",
              "      <th>3</th>\n",
              "      <td>2022-01-01</td>\n",
              "      <td>Walking</td>\n",
              "      <td>7.91</td>\n",
              "      <td>42</td>\n",
              "      <td>82</td>\n",
              "      <td>1571.0</td>\n",
              "      <td>22.10</td>\n",
              "      <td>29.63</td>\n",
              "      <td>180.16</td>\n",
              "      <td>7.966667</td>\n",
              "      <td>...</td>\n",
              "      <td>07:58</td>\n",
              "      <td>83.0</td>\n",
              "      <td>85.0</td>\n",
              "      <td>81</td>\n",
              "      <td>3</td>\n",
              "      <td>22</td>\n",
              "      <td>0</td>\n",
              "      <td>24</td>\n",
              "      <td>65</td>\n",
              "      <td>False</td>\n",
              "    </tr>\n",
              "    <tr>\n",
              "      <th>4</th>\n",
              "      <td>2022-01-01</td>\n",
              "      <td>Open Water</td>\n",
              "      <td>8.99</td>\n",
              "      <td>36</td>\n",
              "      <td>131</td>\n",
              "      <td>NaN</td>\n",
              "      <td>25.83</td>\n",
              "      <td>64.55</td>\n",
              "      <td>342.89</td>\n",
              "      <td>NaN</td>\n",
              "      <td>...</td>\n",
              "      <td>NaN</td>\n",
              "      <td>138.0</td>\n",
              "      <td>166.0</td>\n",
              "      <td>110</td>\n",
              "      <td>7</td>\n",
              "      <td>0</td>\n",
              "      <td>5</td>\n",
              "      <td>21</td>\n",
              "      <td>88</td>\n",
              "      <td>False</td>\n",
              "    </tr>\n",
              "  </tbody>\n",
              "</table>\n",
              "<p>5 rows × 21 columns</p>\n",
              "</div>\n",
              "      <button class=\"colab-df-convert\" onclick=\"convertToInteractive('df-3e7aeb29-58c4-4fb0-9daf-c5bd75dc0928')\"\n",
              "              title=\"Convert this dataframe to an interactive table.\"\n",
              "              style=\"display:none;\">\n",
              "        \n",
              "  <svg xmlns=\"http://www.w3.org/2000/svg\" height=\"24px\"viewBox=\"0 0 24 24\"\n",
              "       width=\"24px\">\n",
              "    <path d=\"M0 0h24v24H0V0z\" fill=\"none\"/>\n",
              "    <path d=\"M18.56 5.44l.94 2.06.94-2.06 2.06-.94-2.06-.94-.94-2.06-.94 2.06-2.06.94zm-11 1L8.5 8.5l.94-2.06 2.06-.94-2.06-.94L8.5 2.5l-.94 2.06-2.06.94zm10 10l.94 2.06.94-2.06 2.06-.94-2.06-.94-.94-2.06-.94 2.06-2.06.94z\"/><path d=\"M17.41 7.96l-1.37-1.37c-.4-.4-.92-.59-1.43-.59-.52 0-1.04.2-1.43.59L10.3 9.45l-7.72 7.72c-.78.78-.78 2.05 0 2.83L4 21.41c.39.39.9.59 1.41.59.51 0 1.02-.2 1.41-.59l7.78-7.78 2.81-2.81c.8-.78.8-2.07 0-2.86zM5.41 20L4 18.59l7.72-7.72 1.47 1.35L5.41 20z\"/>\n",
              "  </svg>\n",
              "      </button>\n",
              "      \n",
              "  <style>\n",
              "    .colab-df-container {\n",
              "      display:flex;\n",
              "      flex-wrap:wrap;\n",
              "      gap: 12px;\n",
              "    }\n",
              "\n",
              "    .colab-df-convert {\n",
              "      background-color: #E8F0FE;\n",
              "      border: none;\n",
              "      border-radius: 50%;\n",
              "      cursor: pointer;\n",
              "      display: none;\n",
              "      fill: #1967D2;\n",
              "      height: 32px;\n",
              "      padding: 0 0 0 0;\n",
              "      width: 32px;\n",
              "    }\n",
              "\n",
              "    .colab-df-convert:hover {\n",
              "      background-color: #E2EBFA;\n",
              "      box-shadow: 0px 1px 2px rgba(60, 64, 67, 0.3), 0px 1px 3px 1px rgba(60, 64, 67, 0.15);\n",
              "      fill: #174EA6;\n",
              "    }\n",
              "\n",
              "    [theme=dark] .colab-df-convert {\n",
              "      background-color: #3B4455;\n",
              "      fill: #D2E3FC;\n",
              "    }\n",
              "\n",
              "    [theme=dark] .colab-df-convert:hover {\n",
              "      background-color: #434B5C;\n",
              "      box-shadow: 0px 1px 3px 1px rgba(0, 0, 0, 0.15);\n",
              "      filter: drop-shadow(0px 1px 2px rgba(0, 0, 0, 0.3));\n",
              "      fill: #FFFFFF;\n",
              "    }\n",
              "  </style>\n",
              "\n",
              "      <script>\n",
              "        const buttonEl =\n",
              "          document.querySelector('#df-3e7aeb29-58c4-4fb0-9daf-c5bd75dc0928 button.colab-df-convert');\n",
              "        buttonEl.style.display =\n",
              "          google.colab.kernel.accessAllowed ? 'block' : 'none';\n",
              "\n",
              "        async function convertToInteractive(key) {\n",
              "          const element = document.querySelector('#df-3e7aeb29-58c4-4fb0-9daf-c5bd75dc0928');\n",
              "          const dataTable =\n",
              "            await google.colab.kernel.invokeFunction('convertToInteractive',\n",
              "                                                     [key], {});\n",
              "          if (!dataTable) return;\n",
              "\n",
              "          const docLinkHtml = 'Like what you see? Visit the ' +\n",
              "            '<a target=\"_blank\" href=https://colab.research.google.com/notebooks/data_table.ipynb>data table notebook</a>'\n",
              "            + ' to learn more about interactive tables.';\n",
              "          element.innerHTML = '';\n",
              "          dataTable['output_type'] = 'display_data';\n",
              "          await google.colab.output.renderOutput(dataTable, element);\n",
              "          const docLink = document.createElement('div');\n",
              "          docLink.innerHTML = docLinkHtml;\n",
              "          element.appendChild(docLink);\n",
              "        }\n",
              "      </script>\n",
              "    </div>\n",
              "  </div>\n",
              "  "
            ],
            "text/plain": [
              "  activity_day    workout_type  distance  time  calories  total_steps  \\\n",
              "0   2022-01-01       Freestyle      9.30    77       123          NaN   \n",
              "1   2022-01-01       Freestyle      3.44    96        55          NaN   \n",
              "2   2022-01-01  Indoor Cycling      6.34    85        33          NaN   \n",
              "3   2022-01-01         Walking      7.91    42        82       1571.0   \n",
              "4   2022-01-01      Open Water      8.99    36       131          NaN   \n",
              "\n",
              "   avg_speed  avg_cadence  max_cadence  avg_pace  ... min_pace avg_heart_rate  \\\n",
              "0      18.88       168.54       138.30       NaN  ...      NaN          112.5   \n",
              "1      29.65       125.92       292.81       NaN  ...      NaN          111.0   \n",
              "2      17.85        81.93       323.69       NaN  ...      NaN           95.0   \n",
              "3      22.10        29.63       180.16  7.966667  ...    07:58           83.0   \n",
              "4      25.83        64.55       342.89       NaN  ...      NaN          138.0   \n",
              "\n",
              "   max_heart_rate  min_heart_rate  vo2_max  aerobic  anaerobic  intensive  \\\n",
              "0           122.0             103       19       28          2          7   \n",
              "1           122.0             100       42       28          2         29   \n",
              "2            90.0             100        1       32          0         22   \n",
              "3            85.0              81        3       22          0         24   \n",
              "4           166.0             110        7        0          5         21   \n",
              "\n",
              "   light  aerobic_indicator  \n",
              "0     50              False  \n",
              "1     88              False  \n",
              "2     43               True  \n",
              "3     65              False  \n",
              "4     88              False  \n",
              "\n",
              "[5 rows x 21 columns]"
            ]
          },
          "metadata": {},
          "execution_count": 19
        }
      ]
    },
    {
      "cell_type": "markdown",
      "source": [
        "###I. Which day of the week (Monday, Tuesday, etc.) and ‘workout type‘ has the maximum of the ‘max cadence’"
      ],
      "metadata": {
        "id": "HzttIcqX_BB9"
      }
    },
    {
      "cell_type": "code",
      "source": [
        "df1 = df.loc[df['max_cadence'] == df['max_cadence'].max()]\n",
        "\n",
        "print('day_of_week = ' + df1.activity_day.dt.day_name().iloc[0])\n",
        "print('workout_type = ' + df1.workout_type.iloc[0])"
      ],
      "metadata": {
        "colab": {
          "base_uri": "https://localhost:8080/"
        },
        "id": "ziuKcUCs_DqK",
        "outputId": "ca674623-6dfe-4bc3-c77f-285139640f9c"
      },
      "execution_count": 23,
      "outputs": [
        {
          "output_type": "stream",
          "name": "stdout",
          "text": [
            "day_of_week = Wednesday\n",
            "workout_type = Pool Swimming\n"
          ]
        }
      ]
    },
    {
      "cell_type": "markdown",
      "source": [
        "#2."
      ],
      "metadata": {
        "id": "oLgcf20lFzTY"
      }
    },
    {
      "cell_type": "markdown",
      "source": [
        "A. Approximately how long did you work on this exam?"
      ],
      "metadata": {
        "id": "YGKzTX6gF1hE"
      }
    },
    {
      "cell_type": "markdown",
      "source": [
        "I spent approximately 4 hours on this exam."
      ],
      "metadata": {
        "id": "FqhzQAk4F5fT"
      }
    },
    {
      "cell_type": "markdown",
      "source": [
        "B. Which was the hardest and easiest topic from this section?"
      ],
      "metadata": {
        "id": "C4wTDz_mGAzZ"
      }
    },
    {
      "cell_type": "markdown",
      "source": [
        "The hardest pasrt was number I, I spent most of my time finding solution for that specefic problem.\n",
        "\n",
        "I think the easiest part was number G, to find mean median of a specefic dataset."
      ],
      "metadata": {
        "id": "LuIeiuhtGFJ7"
      }
    },
    {
      "cell_type": "markdown",
      "source": [
        "C. Which method of cleaning data should I have spent more instructional time on?"
      ],
      "metadata": {
        "id": "fERO8kdzGSyr"
      }
    },
    {
      "cell_type": "markdown",
      "source": [
        "In my opinion regualar expression might come handy in the future."
      ],
      "metadata": {
        "id": "FM0GpYV2G67F"
      }
    }
  ]
}