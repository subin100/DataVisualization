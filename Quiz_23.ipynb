{
  "nbformat": 4,
  "nbformat_minor": 0,
  "metadata": {
    "colab": {
      "name": "Quiz 23.ipynb",
      "provenance": [],
      "collapsed_sections": [],
      "authorship_tag": "ABX9TyMbBjw2OY8SwVEChQRvcsKE",
      "include_colab_link": true
    },
    "kernelspec": {
      "name": "python3",
      "display_name": "Python 3"
    },
    "language_info": {
      "name": "python"
    }
  },
  "cells": [
    {
      "cell_type": "markdown",
      "metadata": {
        "id": "view-in-github",
        "colab_type": "text"
      },
      "source": [
        "<a href=\"https://colab.research.google.com/github/subin100/DataVisualization/blob/main/Quiz_23.ipynb\" target=\"_parent\"><img src=\"https://colab.research.google.com/assets/colab-badge.svg\" alt=\"Open In Colab\"/></a>"
      ]
    },
    {
      "cell_type": "markdown",
      "source": [
        "##Subin Manandhar\n",
        "##Quiz 23\n",
        "##Data Visualization"
      ],
      "metadata": {
        "id": "VZzFXhwhq7n-"
      }
    },
    {
      "cell_type": "markdown",
      "source": [
        "[Bruno Fernandes Stats](https://thepeoplesperson.com/2021/09/09/bruno-fernandes-impact-at-manchester-united-in-numbers-goals-assists-shots-and-more-237338/)\n",
        "![Bruno](https://thepeoplesperson.com/wp-content/uploads/2021/09/bruno-fernandes-stats.jpeg)"
      ],
      "metadata": {
        "id": "VI40i4Fme5JR"
      }
    },
    {
      "cell_type": "markdown",
      "source": [
        "This statistical graph might be the perfect example to show graphical excellence, sophistication, and integrity. \n",
        "This is the picture of a well known Portuguese player plays for an English club, Manchester United. He's been the most form player in the league since he joined the league. The graph shows most of his stats and ranks them among the other players in the league. The graph is very well described and easy to follow. It shows all his numbers since Feb 2020. The most noticeable ones are his goal and assist record which is the highest in the league since. 2020. This graph has also provided some complicated stats like Expected Assists with clarity and efficiency. This graph tries to show a clear picture of how a player is performing in the game. According to this graph, He is the most informed player in the league. But the graph is very one-dimensional. This graph is showing only the things that they want to show and diverts them from reality. \n",
        "This graph fails to tell us that most of his goals are penalties. Most of his chance created which is 2nd highest in the league are free kicks and corners.\n",
        "The most important skill of a midfielder is to not loose a possession of a ball but this player is ranked highest to loose ball possession which is not discussed in this graph. These graphics are very basic and doesn’t portrayed a real picture of a player."
      ],
      "metadata": {
        "id": "0_lyAi8TfbXz"
      }
    },
    {
      "cell_type": "markdown",
      "source": [
        "[Ronaldo Shirt Sales](https://twitter.com/SneakerShouts/status/1018889220054798336)\n",
        "![Ronaldo](https://media-exp1.licdn.com/dms/image/C4E12AQELo_k88tQuBQ/article-inline_image-shrink_1500_2232/0/1590589234212?e=1654128000&v=beta&t=v4t5WgfLXCUcYTTKQszdJtelAkOfZoVE3GGE9eygwOg)"
      ],
      "metadata": {
        "id": "Wid5-Tkamg9e"
      }
    },
    {
      "cell_type": "markdown",
      "source": [
        "This graph shows the total number of jersey sold by an Italian club, Juventus in 2016, total number of jersey sold by Juventus in first day after signing Cristiano Ronaldo and Number of jerseys sols by PSG when they signed Neymar from Barcelona. This bar graph is very easy to follow. It gives all the clear idea of what the creator is trying to say. This graph shows the huge difference of total number of jersey sold by the club after signing Ronaldo. Even if this graph is quiet boring, the information in the graph is very clear.\n",
        "But according to Edward Tfte's principle of graphical integrity, \"The representation of numbers, as physically measured on the surface of the graphic itself, should be directly proportional to the numerical quantities measured\". A classic case of misrepresentation of data is when a chart is created with a scale that is completely off. In the example shown below, there are many mistakes, but the glaring error is the scale. The comparison between 850k and 520k is very misleading. "
      ],
      "metadata": {
        "id": "p6KSHHdin0Lv"
      }
    },
    {
      "cell_type": "markdown",
      "source": [
        ""
      ],
      "metadata": {
        "id": "k4nHu_jJq6be"
      }
    }
  ]
}