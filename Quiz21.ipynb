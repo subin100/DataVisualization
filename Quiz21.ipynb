{
  "nbformat": 4,
  "nbformat_minor": 0,
  "metadata": {
    "colab": {
      "name": "Quiz21.ipynb",
      "provenance": [],
      "authorship_tag": "ABX9TyML225BL0p7nXQS1ZIX7/77",
      "include_colab_link": true
    },
    "kernelspec": {
      "name": "python3",
      "display_name": "Python 3"
    },
    "language_info": {
      "name": "python"
    }
  },
  "cells": [
    {
      "cell_type": "markdown",
      "metadata": {
        "id": "view-in-github",
        "colab_type": "text"
      },
      "source": [
        "<a href=\"https://colab.research.google.com/github/subin100/DataVisualization/blob/main/Quiz21.ipynb\" target=\"_parent\"><img src=\"https://colab.research.google.com/assets/colab-badge.svg\" alt=\"Open In Colab\"/></a>"
      ]
    },
    {
      "cell_type": "markdown",
      "source": [
        "##Subin Manandhar\n",
        "##Data Visualization\n",
        "##Quiz 21"
      ],
      "metadata": {
        "id": "XSKW2OHh6e-K"
      }
    },
    {
      "cell_type": "markdown",
      "source": [
        "### Lets pull out Jon Snow's Map first"
      ],
      "metadata": {
        "id": "zn5UE6IQC-3S"
      }
    },
    {
      "cell_type": "markdown",
      "source": [
        "![john Snow](https://upload.wikimedia.org/wikipedia/commons/2/27/Snow-cholera-map-1.jpg)"
      ],
      "metadata": {
        "id": "X-OpJ3RPC40g"
      }
    },
    {
      "cell_type": "markdown",
      "source": [
        "In 1854, Dr. John Snow used the power of mapping to identify the source of a cholera outbreak in London. The map he created based on survey data allowed him to see a clear pattern that no one had noticed yet and ultimately determine the source of the outbreak. \n",
        "\n",
        "The map provided in helping people understand how cholera was spreading, it also exemplified a seismic shift in thinking that opened up new avenues for data to be analyzed and displayed.\n",
        "From this graphical representation of Jon Snow's map od cholera we can see that black box represnts the area affected part. It looks like broad street is the most affected part \n",
        "\n",
        "The black dots represetnts pumps So from this picture we can assume that the contaminated pump is located at the intersection of Broad Street and Cambridge Street, running into Little Windmill Street"
      ],
      "metadata": {
        "id": "74fVStstEJmL"
      }
    }
  ]
}