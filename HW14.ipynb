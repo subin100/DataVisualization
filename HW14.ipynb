{
  "nbformat": 4,
  "nbformat_minor": 0,
  "metadata": {
    "colab": {
      "name": "HW14.ipynb",
      "provenance": [],
      "collapsed_sections": [],
      "authorship_tag": "ABX9TyOUKsPAKzn2O+SQCuTxMIng",
      "include_colab_link": true
    },
    "kernelspec": {
      "name": "python3",
      "display_name": "Python 3"
    },
    "language_info": {
      "name": "python"
    }
  },
  "cells": [
    {
      "cell_type": "markdown",
      "metadata": {
        "id": "view-in-github",
        "colab_type": "text"
      },
      "source": [
        "<a href=\"https://colab.research.google.com/github/subin100/DataVisualization/blob/main/HW14.ipynb\" target=\"_parent\"><img src=\"https://colab.research.google.com/assets/colab-badge.svg\" alt=\"Open In Colab\"/></a>"
      ]
    },
    {
      "cell_type": "markdown",
      "source": [
        "###Subin Manandhar\n",
        "###Data Visualization\n",
        "###HW 14"
      ],
      "metadata": {
        "id": "cATMHhy_JxyC"
      }
    },
    {
      "cell_type": "markdown",
      "source": [
        "Declaring strings to variables"
      ],
      "metadata": {
        "id": "OAjrZFKeJRU_"
      }
    },
    {
      "cell_type": "code",
      "execution_count": 2,
      "metadata": {
        "id": "PHC-sY9eH4Iz"
      },
      "outputs": [],
      "source": [
        "H = 'Happy Birthday to you'"
      ]
    },
    {
      "cell_type": "code",
      "source": [
        "A = 'Happy Birthday to you'"
      ],
      "metadata": {
        "id": "zH9N4J-WIp6j"
      },
      "execution_count": 3,
      "outputs": []
    },
    {
      "cell_type": "code",
      "source": [
        "P = 'Happy Birthday, Subin'"
      ],
      "metadata": {
        "id": "YJUFZKX6JEKQ"
      },
      "execution_count": 4,
      "outputs": []
    },
    {
      "cell_type": "code",
      "source": [
        "Y = 'Happy Birthday to you'"
      ],
      "metadata": {
        "id": "MEAkNwK6JJLR"
      },
      "execution_count": 5,
      "outputs": []
    },
    {
      "cell_type": "markdown",
      "source": [
        "Now printing Strings.."
      ],
      "metadata": {
        "id": "2NC8El-MJYN7"
      }
    },
    {
      "cell_type": "code",
      "source": [
        "print(H)\n",
        "print(A)\n",
        "print(P)\n",
        "print(Y)"
      ],
      "metadata": {
        "colab": {
          "base_uri": "https://localhost:8080/"
        },
        "id": "t2D3oBWbJfe3",
        "outputId": "26a1261b-5b1f-4bc7-ea15-aaca5411b2ed"
      },
      "execution_count": 6,
      "outputs": [
        {
          "output_type": "stream",
          "name": "stdout",
          "text": [
            "Happy Birthday to you\n",
            "Happy Birthday to you\n",
            "Happy Birthday, Subin\n",
            "Happy Birthday to you\n"
          ]
        }
      ]
    }
  ]
}