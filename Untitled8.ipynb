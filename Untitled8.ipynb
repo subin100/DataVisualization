{
  "cells": [
    {
      "cell_type": "markdown",
      "metadata": {
        "id": "view-in-github",
        "colab_type": "text"
      },
      "source": [
        "<a href=\"https://colab.research.google.com/github/subin100/DataVisualization/blob/main/Untitled8.ipynb\" target=\"_parent\"><img src=\"https://colab.research.google.com/assets/colab-badge.svg\" alt=\"Open In Colab\"/></a>"
      ]
    },
    {
      "cell_type": "code",
      "execution_count": null,
      "metadata": {
        "colab": {
          "base_uri": "https://localhost:8080/"
        },
        "id": "_CY69DHcK4NV",
        "outputId": "38834166-2d0d-4771-da41-6fd3724a61b5"
      },
      "outputs": [
        {
          "name": "stdout",
          "output_type": "stream",
          "text": [
            "Authenticated\n"
          ]
        }
      ],
      "source": [
        "from google.colab import auth\n",
        "auth.authenticate_user()\n",
        "print('Authenticated')"
      ]
    },
    {
      "cell_type": "code",
      "execution_count": null,
      "metadata": {
        "colab": {
          "background_save": true,
          "base_uri": "https://localhost:8080/",
          "height": 424
        },
        "id": "1oszRbZMMYJq",
        "outputId": "7cca6b14-975a-48c1-9ab5-4ca1066e7b99"
      },
      "outputs": [
        {
          "name": "stdout",
          "output_type": "stream",
          "text": [
            "Executing query with job ID: ffa737dd-440d-4d18-855b-239eb790b5b7\n",
            "\rQuery executing: 0.24s"
          ]
        },
        {
          "name": "stderr",
          "output_type": "stream",
          "text": [
            "\n",
            "ERROR:\n",
            " 400 Syntax error: Expected end of input but got keyword SELECT at [2:1]\n",
            "\n",
            "(job ID: ffa737dd-440d-4d18-855b-239eb790b5b7)\n",
            "\n",
            "                 -----Query Job SQL Follows-----                 \n",
            "\n",
            "    |    .    |    .    |    .    |    .    |    .    |    .    |\n",
            "   1:SELECT COUNT(*) as number_trips, start_station_name\n",
            "   2:SELECT MAX(state_bottle_retail) as max_state_bottle_retail\n",
            "   3:FROM `bigquery-public-data.austin_bikeshare.bikeshare_trips`\n",
            "   4:GROUP BY start_station_name\n",
            "   5:ORDER BY number_trips DESC\n",
            "    |    .    |    .    |    .    |    .    |    .    |    .    |\n"
          ]
        }
      ],
      "source": [
        "%%bigquery --project datavisualization-338803\n",
        "\n",
        "SELECT COUNT(*) as number_trips, start_station_name\n",
        "FROM `bigquery-public-data.austin_bikeshare.bikeshare_trips`\n",
        "GROUP BY start_station_name\n",
        "ORDER BY number_trips DESC"
      ]
    },
    {
      "cell_type": "code",
      "execution_count": null,
      "metadata": {
        "colab": {
          "base_uri": "https://localhost:8080/"
        },
        "id": "DJA89pD9Lk2m",
        "outputId": "045c749f-0b1e-430e-fd39-dc39225c6ef7"
      },
      "outputs": [
        {
          "name": "stdout",
          "output_type": "stream",
          "text": [
            "Executing query with job ID: bc628111-d8d5-495d-99f5-dec4280ebfad\n",
            "\rQuery executing: 0.32s"
          ]
        },
        {
          "name": "stderr",
          "output_type": "stream",
          "text": [
            "\n",
            "ERROR:\n",
            " 400 Unrecognized name: number_trips at [3:26]\n",
            "\n",
            "(job ID: bc628111-d8d5-495d-99f5-dec4280ebfad)\n",
            "\n",
            "                 -----Query Job SQL Follows-----                 \n",
            "\n",
            "    |    .    |    .    |    .    |    .    |    .    |    .    |\n",
            "   1:WITH table as (\n",
            "   2:SELECT COUNT(*) as number_trips, start_station_name\n",
            "   3:  , RANK() OVER(ORDER BY number_trips DESC) as rank_by_trips\n",
            "   4:FROM `bigquery-public-data.austin_bikeshare.bikeshare_trips`\n",
            "   5:\n",
            "   6:GROUP BY start_station_name\n",
            "   7:)\n",
            "   8:\n",
            "   9:SELECT start_station_name as second_highest_price\n",
            "  10:FROM table\n",
            "  11:WHERE rank_by_trips = 2\n",
            "  12:ORDER BY rank_by_trips DESC\n",
            "    |    .    |    .    |    .    |    .    |    .    |    .    |\n"
          ]
        }
      ],
      "source": [
        "%%bigquery --project datavisualization-338803\n",
        "\n",
        "WITH table as (\n",
        "SELECT COUNT(*) as number_trips, start_station_name\n",
        "  , RANK() OVER(ORDER BY number_trips DESC) as rank_by_trips\n",
        "FROM `bigquery-public-data.austin_bikeshare.bikeshare_trips`\n",
        "\n",
        "GROUP BY start_station_name\n",
        ")\n",
        "\n",
        "SELECT start_station_name as second_highest_price\n",
        "FROM table\n",
        "WHERE rank_by_trips = 2\n",
        "ORDER BY rank_by_trips DESC"
      ]
    }
  ],
  "metadata": {
    "colab": {
      "name": "Untitled8.ipynb",
      "provenance": [],
      "authorship_tag": "ABX9TyPtKGOvCvOAwa8T5dcX0Ae/",
      "include_colab_link": true
    },
    "kernelspec": {
      "display_name": "Python 3",
      "name": "python3"
    },
    "language_info": {
      "name": "python"
    }
  },
  "nbformat": 4,
  "nbformat_minor": 0
}